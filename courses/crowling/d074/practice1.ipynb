{
 "cells": [
  {
   "cell_type": "code",
   "execution_count": 10,
   "metadata": {},
   "outputs": [],
   "source": [
    "from bs4 import BeautifulSoup\n",
    "import requests\n",
    "url = \"https://pythonscraping.com/pages/page3.html\"\n",
    "req = requests.get(url)"
   ]
  },
  {
   "cell_type": "code",
   "execution_count": 12,
   "metadata": {},
   "outputs": [
    {
     "data": {
      "text/plain": [
       "'<!DOCTYPE html>\\n<!--[if lt IE 7]> <html class=\"no-js ie6 oldie\" lang=\"en-US\"> <![endif]-->\\n<!--[if IE 7]>    <html class=\"no-js ie7 oldie\" lang=\"en-US\"> <![endif]-->\\n<!--[if IE 8]>    <html class=\"no-js ie8 oldie\" lang=\"en-US\"> <![endif]-->\\n<!--[if gt IE 8]><!--> <html class=\"no-js\" lang=\"en-US\"> <!--<![endif]-->\\n<head>\\n\\n<title>Please Wait... | Cloudflare</title>\\n  \\n<meta name=\"captcha-bypass\" id=\"captcha-bypass\" />\\n<meta charset=\"UTF-8\" />\\n<meta http-equiv=\"Content-Type\" content=\"text/html; charset=UTF-8\" />\\n<meta http-equiv=\"X-UA-Compatible\" content=\"IE=Edge,chrome=1\" />\\n<meta name=\"robots\" content=\"noindex, nofollow\" />\\n<meta name=\"viewport\" content=\"width=device-width,initial-scale=1\" />\\n<link rel=\"stylesheet\" id=\"cf_styles-css\" href=\"/cdn-cgi/styles/cf.errors.css\" type=\"text/css\" media=\"screen,projection\" />\\n<!--[if lt IE 9]><link rel=\"stylesheet\" id=\\'cf_styles-ie-css\\' href=\"/cdn-cgi/styles/cf.errors.ie.css\" type=\"text/css\" media=\"screen,projection\" /><![endif]-->\\n<style type=\"text/css\">body{margin:0;padding:0}</style>\\n\\n\\n<!--[if gte IE 10]><!-->\\n<script>\\n  if (!navigator.cookieEnabled) {\\n    window.addEventListener(\\'DOMContentLoaded\\', function () {\\n      var cookieEl = document.getElementById(\\'cookie-alert\\');\\n      cookieEl.style.display = \\'block\\';\\n    })\\n  }\\n</script>\\n<!--<![endif]-->\\n\\n\\n  \\n    <script type=\"text/javascript\">\\n    //<![CDATA[\\n    (function(){\\n      window._cf_chl_opt={\\n        cvId: \"2\",\\n        cType: \"managed\",\\n        cNounce: \"88537\",\\n        cRay: \"6cdc8bd16b2d6183\",\\n        cHash: \"db367b13c4498df\",\\n        cUPMDTk: \"\",\\n        cFPWv: \"b\",\\n        cTTimeMs: \"1000\",\\n        cLt: \"n\",\\n        cRq: {\\n          ru: \"aHR0cHM6Ly9uYW11Lndpa2kvUmVjZW50Q2hhbmdlcw==\",\\n          ra: \"cHl0aG9uLXJlcXVlc3RzLzIuMjYuMA==\",\\n          rm: \"R0VU\",\\n          d: \"wROTGNgM/10cuk2Qbwk3STkzOS6RTPHMriqnWtWl2GzJfxBBQQQgLUVblGvJNb2OAUouKUtra6Fl3tBy+fQhnNFgSsFHYuPcLYUpC7buBzP1za2B6SoaCj3eu6v/lL8ZY0WirD1f+b8xJUqZB3V4QNQod3uBCZVYAJLzPHXNunAKfxcUXfKKKh3W1DkUc2JLySGO7Uh599l0qgc0kEYuhHAHF1c7JchDg6B0+kUXc00kcObgqqUsw5lXAHv8YSf6zxQiPhX3WiQv4meTFLfYHExy4GmWpy/2Bqi1+9gXO3FZhNr19B2ez5wSx8coranARVIR6uTvdw9WvzDenhl+Wv2o0a/dXkQP0eCUhWjvpnBYMNQN/Nxp/vW6pkf2bCqMKVCVDbodVxCz6gPQUrmjjpqoXzndnmZ2eEQfzf4unrgy7iVhrhfJQKAHmFheVSQ6schwmyirlr0Jz98/x0MafPLKoxpMbnkZw+6K7VrNo7HgObFffZVdDIEO+Hdi8l5wi+Ds9vYH8UfPaGyHpuWlW9MtZB5ssFY6N/utLu9QRc8f8vd80bk90GYnvKP87CqqE3ikJhVcyQ8CKHss2iBmuz/uiAjJKSDLZIuBIXhWHiUd7A/SDqRF4+Ua1qm3UtfddZ7/mCM7CVvcPZHhInxcThperZ44NO26QzASSl0pABM=\",\\n          t: \"MTY0MjIyMjg4Ni42MjQwMDA=\",\\n          m: \"MhUPe97Je7284VzUKPUKfrCUfGl5Qi9NK55Z7SN4h6o=\",\\n          i1: \"XIjq3WeAF+u7NDOJ5b4ZCw==\",\\n          i2: \"FPGmDjUsrepiQzwGUK9dsQ==\",\\n          zh: \"m8uLQymzcNrDBUWxIxJVRWWsai2gcUDknsM9ZyUGxkE=\",\\n          uh: \"xaa5dII6Z3KyYGzGAu/zTXOfAYzLW3WlpO4dxW/Wc8c=\",\\n          hh: \"jeNn0+60emESsWxgCwQYeRlqvrbki4H9y8kT5uzN11k=\",\\n        }\\n      };\\n    }());\\n    //]]>\\n    </script>\\n  \\n\\n<style type=\"text/css\">\\n  #cf-wrapper #spinner {width:69px; margin:  auto;}\\n  #cf-wrapper #cf-please-wait{text-align:center}\\n  .attribution {margin-top: 32px;}\\n  .bubbles { background-color: #f58220; width:20px; height: 20px; margin:2px; border-radius:100%; display:inline-block; }\\n  #cf-wrapper #challenge-form { padding-top:25px; padding-bottom:25px; }\\n  #cf-hcaptcha-container { text-align:center;}\\n  #cf-hcaptcha-container iframe { display: inline-block;}\\n  @keyframes fader     { 0% {opacity: 0.2;} 50% {opacity: 1.0;} 100% {opacity: 0.2;} }\\n  #cf-wrapper #cf-bubbles { width:69px; }\\n  @-webkit-keyframes fader { 0% {opacity: 0.2;} 50% {opacity: 1.0;} 100% {opacity: 0.2;} }\\n  #cf-bubbles > .bubbles { animation: fader 1.6s infinite;}\\n  #cf-bubbles > .bubbles:nth-child(2) { animation-delay: .2s;}\\n  #cf-bubbles > .bubbles:nth-child(3) { animation-delay: .4s;}\\n</style>\\n</head>\\n<body>\\n  <div id=\"cf-wrapper\">\\n    <div class=\"cf-alert cf-alert-error cf-cookie-error\" id=\"cookie-alert\" data-translate=\"enable_cookies\">Please enable cookies.</div>\\n    <div id=\"cf-error-details\" class=\"cf-error-details-wrapper\">\\n      <div class=\"cf-wrapper cf-header cf-error-overview\">\\n      \\n        <h1 data-translate=\"managed_challenge_headline\">Please wait...</h1>\\n        <h2 class=\"cf-subheadline\"><span data-translate=\"managed_checking_msg\">We are checking your browser...</span> namu.wiki</h2>\\n      \\n      </div>\\n      \\n      <div class=\"cf-section cf-highlight cf-captcha-container\">\\n        <div class=\"cf-wrapper\">\\n          <div class=\"cf-columns two\">\\n            <div class=\"cf-column\">\\n            \\n              <div class=\"cf-highlight-inverse cf-form-stacked\">\\n                <form class=\"challenge-form managed-form\" id=\"challenge-form\" action=\"/RecentChanges?__cf_chl_managed_tk__=tw7FGOJY8AH5eAnr5D8ImTA6806imXIa2Hvd7tjsRzg-1642222886-0-gaNycGzNByU\" method=\"POST\" enctype=\"application/x-www-form-urlencoded\">\\n  \\n    <div id=\\'cf-please-wait\\'>\\n      <div id=\\'spinner\\'>\\n        <div id=\"cf-bubbles\">\\n            <div class=\"bubbles\"></div>\\n            <div class=\"bubbles\"></div>\\n            <div class=\"bubbles\"></div>\\n        </div>\\n      </div>\\n      <p data-translate=\"please_wait\" id=\"cf-spinner-please-wait\">Please stand by, while we are checking your browser...</p>\\n      <p data-translate=\"redirecting\" id=\"cf-spinner-redirecting\" style=\"display:none\">Redirecting...</p>\\n      </div>\\n  \\n  <input type=\"hidden\" name=\"md\" value=\"lL0U9qXoJyMf8WSlgEPOqPyxKeVBqO6Uw.G6IIJjKCc-1642222886-0-AT5C0h17ivTlbfYkmLpoSTV8RsXentcwje6QPLgvFnUPUKS6cmQogy40M_U5NWhhJkJGiUJpNn10cP1lPR_bBkX3wZt7bMnsVxkh-JM4kzVr-2I0Sy-X5ovpPkyopsPaPH48Aji1bpwYGWVpY9OnhoYnMSiWHfICIy-2JYultZUbMz9aXCzZZTZk6IXH8juk3FcfDbaRjSZjg0T3vHZu4jfLb-71SOfa-fwa25LQQR0wZv6YAdZBkjs7AzPwxSY7g0Kz5gOpWdnF6g2qKUsJN79_cHZXyE7UIYQqUmjQV03IOQLjiAFmwLZMMCUiBif4-32_P49xe3P0HZw9AJn0oCPRpg2igNo1-9d86jcImT8R6V4ay9oTf8w5jxH0VNFoR3wUo85hqSbo7j_jRr7QkO6K8zyXnOBtf6FM2QF56irq2RWQ3CJOiTxhmjA3vwtcXOUMzwV_6YaAiUhzHpoIvNnKEby1dlT_U8V2yupAmWZ4LqOpEhRxxP89m05SmDYnk6WN8vvnQwU3jAENi1Wx0fJHg3-ZN6AF6_e0U3q4dqZscEoc4E7UO7I5Huo5dp1lrTQ6TxswJCqEHc9Jbfg-C8HnM9n1T0q34575iEqYKttO9P-FXuO63sQnaWA-2ITJmFg4mgbp6P57ZTVA4oVeZxWPRL7B9DbOjQJeVsgatyrUqm-8ZiSORsdv1eYz3WGTMPqe3bcEGEh13DVykkvqUDDWofHRAckj9f0xIkpnXrm8GBrvNGrKoCpE1oTIPi_Pk9bllCkLwQV33TTbfN2XD_vRRQTn4GvtLcyBAYbMRrld7IE1vKAGnk-XOxq724ZHPkj6S2l71aTjkCJCQijRWgmWAZqeeUWWj6JGUMw4sWev4K9KRExyRI0h6-Aa7pJOaFro9AYZQ9FwkoZnFl0x8yQcDWuCpPlXPt9IdWcIWn3g\" />\\n  <input type=\"hidden\" name=\"r\" value=\"1aFShJ.AfTbL2O.XSOgCdIGR5odyAdoAw8RmvKeLOvU-1642222886-0-Ae4bzW/XUK12lgykXDMxLYVvmXmvq5bQJbeMIrPVEW/vtbktyviZ/GzY6kDMX1erBUAesFN2zkmKAQF/Zx8F4Su5I5vXe8i7NvonllHZVQWe0GkzR13EqspF4dXO4VCNmFgIEX9E/NxIbtTSOwInfBZgucmZ28ZQnmdIOroXYGgfGAGkJdoXAquCO8AmPcjSSgzIxjXE/X2bFn45DfZp8v270qo5xhfKUVYJyDNobxZ6smDpRprpsCli1POhXSzIhPzJ+AIc+sPDLGmcKcQYxyqDjiXTxP3rYe4Ur9yzDgsiPYCi/4AAVHjL8R4+iI8cdp4VhicRYSSGKYUHf78RTa8gaf2/jr+Ds2bIWv63tUeyQe9wo4SgBt9725VdC1lKTdQewKHlMplwFzaocfxQeXfoy5MGx9Vrl3ce4IHsEk6wvCrVLu36bF6xy5y3EhLeS8QKggTe8v93nJPM/Ihs41MN4FxwbTqLR5OUoHzP1pMmvxp9Vfjs61cUvqzLhq3u+F+2Q5+76txKD2VDil4ZFtUdMVaX5QOCJAmCGGGPJhD5BeTp3ZJF+Q+V85u/8GCAvLp6OmKL3EP8F9v0uRaUjJk8biHo242XU2GAdWdOO1qNwXXfXUNNOp6AJitMYvHsf2En9AWbJFogwIog0OXYbzNci5X9KvdBiVPioG/eVPUHsZKI4nP7JJSSfxKJXUGPXYjYvYYJVUnCSeQ9FUB3qHdcln5WuoS3jd0xjClmqW98l7lZ6uEc9c2m/Xqbq7ZZSeS8JSi7ek9IBpb9oIAMaNfCayTi4Vbgdraa48Io6aJG5lYkJdMBsTBQ8nX5/sOsCjbukms+onoC2LKMzyyXYKmJVvz1EJ50Nkx6BhYGfedB09ePJzugCLOL6eJ6Zqa98E/4dJW3YDzYoGJOhxSMNeEX5yfScf5TLImBhLvkibqBS3PaX5tLVT/mXQ5JMfVQB15bmu7WsZN50ZRVq971fxWV587JwfjI3NY3WpQ+IfZIQxbcVLT/tn4jhbPpAfqVP96tpAJgQbtErq5uhb/2kbagRWaEDVvWp7+2r1WxzipgHa6drWIw5TM+2WdUCgApXjZKHcSW8HhFWfm8NNFl3E/HyaHwF0WKEetF22HtQ5uuYQ6ejmrZF4AEJBLpFJWvjia4biiP19nGDnJbzNtiPAyP4Z2I5BcfaHxshB+TTx1py70ERBjFDyvhvxqKofF+Yz3TiWxlFpR9IRSSmxPoYdco1IxXtnJ4WfwOBzB65Iu7g3/cXayk4BguwRKy7tpAjxfmDaXFG1/FRwWAU9j9qqMtlbLlQ+M61z9b70BYlq6UtKcdGvuG7O9LE/hXLCzBKAJ1l0ehISe9ErlVkCWulVbveN6sKBtJH/fSyP25+NUAV2gpthNZS2W0Q8wnbmNiPOh68bt7FkhyTGK9auZiyvR0ExDi8fYhmjpSaDO7vpnjFJgtUTfziulC3+y+Trguj5uwzH1JKTy3QA3d5+WNIc84W71Uxni+hs9a6iKyZW8wL6AnJmGikEj4RHLpVsbdN3xhcNHLX1BC8VwYq9nTZd8NR68Qn/f+fB73OOQ59/bEvqDTLouT7VvWBPGqxVdk69OfwpTN/OuqgxV8zcdX1K0SHWRq6SFFWOTLJUNRtIDlYTALgw2YyLIOvyQWntpChA/GBg9jrMP1qU7TaAYz/AEwgOW2JPcWmS83XMFnQhPhs6n8XhoNyySWntPNvGvARm2dm4MFrnYEgQ1iOvr+6z54C8CLMPaZXLmI/6Ul8+k7\">\\n  <input type=\"hidden\" name=\"cf_captcha_kind\" value=\"h\">\\n  <input type=\"hidden\" name=\"vc\" value=\"6ec03bdf68cfeb89912ee7c867fa94f5\">\\n  \\n  <noscript id=\"cf-captcha-bookmark\" class=\"cf-captcha-info\">\\n  <h1 data-translate=\"turn_on_js\" style=\"color:#bd2426;\">Please turn JavaScript on and reload the page.</h1>\\n  </noscript>\\n    <div id=\"no-cookie-warning\" class=\"cookie-warning\" data-translate=\"turn_on_cookies\" style=\"display:none\">\\n      <p data-translate=\"turn_on_cookies\" style=\"color:#bd2426;\">Please enable Cookies and reload the page.</p>\\n    </div>\\n  <script type=\"text/javascript\">\\n  //<![CDATA[\\n    var a = function() {try{return !!window.addEventListener} catch(e) {return !1} },\\n      b = function(b, c) {a() ? document.addEventListener(\"DOMContentLoaded\", b, c) : document.attachEvent(\"onreadystatechange\", b)};\\n      b(function(){\\n        var cookiesEnabled=(navigator.cookieEnabled)? true : false;\\n        if(!cookiesEnabled){\\n          var q = document.getElementById(\\'no-cookie-warning\\');q.style.display = \\'block\\';\\n        }\\n      });\\n  //]]>\\n  </script>\\n  <div id=\"trk_captcha_js\" style=\"background-image:url(\\'/cdn-cgi/images/trace/captcha/nojs/h/transparent.gif?ray=6cdc8bd16b2d6183\\')\"></div>\\n</form>\\n  \\n  <script type=\"text/javascript\">\\n    //<![CDATA[\\n    (function(){\\n        var isIE = /(MSIE|Trident\\\\/|Edge\\\\/)/i.test(window.navigator.userAgent);\\n        var trkjs = isIE ? new Image() : document.createElement(\\'img\\');\\n        trkjs.setAttribute(\"src\", \"/cdn-cgi/images/trace/managed/js/transparent.gif?ray=6cdc8bd16b2d6183\");\\n        trkjs.id = \"trk_managed_js\";\\n        trkjs.setAttribute(\"alt\", \"\");\\n        document.body.appendChild(trkjs);\\n        var cpo=document.createElement(\\'script\\');\\n        cpo.type=\\'text/javascript\\';\\n        cpo.src=\"/cdn-cgi/challenge-platform/h/b/orchestrate/managed/v1?ray=6cdc8bd16b2d6183\";\\n        \\n        document.getElementsByTagName(\\'head\\')[0].appendChild(cpo);\\n    }());\\n    //]]>\\n    </script>\\n  \\n\\n\\n              </div>\\n            </div>\\n\\n            <div class=\"cf-column\">\\n              <div class=\"cf-screenshot-container\">\\n              \\n                <span class=\"cf-no-screenshot\"></span>\\n              \\n              </div>\\n            </div>\\n          </div>\\n        </div>\\n      </div>\\n\\n      <div class=\"cf-section cf-wrapper\">\\n        <div class=\"cf-columns two\">\\n          <div class=\"cf-column\">\\n            <h2 data-translate=\"why_captcha_headline\">Why do I have to complete a CAPTCHA?</h2>\\n            \\n            <p data-translate=\"why_captcha_detail\">Completing the CAPTCHA proves you are a human and gives you temporary access to the web property.</p>\\n          </div>\\n\\n          <div class=\"cf-column\">\\n            <h2 data-translate=\"resolve_captcha_headline\">What can I do to prevent this in the future?</h2>\\n            \\n\\n            <p data-translate=\"resolve_captcha_antivirus\">If you are on a personal connection, like at home, you can run an anti-virus scan on your device to make sure it is not infected with malware.</p>\\n\\n            <p data-translate=\"resolve_captcha_network\">If you are at an office or shared network, you can ask the network administrator to run a scan across the network looking for misconfigured or infected devices.</p>\\n            \\n              \\n            \\n          </div>\\n        </div>\\n      </div>\\n      \\n\\n      <div class=\"cf-error-footer cf-wrapper w-240 lg:w-full py-10 sm:py-4 sm:px-8 mx-auto text-center sm:text-left border-solid border-0 border-t border-gray-300\">\\n  <p class=\"text-13\">\\n    <span class=\"cf-footer-item sm:block sm:mb-1\">Cloudflare Ray ID: <strong class=\"font-semibold\">6cdc8bd16b2d6183</strong></span>\\n    <span class=\"cf-footer-separator sm:hidden\">&bull;</span>\\n    <span class=\"cf-footer-item sm:block sm:mb-1\"><span>Your IP</span>: 1.220.249.83</span>\\n    <span class=\"cf-footer-separator sm:hidden\">&bull;</span>\\n    <span class=\"cf-footer-item sm:block sm:mb-1\"><span>Performance &amp; security by</span> <a rel=\"noopener noreferrer\" href=\"https://www.cloudflare.com/5xx-error-landing\" id=\"brand_link\" target=\"_blank\">Cloudflare</a></span>\\n    \\n  </p>\\n</div><!-- /.error-footer -->\\n\\n\\n    </div>\\n  </div>\\n\\n  <script type=\"text/javascript\">\\n  window._cf_translation = {};\\n  \\n  \\n</script>\\n\\n\\n</body>\\n</html>\\n'"
      ]
     },
     "execution_count": 12,
     "metadata": {},
     "output_type": "execute_result"
    }
   ],
   "source": [
    "url2 = \"https://namu.wiki/RecentChanges\"\n",
    "req2 = requests.get(url2)\n",
    "req2.text"
   ]
  },
  {
   "cell_type": "code",
   "execution_count": 30,
   "metadata": {},
   "outputs": [],
   "source": [
    "from sys import getsizeof"
   ]
  },
  {
   "cell_type": "code",
   "execution_count": 33,
   "metadata": {},
   "outputs": [
    {
     "data": {
      "text/plain": [
       "b'<html>\\n<head>\\n<style>\\nimg{\\n\\twidth:75px;\\n}\\ntable{\\n\\twidth:50%;\\n}\\ntd{\\n\\tmargin:10px;\\n\\tpadding:10px;\\n}\\n.wrapper{\\n\\twidth:800px;\\n}\\n.excitingNote{\\n\\tfont-style:italic;\\n\\tfont-weight:bold;\\n}\\n</style>\\n</head>\\n<body>\\n<div id=\"wrapper\">\\n<img src=\"../img/gifts/logo.jpg\" style=\"float:left;\">\\n<h1>Totally Normal Gifts</h1>\\n<div id=\"content\">Here is a collection of totally normal, totally reasonable gifts that your friends are sure to love! Our collection is\\nhand-curated by well-paid, free-range Tibetan monks.<p>\\nWe haven\\'t figured out how to make online shopping carts yet, but you can send us a check to:<br>\\n123 Main St.<br>\\nAbuja, Nigeria\\n</br>We will then send your totally amazing gift, pronto! Please include an extra $5.00 for gift wrapping.</div>\\n<table id=\"giftList\">\\n<tr><th>\\nItem Title\\n</th><th>\\nDescription\\n</th><th>\\nCost\\n</th><th>\\nImage\\n</th></tr>\\n\\n<tr id=\"gift1\" class=\"gift\"><td>\\nVegetable Basket\\n</td><td>\\nThis vegetable basket is the perfect gift for your health conscious (or overweight) friends!\\n<span class=\"excitingNote\">Now with super-colorful bell peppers!</span>\\n</td><td>\\n$15.00\\n</td><td>\\n<img src=\"../img/gifts/img1.jpg\">\\n</td></tr>\\n\\n<tr id=\"gift2\" class=\"gift\"><td>\\nRussian Nesting Dolls\\n</td><td>\\nHand-painted by trained monkeys, these exquisite dolls are priceless! And by \"priceless,\" we mean \"extremely expensive\"! <span class=\"excitingNote\">8 entire dolls per set! Octuple the presents!</span>\\n</td><td>\\n$10,000.52\\n</td><td>\\n<img src=\"../img/gifts/img2.jpg\">\\n</td></tr>\\n\\n<tr id=\"gift3\" class=\"gift\"><td>\\nFish Painting\\n</td><td>\\nIf something seems fishy about this painting, it\\'s because it\\'s a fish! <span class=\"excitingNote\">Also hand-painted by trained monkeys!</span>\\n</td><td>\\n$10,005.00\\n</td><td>\\n<img src=\"../img/gifts/img3.jpg\">\\n</td></tr>\\n\\n<tr id=\"gift4\" class=\"gift\"><td>\\nDead Parrot\\n</td><td>\\nThis is an ex-parrot! <span class=\"excitingNote\">Or maybe he\\'s only resting?</span>\\n</td><td>\\n$0.50\\n</td><td>\\n<img src=\"../img/gifts/img4.jpg\">\\n</td></tr>\\n\\n<tr id=\"gift5\" class=\"gift\"><td>\\nMystery Box\\n</td><td>\\nIf you love suprises, this mystery box is for you! Do not place on light-colored surfaces. May cause oil staining. <span class=\"excitingNote\">Keep your friends guessing!</span>\\n</td><td>\\n$1.50\\n</td><td>\\n<img src=\"../img/gifts/img6.jpg\">\\n</td></tr>\\n</table>\\n</p>\\n<div id=\"footer\">\\n&copy; Totally Normal Gifts, Inc. <br>\\n+234 (617) 863-0736\\n</div>\\n\\n</div>\\n</body>\\n</html>\\n'"
      ]
     },
     "execution_count": 33,
     "metadata": {},
     "output_type": "execute_result"
    }
   ],
   "source": [
    "req.content"
   ]
  },
  {
   "cell_type": "code",
   "execution_count": 34,
   "metadata": {},
   "outputs": [
    {
     "data": {
      "text/plain": [
       "'<html>\\n<head>\\n<style>\\nimg{\\n\\twidth:75px;\\n}\\ntable{\\n\\twidth:50%;\\n}\\ntd{\\n\\tmargin:10px;\\n\\tpadding:10px;\\n}\\n.wrapper{\\n\\twidth:800px;\\n}\\n.excitingNote{\\n\\tfont-style:italic;\\n\\tfont-weight:bold;\\n}\\n</style>\\n</head>\\n<body>\\n<div id=\"wrapper\">\\n<img src=\"../img/gifts/logo.jpg\" style=\"float:left;\">\\n<h1>Totally Normal Gifts</h1>\\n<div id=\"content\">Here is a collection of totally normal, totally reasonable gifts that your friends are sure to love! Our collection is\\nhand-curated by well-paid, free-range Tibetan monks.<p>\\nWe haven\\'t figured out how to make online shopping carts yet, but you can send us a check to:<br>\\n123 Main St.<br>\\nAbuja, Nigeria\\n</br>We will then send your totally amazing gift, pronto! Please include an extra $5.00 for gift wrapping.</div>\\n<table id=\"giftList\">\\n<tr><th>\\nItem Title\\n</th><th>\\nDescription\\n</th><th>\\nCost\\n</th><th>\\nImage\\n</th></tr>\\n\\n<tr id=\"gift1\" class=\"gift\"><td>\\nVegetable Basket\\n</td><td>\\nThis vegetable basket is the perfect gift for your health conscious (or overweight) friends!\\n<span class=\"excitingNote\">Now with super-colorful bell peppers!</span>\\n</td><td>\\n$15.00\\n</td><td>\\n<img src=\"../img/gifts/img1.jpg\">\\n</td></tr>\\n\\n<tr id=\"gift2\" class=\"gift\"><td>\\nRussian Nesting Dolls\\n</td><td>\\nHand-painted by trained monkeys, these exquisite dolls are priceless! And by \"priceless,\" we mean \"extremely expensive\"! <span class=\"excitingNote\">8 entire dolls per set! Octuple the presents!</span>\\n</td><td>\\n$10,000.52\\n</td><td>\\n<img src=\"../img/gifts/img2.jpg\">\\n</td></tr>\\n\\n<tr id=\"gift3\" class=\"gift\"><td>\\nFish Painting\\n</td><td>\\nIf something seems fishy about this painting, it\\'s because it\\'s a fish! <span class=\"excitingNote\">Also hand-painted by trained monkeys!</span>\\n</td><td>\\n$10,005.00\\n</td><td>\\n<img src=\"../img/gifts/img3.jpg\">\\n</td></tr>\\n\\n<tr id=\"gift4\" class=\"gift\"><td>\\nDead Parrot\\n</td><td>\\nThis is an ex-parrot! <span class=\"excitingNote\">Or maybe he\\'s only resting?</span>\\n</td><td>\\n$0.50\\n</td><td>\\n<img src=\"../img/gifts/img4.jpg\">\\n</td></tr>\\n\\n<tr id=\"gift5\" class=\"gift\"><td>\\nMystery Box\\n</td><td>\\nIf you love suprises, this mystery box is for you! Do not place on light-colored surfaces. May cause oil staining. <span class=\"excitingNote\">Keep your friends guessing!</span>\\n</td><td>\\n$1.50\\n</td><td>\\n<img src=\"../img/gifts/img6.jpg\">\\n</td></tr>\\n</table>\\n</p>\\n<div id=\"footer\">\\n&copy; Totally Normal Gifts, Inc. <br>\\n+234 (617) 863-0736\\n</div>\\n\\n</div>\\n</body>\\n</html>\\n'"
      ]
     },
     "execution_count": 34,
     "metadata": {},
     "output_type": "execute_result"
    }
   ],
   "source": [
    "req.text"
   ]
  },
  {
   "cell_type": "code",
   "execution_count": 24,
   "metadata": {},
   "outputs": [
    {
     "name": "stdout",
     "output_type": "stream",
     "text": [
      "['Vegetable Basket', 'This vegetable basket is the perfect gift for your health conscious (or overweight) friends!\\nNow with super-colorful bell peppers!', '$15.00', '../img/gifts/img1.jpg']\n",
      "['Russian Nesting Dolls', 'Hand-painted by trained monkeys, these exquisite dolls are priceless! And by \"priceless,\" we mean \"extremely expensive\"! 8 entire dolls per set! Octuple the presents!', '$10,000.52', '../img/gifts/img2.jpg']\n",
      "['Fish Painting', \"If something seems fishy about this painting, it's because it's a fish! Also hand-painted by trained monkeys!\", '$10,005.00', '../img/gifts/img3.jpg']\n",
      "['Dead Parrot', \"This is an ex-parrot! Or maybe he's only resting?\", '$0.50', '../img/gifts/img4.jpg']\n",
      "['Mystery Box', 'If you love suprises, this mystery box is for you! Do not place on light-colored surfaces. May cause oil staining. Keep your friends guessing!', '$1.50', '../img/gifts/img6.jpg']\n"
     ]
    }
   ],
   "source": [
    "origin = BeautifulSoup(req.content)\n",
    "target = origin.select(\".gift\")\n",
    "data = []\n",
    "for tag in target:\n",
    "    data_list = list(map(lambda x: x.text.strip(), list(tag)[:-1])) + [list(tag)[-1].select_one(\"img\").attrs[\"src\"]]\n",
    "    data.append(data_list)\n",
    "print(*data, sep=\"\\n\")\n"
   ]
  },
  {
   "cell_type": "code",
   "execution_count": 10,
   "metadata": {},
   "outputs": [],
   "source": [
    "from selenium import webdriver\n",
    "path = r\"D:\\chromedriver.exe\""
   ]
  },
  {
   "cell_type": "code",
   "execution_count": 11,
   "metadata": {},
   "outputs": [
    {
     "name": "stdout",
     "output_type": "stream",
     "text": [
      "['Vegetable Basket', 'This vegetable basket is the perfect gift for your health conscious (or overweight) friends!\\nNow with super-colorful bell peppers!', '$15.00', '../img/gifts/img1.jpg']\n",
      "['Russian Nesting Dolls', 'Hand-painted by trained monkeys, these exquisite dolls are priceless! And by \"priceless,\" we mean \"extremely expensive\"! 8 entire dolls per set! Octuple the presents!', '$10,000.52', '../img/gifts/img2.jpg']\n",
      "['Fish Painting', \"If something seems fishy about this painting, it's because it's a fish! Also hand-painted by trained monkeys!\", '$10,005.00', '../img/gifts/img3.jpg']\n",
      "['Dead Parrot', \"This is an ex-parrot! Or maybe he's only resting?\", '$0.50', '../img/gifts/img4.jpg']\n",
      "['Mystery Box', 'If you love suprises, this mystery box is for you! Do not place on light-colored surfaces. May cause oil staining. Keep your friends guessing!', '$1.50', '../img/gifts/img6.jpg']\n"
     ]
    }
   ],
   "source": [
    "driver = webdriver.Chrome(executable_path=path)\n",
    "driver.get(url)\n",
    "driver.\n",
    "req = driver.page_source\n",
    "driver.quit()\n",
    "origin = BeautifulSoup(req)\n",
    "raw_datas = origin.select(\".gift\")\n",
    "for tag in target:\n",
    "    data_list = list(map(lambda x: x.text.strip(), list(tag)[:-1])) + [list(tag)[-1].select_one(\"img\").attrs[\"src\"]]\n",
    "    print(data_list)\n"
   ]
  }
 ],
 "metadata": {
  "interpreter": {
   "hash": "2d50253e14af29614bada92e0dbc24bc6096b82e71ba0e7d8f7a05f0357ad166"
  },
  "kernelspec": {
   "display_name": "Python 3.9.7 64-bit ('mybook': conda)",
   "language": "python",
   "name": "python3"
  },
  "language_info": {
   "codemirror_mode": {
    "name": "ipython",
    "version": 3
   },
   "file_extension": ".py",
   "mimetype": "text/x-python",
   "name": "python",
   "nbconvert_exporter": "python",
   "pygments_lexer": "ipython3",
   "version": "3.9.7"
  },
  "orig_nbformat": 4
 },
 "nbformat": 4,
 "nbformat_minor": 2
}
