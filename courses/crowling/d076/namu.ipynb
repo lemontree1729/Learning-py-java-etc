{
 "cells": [
  {
   "cell_type": "code",
   "execution_count": 12,
   "metadata": {},
   "outputs": [],
   "source": [
    "import re\n",
    "import time\n",
    "import datetime\n",
    "from crawling import *"
   ]
  },
  {
   "cell_type": "code",
   "execution_count": 13,
   "metadata": {},
   "outputs": [],
   "source": [
    "def geturl(parsed_html):\n",
    "    result = []\n",
    "    elements = parsed_html.select(\"tbody > tr > td:nth-child(1) > a:nth-child(1)\")\n",
    "    for element in elements:\n",
    "        result.append(\"https://namu.wiki\" + element.attrs.get(\"href\"))\n",
    "    return result\n",
    "\n",
    "def gettime(parsed_html):\n",
    "    alltimes = parsed_html.select(\"tr time\")\n",
    "    lasttime = datetime.datetime(*map(int, re.split(\"[-: ]+\", alltimes[0].text)))\n",
    "    firsttime = datetime.datetime(*map(int, re.split(\"[-: ]+\", alltimes[-1].text)))\n",
    "    return (lasttime - firsttime).seconds//2"
   ]
  },
  {
   "cell_type": "code",
   "execution_count": 14,
   "metadata": {},
   "outputs": [
    {
     "name": "stdout",
     "output_type": "stream",
     "text": [
      "url number: 89\n"
     ]
    }
   ],
   "source": [
    "page_urls = {}\n",
    "origin_url = r\"https://namu.wiki/RecentChanges\"\n",
    "# get urls until input limit\n",
    "url_limit = int(input())\n",
    "while True:\n",
    "    namu_recent = html_parser(origin_url, 5)\n",
    "    if namu_recent is not None:\n",
    "        # get url\n",
    "        for url in geturl(namu_recent):\n",
    "            page_urls[url] = page_urls.get(url, 0) + 1\n",
    "        print(\"url number:\", len(page_urls))\n",
    "        if len(page_urls) > url_limit:\n",
    "            break\n",
    "        # get time dif\n",
    "        timedif = gettime(namu_recent)\n",
    "        print(f\"waiting time: {timedif}s\")\n",
    "        time.sleep(timedif)"
   ]
  },
  {
   "cell_type": "code",
   "execution_count": 15,
   "metadata": {},
   "outputs": [],
   "source": [
    "cnt = 0\n",
    "titles,  categories ,paragraphs = [],[],[]\n",
    "for target_url in page_urls:\n",
    "    if cnt >= 5:\n",
    "        break\n",
    "    cnt += 1\n",
    "    namu_keyword = html_parser(target_url)\n",
    "    if namu_keyword is not None:\n",
    "        article = namu_keyword.select_one(\"article\")\n",
    "        title = get_text(article.select_one(\"h1\"))\n",
    "        raw_categories = list(article.select_one(\"h2\").next_siblings)[-1].select(\"li\")\n",
    "        category = \"&\".join(get_text(raw_categories))\n",
    "        # remove unnecessary info\n",
    "        for i in article.select(\"table\"):         \n",
    "            i.clear()\n",
    "        # get paragraph data\n",
    "        if article.select_one(\".wiki-heading-content\") is None:\n",
    "            raw_paragraphs = article.select(\".wiki-paragraph\")\n",
    "        else:\n",
    "            raw_paragraphs = article.select(\".wiki-heading-content>.wiki-paragraph\")\n",
    "        paragraph = \"&\".join(get_text(raw_paragraphs))\n",
    "        titles.append(title)\n",
    "        categories.append(category)\n",
    "        paragraphs.append(paragraph)"
   ]
  },
  {
   "cell_type": "code",
   "execution_count": 16,
   "metadata": {},
   "outputs": [
    {
     "data": {
      "text/html": [
       "<div>\n",
       "<style scoped>\n",
       "    .dataframe tbody tr th:only-of-type {\n",
       "        vertical-align: middle;\n",
       "    }\n",
       "\n",
       "    .dataframe tbody tr th {\n",
       "        vertical-align: top;\n",
       "    }\n",
       "\n",
       "    .dataframe thead th {\n",
       "        text-align: right;\n",
       "    }\n",
       "</style>\n",
       "<table border=\"1\" class=\"dataframe\">\n",
       "  <thead>\n",
       "    <tr style=\"text-align: right;\">\n",
       "      <th></th>\n",
       "      <th>title</th>\n",
       "      <th>category</th>\n",
       "      <th>paragraph</th>\n",
       "    </tr>\n",
       "  </thead>\n",
       "  <tbody>\n",
       "    <tr>\n",
       "      <th>0</th>\n",
       "      <td>파일:전독시 표지_웹소설 단행본_1부 3권_대만.png</td>\n",
       "      <td>파일/전지적 독자 시점</td>\n",
       "      <td>&amp;이미지의 자세한 설명을 적어 주세요.</td>\n",
       "    </tr>\n",
       "    <tr>\n",
       "      <th>1</th>\n",
       "      <td>신(엘피스 전기)</td>\n",
       "      <td>엘피스 전기/설정</td>\n",
       "      <td>엘피스 전기 시리즈에 나오는 설정이며 신이 되기 위해서는 마나레벨을 100레벨을 찍...</td>\n",
       "    </tr>\n",
       "    <tr>\n",
       "      <th>2</th>\n",
       "      <td>Midnight Guest</td>\n",
       "      <td>프로미스나인/음반 목록&amp;2022년 음반</td>\n",
       "      <td>2022년 1월 17일 발매된 프로미스나인의 4번째 미니 앨범이다.&amp;&amp;&amp;&amp;&amp;   은...</td>\n",
       "    </tr>\n",
       "    <tr>\n",
       "      <th>3</th>\n",
       "      <td>자린고비</td>\n",
       "      <td>한자어</td>\n",
       "      <td>한국의 대표적인 구두쇠, 혹은 구두쇠의 대명사.&amp;자린고비라는 말의 유래에 대해서는 ...</td>\n",
       "    </tr>\n",
       "    <tr>\n",
       "      <th>4</th>\n",
       "      <td>틀:OTT 서비스</td>\n",
       "      <td>둘러보기 틀/방송&amp;VOD</td>\n",
       "      <td>&amp;</td>\n",
       "    </tr>\n",
       "  </tbody>\n",
       "</table>\n",
       "</div>"
      ],
      "text/plain": [
       "                             title               category  \\\n",
       "0  파일:전독시 표지_웹소설 단행본_1부 3권_대만.png            파일/전지적 독자 시점   \n",
       "1                       신(엘피스 전기)               엘피스 전기/설정   \n",
       "2                  Midnight Guest   프로미스나인/음반 목록&2022년 음반   \n",
       "3                            자린고비                     한자어   \n",
       "4                       틀:OTT 서비스           둘러보기 틀/방송&VOD   \n",
       "\n",
       "                                           paragraph  \n",
       "0                              &이미지의 자세한 설명을 적어 주세요.  \n",
       "1  엘피스 전기 시리즈에 나오는 설정이며 신이 되기 위해서는 마나레벨을 100레벨을 찍...  \n",
       "2  2022년 1월 17일 발매된 프로미스나인의 4번째 미니 앨범이다.&&&&&   은...  \n",
       "3  한국의 대표적인 구두쇠, 혹은 구두쇠의 대명사.&자린고비라는 말의 유래에 대해서는 ...  \n",
       "4                                                  &  "
      ]
     },
     "execution_count": 16,
     "metadata": {},
     "output_type": "execute_result"
    }
   ],
   "source": [
    "import pandas\n",
    "df = pandas.DataFrame(data={\"title\":titles, \"category\":categories, \"paragraph\":paragraphs})\n",
    "df"
   ]
  }
 ],
 "metadata": {
  "interpreter": {
   "hash": "2d50253e14af29614bada92e0dbc24bc6096b82e71ba0e7d8f7a05f0357ad166"
  },
  "kernelspec": {
   "display_name": "Python 3.9.7 64-bit ('mybook': conda)",
   "language": "python",
   "name": "python3"
  },
  "language_info": {
   "codemirror_mode": {
    "name": "ipython",
    "version": 3
   },
   "file_extension": ".py",
   "mimetype": "text/x-python",
   "name": "python",
   "nbconvert_exporter": "python",
   "pygments_lexer": "ipython3",
   "version": "3.9.7"
  },
  "orig_nbformat": 4
 },
 "nbformat": 4,
 "nbformat_minor": 2
}
