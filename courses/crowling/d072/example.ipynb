{
 "cells": [
  {
   "cell_type": "code",
   "execution_count": 10,
   "metadata": {},
   "outputs": [],
   "source": [
    "from selenium import webdriver\n",
    "from bs4 import BeautifulSoup\n",
    "import requests\n",
    "import cloudscraper"
   ]
  },
  {
   "cell_type": "code",
   "execution_count": 3,
   "metadata": {},
   "outputs": [],
   "source": [
    "path = r\"D:\\chromedriver.exe\"\n",
    "url = r\"https://namu.wiki/RecentChanges\""
   ]
  },
  {
   "cell_type": "code",
   "execution_count": null,
   "metadata": {},
   "outputs": [],
   "source": [
    "from selenium.webdriver.common.by import By\n",
    "from selenium.webdriver.support.ui import WebDriverWait\n",
    "from selenium.webdriver.support import expected_conditions as EC\n",
    "driver = webdriver.Chrome(executable_path=path)\n",
    "driver.get(url)\n",
    "for _ in range(3):\n",
    "    try:\n",
    "        WebDriverWait(driver, 10).until(EC.presence_of_element_located((By.CLASS_NAME, \"app\")))\n",
    "        req = driver.page_source\n",
    "    except:\n",
    "        req = None"
   ]
  },
  {
   "cell_type": "code",
   "execution_count": 17,
   "metadata": {},
   "outputs": [
    {
     "name": "stdout",
     "output_type": "stream",
     "text": [
      "<!doctype html>\n",
      "<html><head><link href=\"/skins/senkawa/6.78e51ab2220f03bef316.css\" rel=\"stylesheet\"><link href=\"/skins/senkawa/3.3b036d08473e22c4f18f.css\" rel=\"stylesheet\"><script async src='/cdn-cgi/bm/cv/669835187/api.js'></script></head><body><div id=\"app\"><style>#app-loading {  visibility: hidden;  opacity: 0;  position: absolute;  left: 0;  right: 0;  top: 0;  bottom: 0;  display: flex;  justify-content: center;  align-items: center;  flex-direction: column;  animation: appLoadingIn 10s ease;  -webkit-animation: appLoadingIn 10s ease;  animation-fill-mode: forwards;  overflow: hidden;}@keyframes appLoadingIn {  0% {visibility: hidden;opacity: 0;  }  20% {visibility: visible;opacity: 0;  }  100% {visibility: visible;opacity: 1;  }}@-webkit-keyframes appLoadingIn {  0% {visibility: hidden;opacity: 0;  }  20% {visibility: visible;opacity: 0;  }  100% {visibility: visible;opacity: 1;  }}#app-loading>div,#app-loading>div:after {  border-radius: 50%;  width: 5rem;  height: 5rem;}#app-loading>div {  font-size: 10px;  position: relative;  text-indent: -9999em;  border: .5rem solid #F5F5F5;  border-left: .5rem solid white;  -webkit-transform: translateZ(0);  -ms-transform: translateZ(0);  transform: translateZ(0);  -webkit-animation: appLoading 1.1s infinite linear;  animation: appLoading 1.1s infinite linear;}#app-loading.error>div {  border-left: .5rem solid #ff4500;  animation-duration: 5s;}@-webkit-keyframes appLoading {  0% {-webkit-transform: rotate(0deg);transform: rotate(0deg);  }  100% {-webkit-transform: rotate(360deg);transform: rotate(360deg);  }}@keyframes appLoading {  0% {-webkit-transform: rotate(0deg);transform: rotate(0deg);  }  100% {-webkit-transform: rotate(360deg);transform: rotate(360deg);  }}</style><script>window.addEventListener('error', function () {  var e = document.getElementById('app-loading');  if (e) {e.className += ' error';  }});</script><div id=\"app-loading\" aria-live=\"polite\" role=\"status\"><div>Loading...</div></div></div><script type=\"text/javascript\" src=\"/skins/senkawa/manifest.b62e4d154e62cd8f7f93.js\"></script><script type=\"text/javascript\" src=\"/skins/senkawa/vendor.78e51ab2220f03bef316.js\"></script><script type=\"text/javascript\" src=\"/skins/senkawa/main.3b036d08473e22c4f18f.js\"></script><script type=\"text/javascript\">(function(){window['__CF$cv$params']={r:'6ccd02c5cda861c5',m:'TQuH0fITWWpXSWh41ouHSgAoSCH19Od0vlolxU6N6ZI-1642059986-0-AVSfTpXpRSXpWE/Z8eRYK49ZxyywlKKqOoNeibvGNwxoN40aWnWtrxqgMVPTXTm2iSIvzLRU5pAFkfCJwN5huFOkNGj3FCdqYXQwwBkgbF+hAatGHwmztyRP5Ddqvi9Q9w==',s:[0xa5054e1cc1,0xddcd1eed49],}})();</script></body></html>\n",
      "url number: 0\n"
     ]
    },
    {
     "ename": "IndexError",
     "evalue": "list index out of range",
     "output_type": "error",
     "traceback": [
      "\u001b[1;31m---------------------------------------------------------------------------\u001b[0m",
      "\u001b[1;31mIndexError\u001b[0m                                Traceback (most recent call last)",
      "\u001b[1;32m~\\AppData\\Local\\Temp/ipykernel_14768/2607928785.py\u001b[0m in \u001b[0;36m<module>\u001b[1;34m\u001b[0m\n\u001b[0;32m     19\u001b[0m         \u001b[1;32mbreak\u001b[0m\u001b[1;33m\u001b[0m\u001b[1;33m\u001b[0m\u001b[0m\n\u001b[0;32m     20\u001b[0m     \u001b[0malltime\u001b[0m \u001b[1;33m=\u001b[0m \u001b[0mparse_origin\u001b[0m\u001b[1;33m.\u001b[0m\u001b[0mselect\u001b[0m\u001b[1;33m(\u001b[0m\u001b[1;34m\"tr time\"\u001b[0m\u001b[1;33m)\u001b[0m\u001b[1;33m\u001b[0m\u001b[1;33m\u001b[0m\u001b[0m\n\u001b[1;32m---> 21\u001b[1;33m     \u001b[0mlasttime\u001b[0m \u001b[1;33m=\u001b[0m \u001b[0mdatetime\u001b[0m\u001b[1;33m.\u001b[0m\u001b[0mdatetime\u001b[0m\u001b[1;33m(\u001b[0m\u001b[1;33m*\u001b[0m\u001b[0mmap\u001b[0m\u001b[1;33m(\u001b[0m\u001b[0mint\u001b[0m\u001b[1;33m,\u001b[0m \u001b[0mre\u001b[0m\u001b[1;33m.\u001b[0m\u001b[0msplit\u001b[0m\u001b[1;33m(\u001b[0m\u001b[1;34m\"[-: ]+\"\u001b[0m\u001b[1;33m,\u001b[0m \u001b[0malltime\u001b[0m\u001b[1;33m[\u001b[0m\u001b[1;36m0\u001b[0m\u001b[1;33m]\u001b[0m\u001b[1;33m.\u001b[0m\u001b[0mtext\u001b[0m\u001b[1;33m)\u001b[0m\u001b[1;33m)\u001b[0m\u001b[1;33m)\u001b[0m\u001b[1;33m\u001b[0m\u001b[1;33m\u001b[0m\u001b[0m\n\u001b[0m\u001b[0;32m     22\u001b[0m     \u001b[0mfirsttime\u001b[0m \u001b[1;33m=\u001b[0m \u001b[0mdatetime\u001b[0m\u001b[1;33m.\u001b[0m\u001b[0mdatetime\u001b[0m\u001b[1;33m(\u001b[0m\u001b[1;33m*\u001b[0m\u001b[0mmap\u001b[0m\u001b[1;33m(\u001b[0m\u001b[0mint\u001b[0m\u001b[1;33m,\u001b[0m \u001b[0mre\u001b[0m\u001b[1;33m.\u001b[0m\u001b[0msplit\u001b[0m\u001b[1;33m(\u001b[0m\u001b[1;34m\"[-: ]+\"\u001b[0m\u001b[1;33m,\u001b[0m \u001b[0malltime\u001b[0m\u001b[1;33m[\u001b[0m\u001b[1;33m-\u001b[0m\u001b[1;36m1\u001b[0m\u001b[1;33m]\u001b[0m\u001b[1;33m.\u001b[0m\u001b[0mtext\u001b[0m\u001b[1;33m)\u001b[0m\u001b[1;33m)\u001b[0m\u001b[1;33m)\u001b[0m\u001b[1;33m\u001b[0m\u001b[1;33m\u001b[0m\u001b[0m\n\u001b[0;32m     23\u001b[0m     \u001b[0mtimedif\u001b[0m \u001b[1;33m=\u001b[0m \u001b[1;33m(\u001b[0m\u001b[0mlasttime\u001b[0m \u001b[1;33m-\u001b[0m \u001b[0mfirsttime\u001b[0m\u001b[1;33m)\u001b[0m\u001b[1;33m.\u001b[0m\u001b[0mseconds\u001b[0m\u001b[1;33m\u001b[0m\u001b[1;33m\u001b[0m\u001b[0m\n",
      "\u001b[1;31mIndexError\u001b[0m: list index out of range"
     ]
    }
   ],
   "source": [
    "import cloudscraper\n",
    "import re\n",
    "import datetime\n",
    "import time\n",
    "\n",
    "page_urls = {}\n",
    "while True:\n",
    "    scraper = cloudscraper.create_scraper(delay=10)\n",
    "    req = scraper.get(\"https://namu.wiki/RecentChanges\").text\n",
    "    print(req)\n",
    "    parse_origin = BeautifulSoup(req)\n",
    "    elements = parse_origin.select(\"tbody > tr > td:nth-child(1) > a:nth-child(1)\")\n",
    "    for element in elements:\n",
    "        # print(element.text, element.attrs.get(\"href\"))\n",
    "        newurl = \"https://namu.wiki\" + element.attrs.get(\"href\")\n",
    "        page_urls[newurl] = page_urls.get(newurl, 0) + 1\n",
    "    print(\"url number:\", len(page_urls))\n",
    "    if len(page_urls) > 200:\n",
    "        break\n",
    "    alltime = parse_origin.select(\"tr time\")\n",
    "    lasttime = datetime.datetime(*map(int, re.split(\"[-: ]+\", alltime[0].text)))\n",
    "    firsttime = datetime.datetime(*map(int, re.split(\"[-: ]+\", alltime[-1].text)))\n",
    "    timedif = (lasttime - firsttime).seconds\n",
    "    print(\"waiting time:\", timedif//2 ,\"s\")\n",
    "    time.sleep(timedif//2)\n",
    "    driver.refresh()\n",
    "driver.quit()\n",
    "print(page_urls)"
   ]
  },
  {
   "cell_type": "code",
   "execution_count": 8,
   "metadata": {},
   "outputs": [
    {
     "name": "stdout",
     "output_type": "stream",
     "text": [
      "url number: 79\n",
      "waiting time: 81 s\n",
      "url number: 79\n"
     ]
    },
    {
     "ename": "IndexError",
     "evalue": "list index out of range",
     "output_type": "error",
     "traceback": [
      "\u001b[1;31m---------------------------------------------------------------------------\u001b[0m",
      "\u001b[1;31mIndexError\u001b[0m                                Traceback (most recent call last)",
      "\u001b[1;32m~\\AppData\\Local\\Temp/ipykernel_14768/4030759291.py\u001b[0m in \u001b[0;36m<module>\u001b[1;34m\u001b[0m\n\u001b[0;32m     20\u001b[0m         \u001b[1;32mbreak\u001b[0m\u001b[1;33m\u001b[0m\u001b[1;33m\u001b[0m\u001b[0m\n\u001b[0;32m     21\u001b[0m     \u001b[0malltime\u001b[0m \u001b[1;33m=\u001b[0m \u001b[0mparse_origin\u001b[0m\u001b[1;33m.\u001b[0m\u001b[0mselect\u001b[0m\u001b[1;33m(\u001b[0m\u001b[1;34m\"tr time\"\u001b[0m\u001b[1;33m)\u001b[0m\u001b[1;33m\u001b[0m\u001b[1;33m\u001b[0m\u001b[0m\n\u001b[1;32m---> 22\u001b[1;33m     \u001b[0mlasttime\u001b[0m \u001b[1;33m=\u001b[0m \u001b[0mdatetime\u001b[0m\u001b[1;33m.\u001b[0m\u001b[0mdatetime\u001b[0m\u001b[1;33m(\u001b[0m\u001b[1;33m*\u001b[0m\u001b[0mmap\u001b[0m\u001b[1;33m(\u001b[0m\u001b[0mint\u001b[0m\u001b[1;33m,\u001b[0m \u001b[0mre\u001b[0m\u001b[1;33m.\u001b[0m\u001b[0msplit\u001b[0m\u001b[1;33m(\u001b[0m\u001b[1;34m\"[-: ]+\"\u001b[0m\u001b[1;33m,\u001b[0m \u001b[0malltime\u001b[0m\u001b[1;33m[\u001b[0m\u001b[1;36m0\u001b[0m\u001b[1;33m]\u001b[0m\u001b[1;33m.\u001b[0m\u001b[0mtext\u001b[0m\u001b[1;33m)\u001b[0m\u001b[1;33m)\u001b[0m\u001b[1;33m)\u001b[0m\u001b[1;33m\u001b[0m\u001b[1;33m\u001b[0m\u001b[0m\n\u001b[0m\u001b[0;32m     23\u001b[0m     \u001b[0mfirsttime\u001b[0m \u001b[1;33m=\u001b[0m \u001b[0mdatetime\u001b[0m\u001b[1;33m.\u001b[0m\u001b[0mdatetime\u001b[0m\u001b[1;33m(\u001b[0m\u001b[1;33m*\u001b[0m\u001b[0mmap\u001b[0m\u001b[1;33m(\u001b[0m\u001b[0mint\u001b[0m\u001b[1;33m,\u001b[0m \u001b[0mre\u001b[0m\u001b[1;33m.\u001b[0m\u001b[0msplit\u001b[0m\u001b[1;33m(\u001b[0m\u001b[1;34m\"[-: ]+\"\u001b[0m\u001b[1;33m,\u001b[0m \u001b[0malltime\u001b[0m\u001b[1;33m[\u001b[0m\u001b[1;33m-\u001b[0m\u001b[1;36m1\u001b[0m\u001b[1;33m]\u001b[0m\u001b[1;33m.\u001b[0m\u001b[0mtext\u001b[0m\u001b[1;33m)\u001b[0m\u001b[1;33m)\u001b[0m\u001b[1;33m)\u001b[0m\u001b[1;33m\u001b[0m\u001b[1;33m\u001b[0m\u001b[0m\n\u001b[0;32m     24\u001b[0m     \u001b[0mtimedif\u001b[0m \u001b[1;33m=\u001b[0m \u001b[1;33m(\u001b[0m\u001b[0mlasttime\u001b[0m \u001b[1;33m-\u001b[0m \u001b[0mfirsttime\u001b[0m\u001b[1;33m)\u001b[0m\u001b[1;33m.\u001b[0m\u001b[0mseconds\u001b[0m\u001b[1;33m\u001b[0m\u001b[1;33m\u001b[0m\u001b[0m\n",
      "\u001b[1;31mIndexError\u001b[0m: list index out of range"
     ]
    }
   ],
   "source": [
    "import re\n",
    "import datetime\n",
    "import time\n",
    "\n",
    "page_urls = {}\n",
    "driver = webdriver.Chrome(executable_path=path)\n",
    "driver.get(url)\n",
    "while True:\n",
    "    time.sleep(10)\n",
    "    req = driver.page_source\n",
    "    # print(req)\n",
    "    parse_origin = BeautifulSoup(req)\n",
    "    elements = parse_origin.select(\"tbody > tr > td:nth-child(1) > a:nth-child(1)\")\n",
    "    for element in elements:\n",
    "        # print(element.text, element.attrs.get(\"href\"))\n",
    "        newurl = \"https://namu.wiki\" + element.attrs.get(\"href\")\n",
    "        page_urls[newurl] = page_urls.get(newurl, 0) + 1\n",
    "    print(\"url number:\", len(page_urls))\n",
    "    if len(page_urls) > 200:\n",
    "        break\n",
    "    alltime = parse_origin.select(\"tr time\")\n",
    "    lasttime = datetime.datetime(*map(int, re.split(\"[-: ]+\", alltime[0].text)))\n",
    "    firsttime = datetime.datetime(*map(int, re.split(\"[-: ]+\", alltime[-1].text)))\n",
    "    timedif = (lasttime - firsttime).seconds\n",
    "    print(\"waiting time:\", timedif//2 ,\"s\")\n",
    "    time.sleep(timedif//2)\n",
    "    driver.refresh()\n",
    "driver.quit()\n",
    "print(page_urls)\n"
   ]
  },
  {
   "cell_type": "code",
   "execution_count": 32,
   "metadata": {},
   "outputs": [
    {
     "name": "stdout",
     "output_type": "stream",
     "text": [
      "100\n"
     ]
    }
   ],
   "source": [
    "print(len(page_urls))"
   ]
  }
 ],
 "metadata": {
  "interpreter": {
   "hash": "d5b09838a2080352c63bd8bb0f6b339cc018f45e62793166d53521650d8dcb95"
  },
  "kernelspec": {
   "display_name": "Python 3.9.7 64-bit ('pybook': conda)",
   "language": "python",
   "name": "python3"
  },
  "language_info": {
   "codemirror_mode": {
    "name": "ipython",
    "version": 3
   },
   "file_extension": ".py",
   "mimetype": "text/x-python",
   "name": "python",
   "nbconvert_exporter": "python",
   "pygments_lexer": "ipython3",
   "version": "3.9.7"
  },
  "orig_nbformat": 4
 },
 "nbformat": 4,
 "nbformat_minor": 2
}
