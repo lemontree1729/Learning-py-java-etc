{
 "cells": [
  {
   "cell_type": "code",
   "execution_count": 1,
   "metadata": {},
   "outputs": [],
   "source": [
    "from bs4 import BeautifulSoup\n",
    "import requests\n",
    "import re"
   ]
  },
  {
   "cell_type": "code",
   "execution_count": 16,
   "metadata": {},
   "outputs": [
    {
     "name": "stdout",
     "output_type": "stream",
     "text": [
      "후1「부사」:입을 동글게 오므려 내밀고 입김을 많이 내뿜는 소리. 또는 그 모양\n",
      "후2「감탄사」:「1」 일이 고되어서 힘에 부치거나 시름이 있을 때 크고 길게 내쉬는 소리.=후유\n",
      "후3(后)「명사」:우리나라 성(姓)의 하나. 본관은 당인(唐寅) 하나뿐이다\n",
      "후4(后)「명사」:임금의 아내.=후비\n",
      "후5(厚) ‘후하다’의 어근\n",
      "후6(侯)「명사」:「1」 다섯 등급으로 나눈 귀족의 작위 가운데 둘째 작위. 또는 그 작위에 있는 사람. 공작의 아래, 백작의 위이다.=후작\n",
      "후7(侯)「명사」:『체육』 국궁에서 쓰는 가장 작은 무명 과녁.=소포\n",
      "후8(後)「명사」:「1」 뒤나 다음\n",
      "후9(候)「명사」:닷새 동안을 이르는 말\n",
      "후10(堠)「명사」:『역사』 이정(里程)을 표시하기 위하여 쌓던, 조금 높직한 평지.=이후\n"
     ]
    }
   ],
   "source": [
    "user_input = input()\n",
    "url = f\"https://stdict.korean.go.kr/search/searchResult.do?pageSize=10&searchKeyword={user_input}\"\n",
    "req = requests.get(url)\n",
    "soup = BeautifulSoup(req.text)\n",
    "def preData(data):\n",
    "    stripData = re.sub(\"[\\t\\r\\n]+\",\"\",data.text[:-8])\n",
    "    finalData = re.sub(\"     |    \", \":\", stripData)\n",
    "    return finalData\n",
    "target = list(map(preData, soup.select(\"ul.result > li > dl > dt\")))\n",
    "print(*target, sep=\"\\n\")"
   ]
  }
 ],
 "metadata": {
  "interpreter": {
   "hash": "2d50253e14af29614bada92e0dbc24bc6096b82e71ba0e7d8f7a05f0357ad166"
  },
  "kernelspec": {
   "display_name": "Python 3.9.7 64-bit ('mybook': conda)",
   "language": "python",
   "name": "python3"
  },
  "language_info": {
   "codemirror_mode": {
    "name": "ipython",
    "version": 3
   },
   "file_extension": ".py",
   "mimetype": "text/x-python",
   "name": "python",
   "nbconvert_exporter": "python",
   "pygments_lexer": "ipython3",
   "version": "3.9.7"
  },
  "orig_nbformat": 4
 },
 "nbformat": 4,
 "nbformat_minor": 2
}
