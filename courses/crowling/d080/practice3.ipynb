{
 "cells": [
  {
   "cell_type": "code",
   "execution_count": 1,
   "metadata": {},
   "outputs": [],
   "source": [
    "import re\n",
    "from crawling import *"
   ]
  },
  {
   "cell_type": "code",
   "execution_count": 11,
   "metadata": {},
   "outputs": [
    {
     "name": "stdout",
     "output_type": "stream",
     "text": [
      "[{'keyword': '주', 'number': '1', 'chinese': '(主)', 'speech': '「명사」', 'description': '주요하거나 기본이 되는 것을 이르는 말.', 'link': 'https://stdict.korean.go.kr/search/searchView.do?word_no=479834&searchKeywordTo=3'}, {'keyword': '주', 'number': '2', 'chinese': '(主)', 'speech': '「명사」', 'description': '『기독교』 세상의 악이나 위험으로부터 인류를 구원하는 주인이라는 뜻으로, 예수 그리스도를 이르는 말.=구세주.', 'link': 'https://stdict.korean.go.kr/search/searchView.do?word_no=303406&searchKeywordTo=3'}, {'keyword': '주', 'number': '3', 'chinese': '(州)', 'speech': '「명사」', 'description': '연방 국가의 행정 구역의 하나.', 'link': 'https://stdict.korean.go.kr/search/searchView.do?word_no=303407&searchKeywordTo=3'}, {'keyword': '주', 'number': '4', 'chinese': '(朱)', 'speech': '「명사」', 'description': '누런빛이 섞인 붉은빛.', 'link': 'https://stdict.korean.go.kr/search/searchView.do?word_no=303408&searchKeywordTo=3'}, {'keyword': '주', 'number': '5', 'chinese': '(朱)', 'speech': '「명사」', 'description': '우리나라 성(姓)의 하나. 본관은 신안(新安), 나주(羅州) 등 20여 본이 현존한다.', 'link': 'https://stdict.korean.go.kr/search/searchView.do?word_no=483971&searchKeywordTo=3'}, {'keyword': '주', 'number': '6', 'chinese': '(走)', 'speech': '「명사」', 'description': '『역사』 달음질 취재(取才)의 하나. 깊이 8치 7푼, 지름 4치 7품의 8되들이 구리병의 아래에 물이 빠지는 지름 2푼 되는 구멍의 귀가 있는데, 이 구멍으로 담은 물이 다 빠지는 동안에 270보를 달리면 1주, 260보를 달리면 2주, 250보를 달리면 3주라 하였다.', 'link': 'https://stdict.korean.go.kr/search/searchView.do?word_no=483972&searchKeywordTo=3'}, {'keyword': '주', 'number': '7', 'chinese': '(呪)', 'speech': '「명사」', 'description': '『민속』 음양가나 점술에 정통한 사람이 술법을 부리거나 귀신을 쫓을 때 외는 글귀.=주문.', 'link': 'https://stdict.korean.go.kr/search/searchView.do?word_no=303409&searchKeywordTo=3'}, {'keyword': '주', 'number': '8', 'chinese': '(周)', 'speech': '「명사」', 'description': '우리나라 성(姓)의 하나. 본관은 상주(尙州), 초계(草溪) 등이 현존한다.', 'link': 'https://stdict.korean.go.kr/search/searchView.do?word_no=303410&searchKeywordTo=3'}, {'keyword': '주', 'number': '9', 'chinese': '(周)', 'speech': '「명사」', 'description': '『수학』 다각형이나 폐곡선 따위의 둘레의 길이.', 'link': 'https://stdict.korean.go.kr/search/searchView.do?word_no=303411&searchKeywordTo=3'}, {'keyword': '주', 'number': '10', 'chinese': '(周)', 'speech': '「명사」', 'description': '『역사』 기원전 1046년에서 기원전 256년까지 중국을 지배하던 왕조. 무왕이 은나라를 멸망시키고 건국하여, 호경에 도읍을 정하고 봉건 제도를 시행하였다.≒주나라.', 'link': 'https://stdict.korean.go.kr/search/searchView.do?word_no=303412&searchKeywordTo=3'}]\n"
     ]
    }
   ],
   "source": [
    "def getData(word):\n",
    "    soup = html_parser(f\"https://stdict.korean.go.kr/search/searchResult.do?pageSize=10&searchKeyword={word}\", dynamic=False)\n",
    "    result = []\n",
    "    root_url = \"https://stdict.korean.go.kr\"\n",
    "    speech_regex = re.compile(\"「.+?」\")\n",
    "    for element in soup.select(\".result dt\"):\n",
    "        segment = {}\n",
    "        segment[\"keyword\"] = get_text(element.select_one(\".t_blue1\"), recursive=False)\n",
    "        segment[\"number\"] = get_text(element.select_one(\".t_blue1>sup\"))\n",
    "        segment[\"chinese\"] = get_text(element.select_one(\".hanja_font\"))\n",
    "        speech = speech_regex.search(get_text(element, recursive=False))\n",
    "        if speech is not None:\n",
    "            segment[\"speech\"] = speech_regex.search(get_text(element, recursive=False)).group()\n",
    "        else:\n",
    "            segment[\"speech\"] = \"\"\n",
    "        segment[\"description\"] = get_text(element.select_one(\".dataLine\"))\n",
    "        segment[\"link\"] = root_url + element.select_one(\".t_blue1\").attrs[\"href\"]\n",
    "        result.append(segment)\n",
    "    return result\n",
    "\n",
    "print(getData(input())) # 학교, 그루, ㅁㄴㅇㄹ, 달"
   ]
  },
  {
   "cell_type": "code",
   "execution_count": 27,
   "metadata": {},
   "outputs": [],
   "source": [
    "import csv\n",
    "\n",
    "with open(\"word.txt\", encoding=\"UTF-8\") as text:\n",
    "    words = text.readlines()\n",
    "\n",
    "with open(\"data.csv\", 'w', newline='', encoding=\"UTF-8\") as myfile:\n",
    "    fieldnames = getData(words[0])[0].keys()\n",
    "    writer = csv.DictWriter(myfile, fieldnames=fieldnames, quoting = csv.QUOTE_ALL)\n",
    "    writer.writeheader()\n",
    "    for word in words:\n",
    "        writer.writerows(getData(word))"
   ]
  },
  {
   "cell_type": "code",
   "execution_count": 42,
   "metadata": {},
   "outputs": [
    {
     "name": "stdout",
     "output_type": "stream",
     "text": [
      "학교(學校)「명사」\n",
      "\t    \t\t\t\t\t『교육』 일정한 목적ㆍ교과 과정ㆍ설비ㆍ제도 및 법규에 의하여 계속적으로 학생에게 교육을 실시하는 기관.≒학원.전체  보기\n",
      "[['학교', '(學校)', '「명사」', '『교육』 일정한 목적ㆍ교과 과정ㆍ설비ㆍ제도 및 법규에 의하여 계속적으로 학생에게 교육을 실시하는 기관.≒학원.', 'https://stdict.korean.go.kr/search/searchView.do?word_no=361333&searchKeywordTo=3']]\n"
     ]
    }
   ],
   "source": [
    "def get_data_from_raw(soup):\n",
    "    root_url = \"https://stdict.korean.go.kr\"\n",
    "    target = soup.select(\".result dt\")\n",
    "    chinese_regex = re.compile(\"\\(.+?\\)\")\n",
    "    speech_regex = re.compile(\"「.+?」\")\n",
    "    preprocess = []\n",
    "    for element in target:\n",
    "        element_text = get_text(element)\n",
    "        print(element_text)\n",
    "        chinese = chinese_regex.search(element_text)\n",
    "        keyword = element_text[:chinese.start()]\n",
    "        speech = speech_regex.search(element_text)\n",
    "        des = element_text[speech.end():-6]\n",
    "        link = root_url + element.select_one(\"a\").attrs[\"href\"]\n",
    "        preprocess.append([keyword, chinese.group(), speech.group(), des.lstrip(), link])\n",
    "    return preprocess\n",
    "print(get_data_from_raw(soup))"
   ]
  },
  {
   "cell_type": "code",
   "execution_count": null,
   "metadata": {},
   "outputs": [],
   "source": []
  }
 ],
 "metadata": {
  "interpreter": {
   "hash": "2d50253e14af29614bada92e0dbc24bc6096b82e71ba0e7d8f7a05f0357ad166"
  },
  "kernelspec": {
   "display_name": "Python 3.9.7 64-bit ('mybook': conda)",
   "language": "python",
   "name": "python3"
  },
  "language_info": {
   "codemirror_mode": {
    "name": "ipython",
    "version": 3
   },
   "file_extension": ".py",
   "mimetype": "text/x-python",
   "name": "python",
   "nbconvert_exporter": "python",
   "pygments_lexer": "ipython3",
   "version": "3.9.7"
  },
  "orig_nbformat": 4
 },
 "nbformat": 4,
 "nbformat_minor": 2
}
