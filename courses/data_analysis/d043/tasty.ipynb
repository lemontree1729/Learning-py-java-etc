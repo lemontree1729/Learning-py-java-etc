{
 "cells": [
  {
   "cell_type": "code",
   "execution_count": null,
   "id": "010c5a02",
   "metadata": {
    "collapsed": true
   },
   "outputs": [],
   "source": [
    "import pandas as pd\n",
    "dague = pd.read_csv('daeguPrice.csv', encoding = 'cp949')\n",
    "dague"
   ]
  },
  {
   "cell_type": "code",
   "execution_count": null,
   "id": "28757c66",
   "metadata": {
    "collapsed": true
   },
   "outputs": [],
   "source": [
    "dague['구군'] == '동구'"
   ]
  },
  {
   "cell_type": "code",
   "execution_count": null,
   "id": "5ad4107e",
   "metadata": {},
   "outputs": [],
   "source": [
    "dague[dague['구군'] == '동구'].sort_values(by=\"대표메뉴1 가격\")"
   ]
  },
  {
   "cell_type": "code",
   "execution_count": null,
   "id": "3843ab7f",
   "metadata": {},
   "outputs": [],
   "source": [
    "import json\n",
    "with open('tasty.json', 'rt', encoding='UTF8') as json_file:\n",
    "    json_data = json.load(json_file)\n",
    "result = pd.json_normalize(json_data, \"data\")\n",
    "result"
   ]
  },
  {
   "cell_type": "code",
   "execution_count": null,
   "id": "baa26244",
   "metadata": {},
   "outputs": [],
   "source": [
    "result.loc[:, ['BZ_NM', 'FD_CS', 'GNG_CS', 'TLNO', 'MBZ_HR','BKN_YN', 'MNU', 'SMPL_DESC']].sort_values(by=\"GNG_CS\")"
   ]
  },
  {
   "cell_type": "code",
   "execution_count": null,
   "id": "38f11cfd",
   "metadata": {},
   "outputs": [],
   "source": [
    "with open('tasty2.json', 'rt', encoding='UTF8') as json_file2:\n",
    "    json_data2 = json.load(json_file2)\n",
    "result2 = pd.json_normalize(json_data2, \"data\")\n",
    "result2.loc[result2['GNG_CS'].str.contains('불로동|봉무동|지묘동'), ['BZ_NM', 'FD_CS', 'GNG_CS', 'TLNO', 'MBZ_HR','BKN_YN', 'MNU', 'SMPL_DESC']].sort_values(by=\"GNG_CS\")"
   ]
  },
  {
   "cell_type": "code",
   "execution_count": 8,
   "id": "a38ab1e5",
   "metadata": {},
   "outputs": [
    {
     "name": "stdout",
     "output_type": "stream",
     "text": [
      "<class 'pandas.core.frame.DataFrame'> <class 'pandas.core.frame.DataFrame'> <class 'dict'>\n"
     ]
    }
   ],
   "source": [
    "print(type(result2), type(dague), type(json_data))"
   ]
  }
 ],
 "metadata": {
  "kernelspec": {
   "display_name": "Python 3 (ipykernel)",
   "language": "python",
   "name": "python3"
  },
  "language_info": {
   "codemirror_mode": {
    "name": "ipython",
    "version": 3
   },
   "file_extension": ".py",
   "mimetype": "text/x-python",
   "name": "python",
   "nbconvert_exporter": "python",
   "pygments_lexer": "ipython3",
   "version": "3.9.7"
  }
 },
 "nbformat": 4,
 "nbformat_minor": 5
}
