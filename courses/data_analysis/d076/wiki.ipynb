{
 "cells": [
  {
   "cell_type": "code",
   "execution_count": 1,
   "metadata": {},
   "outputs": [],
   "source": [
    "from crawling import *"
   ]
  },
  {
   "cell_type": "code",
   "execution_count": 12,
   "metadata": {},
   "outputs": [
    {
     "name": "stdout",
     "output_type": "stream",
     "text": [
      "title: 초안:뽀요 TV\n",
      "url: https://ko.wikipedia.org/wiki/%EC%B4%88%EC%95%88:%EB%BD%80%EC%9A%94_TV\n",
      "description: 뽀요TV 2018년부터 지금까지 방송되고 있는 대한민국의 한 방송사다. 주로 뽀로로의 시즌 영상과 방송사에서 제작한 동요와 프로그램을 보여준다. 뽀요TV는 캠페인을 하는데 주요 캠페인은 마스크 캠페인, 바이러스 손씻기 캠페인, 인사하기 캠페인 등이다. 그리고 뽀요TV는 캐릭터가 4가지가 있는데, 첫 번째는 뽀롱뽀롱 뽀로로의 캐릭터들이다. 그리고 두 번째는 꼬마버스 타요의 캐릭터들이 있다. 세 번째 캐릭터는 띠띠뽀 띠띠뽀의 캐릭터들이 등장하고, 네 번째는 치로와 친구들의 캐릭터들이다.\n",
      "\n",
      "title: 아야세가와 단층\n",
      "url: https://ko.wikipedia.org/wiki/%EC%95%84%EC%95%BC%EC%84%B8%EA%B0%80%EC%99%80_%EB%8B%A8%EC%B8%B5\n",
      "description: 아야세가와 단층(일본어: 綾瀬川断層 あやせがわだんそう[*])은 일본 간토 지방에 있는 길이 19km의 단층이다. 간토 서북부인 사이타마현 고노스시에서 지바현 이치카와시까지 이어져 있다.[1] 일본 지진조사연구추진본부의 \"활단층 위험도\"에서는 Z급 위험도로 평가하고 있다.[2]\n",
      "\n",
      "title: 방역 (1729년)\n",
      "url: https://ko.wikipedia.org/wiki/%EB%B0%A9%EC%97%AD_(1729%EB%85%84)\n",
      "description: 방역(方易, 1729년~?)은 조선의 문신이다. 본관은 온양(溫陽)이고, 평안도 정주(定州) 출신이다.\n",
      "\n",
      "title: HDC현대산업개발\n",
      "url: https://ko.wikipedia.org/wiki/HDC%ED%98%84%EB%8C%80%EC%82%B0%EC%97%85%EA%B0%9C%EB%B0%9C\n",
      "description: HDC현대산업개발 주식회사(영어: HDC HYUNDAI DEVELOPMENT COMPANY)는 2018년 설립된 대한민국의 건설 기업이다. HDC그룹의 주력 계열사이다.\n",
      "\n",
      "title: 철권 7\n",
      "url: https://ko.wikipedia.org/wiki/%EC%B2%A0%EA%B6%8C_7\n",
      "description: 《철권 7》(鉄拳7, 텍켄7, Tekken 7)은 반다이 남코 엔터테인먼트가 개발, 배급한 대전 격투 게임이다. 철권 시리즈 가운데 아홉 번째 게임으로, 언리얼 엔진을 채용한 최초의 게임이기도 하다. 철권 7은 2015년 3월 일본에서 아케이드 한정 릴리스로 출시되었으며, 《철권 7: 페이티드 리트리뷰션》(Tekken 7: Fated Retribution)은 2016년 7월 일본에서 출시되었고, 신규 스테이지, 의상, 아이템, 캐릭터를 포함한 기능 콘텐츠를 확장하였다.\n",
      "이후 Season pass 1을 시작으로 캐릭터 별 밸런스와 신규 맵, 신규 캐릭터와 신규 커스트마이징 아이템을 출시하고 2020년 기준 season pass 3까지 출시되어 기존의 귀환한 캐릭터와 신규 오리지널 캐릭터, 게스트 캐릭터까지 DLC를 통해 선보이고 있다.[1] 현재 아케이드 출시 이후 한국에서는 아케이드 온라인 서비스를 종료하였으며 2017년 6월에 스팀, 플레이스테이션 4, 엑스박스 원용으로 출시되었다.[2]\n",
      "\n"
     ]
    }
   ],
   "source": [
    "wiki_url = r\"https://ko.wikipedia.org/wiki/%ED%8A%B9%EC%88%98:%EC%B5%9C%EA%B7%BC%EB%B0%94%EB%80%9C?hidebots=1&hidecategorization=1&hideWikibase=1&limit=50&days=7&urlversion=2\"\n",
    "wiki_recent = html_parser(wiki_url, dynamic=False)\n",
    "if wiki_recent is not None:\n",
    "    article = wiki_recent.select_one(\".special\")\n",
    "    titles = article.select(\".mw-title>a\")\n",
    "for title in titles[:5]:\n",
    "    target_title = get_text(title)\n",
    "    target_url = \"https://ko.wikipedia.org\" + title.attrs[\"href\"]\n",
    "    wiki_keyword = html_parser(target_url, dynamic=False)\n",
    "    target_description = get_text(wiki_keyword.select_one(\".mw-parser-output > p\"))\n",
    "    print(\"title:\", target_title)\n",
    "    print(\"url:\", target_url)\n",
    "    print(\"description:\", target_description)"
   ]
  }
 ],
 "metadata": {
  "interpreter": {
   "hash": "2d50253e14af29614bada92e0dbc24bc6096b82e71ba0e7d8f7a05f0357ad166"
  },
  "kernelspec": {
   "display_name": "Python 3.9.7 64-bit ('mybook': conda)",
   "language": "python",
   "name": "python3"
  },
  "language_info": {
   "codemirror_mode": {
    "name": "ipython",
    "version": 3
   },
   "file_extension": ".py",
   "mimetype": "text/x-python",
   "name": "python",
   "nbconvert_exporter": "python",
   "pygments_lexer": "ipython3",
   "version": "3.9.7"
  },
  "orig_nbformat": 4
 },
 "nbformat": 4,
 "nbformat_minor": 2
}
