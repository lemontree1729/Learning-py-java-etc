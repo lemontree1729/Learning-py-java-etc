{
 "cells": [
  {
   "cell_type": "code",
   "execution_count": null,
   "metadata": {},
   "outputs": [],
   "source": [
    "from googleAPI import *\n",
    "from pymongo import MongoClient\n",
    "from crawling import ProgressBar"
   ]
  },
  {
   "cell_type": "code",
   "execution_count": null,
   "metadata": {},
   "outputs": [],
   "source": [
    "client = MongoClient(\n",
    "    \"mongodb+srv://cluster0.c6ccx.mongodb.net\",\n",
    "    authsource=\"$external\",\n",
    "    authmechanism=\"MONGODB-X509\",\n",
    "    tls=True,\n",
    "    tlsCertificateKeyFile=\"../../../mongodb.pem\",\n",
    ")\n",
    "db = client[\"youtube\"]\n",
    "searchData = db[\"searchData\"]"
   ]
  },
  {
   "cell_type": "code",
   "execution_count": null,
   "metadata": {},
   "outputs": [],
   "source": [
    "with open(\"apikey.txt\", encoding=\"utf8\") as f:\n",
    "    apikey1 = f.readline().strip()\n",
    "    apikey2 = f.readline().strip()"
   ]
  },
  {
   "cell_type": "code",
   "execution_count": null,
   "metadata": {},
   "outputs": [],
   "source": [
    "import datetime\n",
    "\n",
    "global_query = {\"key\": apikey1, \"maxResults\": 100, \"regionCode\": \"KR\"}\n",
    "\n",
    "# 1970-01-01T00:00:00Z\n",
    "def strftime(datetime: datetime.datetime):\n",
    "    return datetime.strftime(\"%Y-%m-%dT%H:%M:%SZ\")\n",
    "\n",
    "\n",
    "def strptime(str):\n",
    "    return datetime.datetime().strptime(str, \"%Y-%m-%dT%H:%M:%SZ\")\n",
    "\n",
    "\n",
    "# search with keyword(costs to much(100 times much than other))\n",
    "def get_searched_video(query):\n",
    "    final_query = {**global_query, **query, \"part\": \"id, snippet\", \"type\": \"video\", \"safeSearch\": \"strict\"}\n",
    "    return get_youtube_api_json(\"search\", final_query)\n",
    "\n",
    "\n",
    "def get_populer_video(query):\n",
    "    return get_video({**query, \"chart\": \"mostPopular\"})\n",
    "\n",
    "\n",
    "def get_video(query):\n",
    "    final_query = {\n",
    "        **global_query,\n",
    "        **query,\n",
    "        \"part\": \"snippet, contentDetails, status, statistics, player, topicDetails, recordingDetails\",\n",
    "    }\n",
    "    return get_youtube_api_json(\"videos\", final_query)\n",
    "\n",
    "\n",
    "def get_id_from_result(result):\n",
    "    items = result.get(\"items\", [])\n",
    "    ids = []\n",
    "    for item in items:\n",
    "        if item.get(\"id\"):\n",
    "            if type(item) == str:\n",
    "                ids.append(item[\"id\"])\n",
    "            elif type(item) == dict and item[\"id\"].get(\"videoId\"):\n",
    "                ids.append(item[\"id\"][\"videoId\"])\n",
    "    return ids\n",
    "\n",
    "\n",
    "def flatten_function(api_function, query):\n",
    "    nextPageToken = \"\"\n",
    "    total_result = []\n",
    "    while nextPageToken is not None:\n",
    "        print(\"check1\")\n",
    "        query[\"pageToken\"] = nextPageToken\n",
    "        result = api_function(query)\n",
    "        if type(result.get(\"items\")) == list:\n",
    "            print(\"check2\")\n",
    "            total_result.extend(result[\"items\"])\n",
    "        nextPageToken = result.get(\"nextPageToken\")    \n",
    "    print(\"total_result####################################################\", total_result)\n",
    "    return {**query, \"result\": total_result}\n",
    "\n",
    "\n",
    "def flatten_data(results, query):\n",
    "    if type(results) == dict:\n",
    "        results = [results]\n",
    "    total_result = []\n",
    "    for result in results:\n",
    "        if type(result.get(\"items\")) == list:\n",
    "            total_result.extend(result[\"items\"])\n",
    "    return {**query, \"result\": total_result}\n",
    "\n",
    "\n",
    "def get_rebuild_searched_video(query):\n",
    "    init_data = flatten_function(get_searched_video, query)[\"result\"]\n",
    "    print(\"init_data##########################################################\", init_data)\n",
    "    data_size = len(init_data)\n",
    "    total_data = []\n",
    "    temp = 0\n",
    "    while data_size > temp * 50:\n",
    "        ids = [data[\"id\"][\"videoId\"] for data in init_data[temp * 50 : min((temp + 1) * 50, data_size)]]\n",
    "        total_data.append(get_video({\"id\": \",\".join(ids)}))\n",
    "        temp += 1\n",
    "    print(\"total_data#########################################################\", total_data)\n",
    "    return flatten_data(total_data, query)\n"
   ]
  },
  {
   "cell_type": "code",
   "execution_count": null,
   "metadata": {},
   "outputs": [],
   "source": [
    "get_video({\"id\":\"XqZsoesa55w\"})"
   ]
  },
  {
   "cell_type": "code",
   "execution_count": null,
   "metadata": {},
   "outputs": [],
   "source": [
    "start_date = strftime(datetime.datetime(2022, 2, 1))\n",
    "end_date = strftime(datetime.datetime(2022, 3, 1))\n",
    "mydata = get_rebuild_searched_video({\"publishedAfter\": start_date, \"publishedBefore\": end_date})\n",
    "print(mydata)"
   ]
  }
 ],
 "metadata": {
  "interpreter": {
   "hash": "d9a2a7e76be0666fe27d557e389290381784232b36828a7affb84ce52a0a0717"
  },
  "kernelspec": {
   "display_name": "Python 3.9.10 ('pybook')",
   "language": "python",
   "name": "python3"
  },
  "language_info": {
   "codemirror_mode": {
    "name": "ipython",
    "version": 3
   },
   "file_extension": ".py",
   "mimetype": "text/x-python",
   "name": "python",
   "nbconvert_exporter": "python",
   "pygments_lexer": "ipython3",
   "version": "3.9.10"
  },
  "orig_nbformat": 4
 },
 "nbformat": 4,
 "nbformat_minor": 2
}
