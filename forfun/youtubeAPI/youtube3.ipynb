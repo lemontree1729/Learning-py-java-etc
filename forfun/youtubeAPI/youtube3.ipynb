{
 "cells": [
  {
   "cell_type": "code",
   "execution_count": null,
   "metadata": {},
   "outputs": [],
   "source": [
    "from googleAPI import *\n",
    "from pymongo import MongoClient\n",
    "from crawling import ProgressBar\n",
    "from youtubesearchpython import *\n",
    "from pprint import pprint"
   ]
  },
  {
   "cell_type": "code",
   "execution_count": null,
   "metadata": {},
   "outputs": [],
   "source": [
    "with open(\"mongodb.txt\") as f:\n",
    "    mongodb_uri = f.readline().strip()\n",
    "client = MongoClient(mongodb_uri)\n",
    "db = client[\"youtube\"]\n",
    "searchData = db[\"searchData\"]"
   ]
  },
  {
   "cell_type": "code",
   "execution_count": null,
   "metadata": {},
   "outputs": [],
   "source": [
    "videosSearch = VideosSearch('')\n",
    "pprint(videosSearch.result())"
   ]
  },
  {
   "cell_type": "code",
   "execution_count": null,
   "metadata": {},
   "outputs": [],
   "source": [
    "suggestionData = db[\"suggestionData\"]\n",
    "suggestions = Suggestions(language = 'kr', region = 'KR')"
   ]
  },
  {
   "cell_type": "code",
   "execution_count": null,
   "metadata": {},
   "outputs": [],
   "source": [
    "import re\n",
    "\n",
    "hangul = re.compile(\"[^가-힣]+\")"
   ]
  },
  {
   "cell_type": "code",
   "execution_count": null,
   "metadata": {},
   "outputs": [],
   "source": [
    "total_data = set()\n",
    "# for i in range(44032, 55216):\n",
    "start, end = 54000, 55216\n",
    "error_count = 0\n",
    "bar = ProgressBar(end-start)\n",
    "for i in range(start, end):\n",
    "    bar.next()\n",
    "    total_data.add(chr(i))\n",
    "    try:\n",
    "        data = suggestions.get(chr(i), mode = ResultMode.dict)\n",
    "        for j in data[\"result\"]:\n",
    "            if len(hangul.findall(j)) == 0:\n",
    "                total_data.add(j)\n",
    "    except:\n",
    "        error_count += 1\n",
    "total_data = list(total_data)\n",
    "total_data.sort()\n",
    "print(error_count, total_data)"
   ]
  },
  {
   "cell_type": "code",
   "execution_count": null,
   "metadata": {},
   "outputs": [],
   "source": [
    "suggestionData.insert_one({\"result\":total_data})"
   ]
  },
  {
   "cell_type": "code",
   "execution_count": null,
   "metadata": {},
   "outputs": [],
   "source": [
    "all_data = list(suggestionData.find())\n",
    "finalSuggestionData = db[\"finalSuggestionData\"]\n",
    "total_search_data = set()\n",
    "for data in all_data:\n",
    "    for keyword in data[\"result\"]:\n",
    "        total_search_data.add(keyword)\n",
    "total_search_data = list(total_search_data)\n",
    "total_search_data.sort()\n",
    "print(len(total_search_data))"
   ]
  },
  {
   "cell_type": "code",
   "execution_count": null,
   "metadata": {},
   "outputs": [],
   "source": [
    "finalSuggestionData.drop()"
   ]
  },
  {
   "cell_type": "code",
   "execution_count": null,
   "metadata": {},
   "outputs": [],
   "source": [
    "divide = 50\n",
    "size = len(total_search_data)//divide+1\n",
    "for i in range(divide):\n",
    "    finalSuggestionData.insert_one({\"id\":i, \"result\":total_search_data[size*i:min(size*(i+1), len(total_search_data))]})"
   ]
  },
  {
   "cell_type": "code",
   "execution_count": null,
   "metadata": {},
   "outputs": [],
   "source": [
    "Video.get(\"MhQKe-aERsU\")"
   ]
  },
  {
   "cell_type": "code",
   "execution_count": null,
   "metadata": {},
   "outputs": [],
   "source": [
    "for data_num in range(9,13):\n",
    "    # data_num = 8\n",
    "    total = finalSuggestionData.find_one({\"id\":data_num})[\"result\"]\n",
    "    id_collection = set()\n",
    "    bar = ProgressBar(len(total))\n",
    "    error_count = 0\n",
    "    for target in total:\n",
    "        bar.next()\n",
    "        customSearch = CustomSearch(target, \"CAMSAhAB\", language=\"kr\", region=\"KR\")\n",
    "        while(True):\n",
    "            search_result = customSearch.result()[\"result\"]\n",
    "            if len(search_result) == 0:\n",
    "                break\n",
    "            for result in search_result:\n",
    "                try:\n",
    "                    viewCount = int(result[\"viewCount\"][\"text\"].split(\" views\")[0].replace(\",\",\"\"))\n",
    "                    if viewCount < 10**6:\n",
    "                        break\n",
    "                    id_collection.add(result[\"id\"])\n",
    "                except:\n",
    "                    continue\n",
    "            else:\n",
    "                customSearch.next()\n",
    "                continue\n",
    "            break\n",
    "    print(error_count, len(id_collection))\n",
    "    videoIdData = db[\"videoIdData\"]\n",
    "    videoIdData.insert_one({\"result\":list(id_collection)})\n"
   ]
  },
  {
   "cell_type": "code",
   "execution_count": null,
   "metadata": {},
   "outputs": [],
   "source": [
    "print(len(set(id_collection)))"
   ]
  },
  {
   "cell_type": "code",
   "execution_count": null,
   "metadata": {},
   "outputs": [],
   "source": [
    "customSearch12 = CustomSearch(\"애플\", \"CAMSAhAB\", language=\"kr\", region=\"KR\") # preprocess english or not?\n",
    "customSearch12.result()"
   ]
  },
  {
   "cell_type": "code",
   "execution_count": null,
   "metadata": {},
   "outputs": [],
   "source": [
    "searchData.find_one()"
   ]
  }
 ],
 "metadata": {
  "interpreter": {
   "hash": "d404e59788a42e91be32e88e4d55eb45ff4b15ab4c11426688ddfe031dbf1308"
  },
  "kernelspec": {
   "display_name": "Python 3.10.2 ('mycrowling')",
   "language": "python",
   "name": "python3"
  },
  "language_info": {
   "codemirror_mode": {
    "name": "ipython",
    "version": 3
   },
   "file_extension": ".py",
   "mimetype": "text/x-python",
   "name": "python",
   "nbconvert_exporter": "python",
   "pygments_lexer": "ipython3",
   "version": "3.10.2"
  },
  "orig_nbformat": 4
 },
 "nbformat": 4,
 "nbformat_minor": 2
}
