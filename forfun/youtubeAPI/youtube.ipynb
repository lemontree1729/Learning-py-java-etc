{
 "cells": [
  {
   "cell_type": "code",
   "execution_count": null,
   "metadata": {},
   "outputs": [],
   "source": [
    "from googleAPI import *\n",
    "from pymongo import MongoClient\n",
    "from crawling import ProgressBar\n",
    "from pprint import pprint\n"
   ]
  },
  {
   "cell_type": "code",
   "execution_count": null,
   "metadata": {},
   "outputs": [],
   "source": [
    "client = MongoClient(\n",
    "    \"mongodb+srv://cluster0.c6ccx.mongodb.net\",\n",
    "    authsource=\"$external\",\n",
    "    authmechanism=\"MONGODB-X509\",\n",
    "    tls=True,\n",
    "    tlsCertificateKeyFile=\"../../../mongodb.pem\",\n",
    ")\n",
    "db = client[\"youtube\"]\n",
    "rawVideoSearch = db[\"rawVideoSearch\"]\n",
    "videoSearch = db[\"videoSearch\"]\n",
    "videoCategories = db[\"videoCategories\"]\n",
    "videoFavorite = db[\"videoFavorite\"]\n"
   ]
  },
  {
   "cell_type": "code",
   "execution_count": null,
   "metadata": {},
   "outputs": [],
   "source": [
    "with open(\"apikey.txt\", encoding=\"utf8\") as f:\n",
    "    apikey1 = f.readline().strip()\n",
    "    apikey2 = f.readline().strip()\n"
   ]
  },
  {
   "cell_type": "code",
   "execution_count": null,
   "metadata": {},
   "outputs": [],
   "source": [
    "global_query = {\"key\": apikey2, \"maxResults\": 100, \"regionCode\": \"KR\"}\n"
   ]
  },
  {
   "cell_type": "code",
   "execution_count": null,
   "metadata": {},
   "outputs": [],
   "source": [
    "import datetime\n",
    "\n",
    "# 1970-01-01T00:00:00Z\n",
    "def strftime(datetime: datetime.datetime):\n",
    "    return datetime.strftime(\"%Y-%m-%dT%H:%M:%SZ\")\n",
    "\n",
    "\n",
    "def strptime(str):\n",
    "    return datetime.datetime().strptime(str, \"%Y-%m-%dT%H:%M:%SZ\")\n",
    "\n",
    "\n",
    "# search with keyword(costs to much(100 times much than other))\n",
    "def get_searched_video(query):\n",
    "    init_query = {**global_query, \"part\": \"id, snippet\", \"type\": \"video\", \"safeSearch\": \"strict\"}\n",
    "    for key in query:\n",
    "        init_query[key] = query[key]\n",
    "    return get_youtube_api_json(\"search\", init_query)\n"
   ]
  },
  {
   "cell_type": "code",
   "execution_count": null,
   "metadata": {},
   "outputs": [],
   "source": [
    "# get top view count video of korea from search\n",
    "rawVideoSearch = db[\"rawVideoSearch\"]\n",
    "start_date = strftime(datetime.datetime(2019, 1, 1))\n",
    "end_date = strftime(datetime.datetime(2020, 1, 1))\n",
    "init_query = {\"publishedAfter\": start_date, \"publishedBefore\": end_date}\n",
    "total_search_data = []\n",
    "nextPageToken = \"\"\n",
    "for i in range(20):\n",
    "    init_query[\"pageToken\"] = nextPageToken\n",
    "    search_data = get_searched_video(init_query)\n",
    "    total_search_data.append(search_data)\n",
    "    nextPageToken = search_data.get(\"nextPageToken\")\n",
    "    if nextPageToken is None:\n",
    "        print(search_data)\n",
    "        break\n",
    "rawVideoSearch.insert_one({\"searchDate\": datetime.datetime.now(),\"publishedAfter\": start_date, \"publishedBefore\": end_date, \"result\":total_search_data})\n"
   ]
  },
  {
   "cell_type": "code",
   "execution_count": null,
   "metadata": {},
   "outputs": [],
   "source": [
    "videoSearch.find()\n"
   ]
  },
  {
   "cell_type": "code",
   "execution_count": null,
   "metadata": {},
   "outputs": [],
   "source": [
    "# get category data of korea\n",
    "videoCategories = db[\"videoCategories\"]\n",
    "category_data = get_youtube_api_json(\"videoCategories\", {\"key\": apikey1, \"part\": \"snippet, id\", \"regionCode\": \"KR\"})[\n",
    "    \"items\"\n",
    "]\n",
    "videoCategories.insert_many(category_data)\n"
   ]
  },
  {
   "cell_type": "code",
   "execution_count": null,
   "metadata": {},
   "outputs": [],
   "source": [
    "list(videoCategories.find())\n"
   ]
  },
  {
   "cell_type": "code",
   "execution_count": null,
   "metadata": {},
   "outputs": [],
   "source": [
    "def get_populer_video(query):\n",
    "    init_query = {**global_query,\n",
    "        \"part\": \"snippet, contentDetails, status, statistics, player, topicDetails, recordingDetails\",\n",
    "        \"chart\": \"mostPopular\",\n",
    "    }\n",
    "    for key in query:\n",
    "        init_query[key] = query[key]\n",
    "    return get_youtube_api_json(\"videos\", init_query)\n",
    "\n",
    "\n",
    "def get_video(query):\n",
    "    init_query = {**global_query,\n",
    "        \"part\": \"snippet, contentDetails, status, statistics, player, topicDetails, recordingDetails\"\n",
    "    }\n",
    "    for key in query:\n",
    "        init_query[key] = query[key]\n",
    "    return get_youtube_api_json(\"videos\", init_query)\n"
   ]
  },
  {
   "cell_type": "code",
   "execution_count": null,
   "metadata": {},
   "outputs": [],
   "source": [
    "# videoSearch = db[\"videoSearch\"]\n",
    "# rawVideoSearch = db[\"rawVideoSearch\"]\n",
    "# rawVideoSearch.insert_many(videoSearch.find())\n",
    "# videoSearch.drop()\n"
   ]
  },
  {
   "cell_type": "code",
   "execution_count": null,
   "metadata": {},
   "outputs": [],
   "source": [
    "import re\n",
    "\n",
    "hangul = re.compile(\"[ㄱ-ㅎ가-힣]+\")\n",
    "rawVideoSearch = db[\"rawVideoSearch\"]\n",
    "videoSearch = db[\"videoSearch\"]\n",
    "total_pre_data = []\n",
    "for datas in rawVideoSearch.find():\n",
    "    for data in datas[\"items\"]:\n",
    "        try:\n",
    "            preData = get_video({\"id\": data[\"id\"][\"videoId\"]})[\"items\"][0]\n",
    "        except:\n",
    "            continue\n",
    "        if len(hangul.findall(preData[\"snippet\"][\"title\"])) > 0:\n",
    "            print(preData[\"snippet\"][\"title\"])\n",
    "            total_pre_data.append(preData)\n",
    "videoSearch.insert_one({\"searchDate\": datetime.datetime.now(), \"info\": total_pre_data})\n"
   ]
  },
  {
   "cell_type": "code",
   "execution_count": null,
   "metadata": {},
   "outputs": [],
   "source": [
    "data = list(videoSearch.find())\n",
    "pre_data = []\n",
    "for i in data:\n",
    "    for j in i[\"info\"]:\n",
    "        pre_data.append((int(j[\"statistics\"][\"viewCount\"]), j[\"snippet\"][\"title\"].strip()))\n",
    "pre_data.sort(reverse=True)\n",
    "pre_data\n"
   ]
  },
  {
   "cell_type": "code",
   "execution_count": null,
   "metadata": {},
   "outputs": [],
   "source": [
    "for category_data in videoCategories.find():\n",
    "    categoryId = category_data[\"id\"]\n",
    "    print(categoryId)\n"
   ]
  },
  {
   "cell_type": "code",
   "execution_count": null,
   "metadata": {},
   "outputs": [],
   "source": [
    "get_video({\"id\": \"8Syy24YLOQw,Iim-a-dmND8,Ws57hamuOZk\"})\n"
   ]
  },
  {
   "cell_type": "code",
   "execution_count": null,
   "metadata": {},
   "outputs": [],
   "source": [
    "start_date = strftime(datetime.datetime(2019, 1, 1))\n",
    "end_date = strftime(datetime.datetime(2020, 1, 1))\n",
    "rawVideoSearch = db[\"rawVideoSearch\"]\n",
    "videoSearch = db[\"videoSearch\"]\n",
    "total_data = []\n",
    "for datas in rawVideoSearch.find_one({\"publishedAfter\": start_date, \"publishedBefore\": end_date})[\"result\"]:\n",
    "    data_id = []\n",
    "    for data in datas[\"items\"]:\n",
    "        try:\n",
    "            data_id.append(data[\"id\"][\"videoId\"])\n",
    "        except:\n",
    "            continue\n",
    "    total_data.append(get_video({\"id\":\",\".join(data_id)}))\n",
    "videoSearch.insert_one({\"searchDate\": datetime.datetime.now(),\"publishedAfter\": start_date, \"publishedBefore\": end_date, \"result\":total_data})"
   ]
  },
  {
   "cell_type": "code",
   "execution_count": null,
   "metadata": {},
   "outputs": [],
   "source": [
    "videoFavorite = db[\"videoFavorite\"]\n",
    "total_data = []\n",
    "for category_data in videoCategories.find():\n",
    "    categoryId = category_data[\"id\"]\n",
    "    nextPageToken = \"\"\n",
    "    for i in range(20):\n",
    "        favorite_data = get_populer_video({\"videoCategoryId\": categoryId, \"pageToken\": nextPageToken})\n",
    "        nextPageToken = favorite_data.get(\"nextPageToken\")\n",
    "        total_data.append({\"searchDate\": datetime.datetime.now(), \"searchCategory\": categoryId, \"info\": favorite_data})\n",
    "        if nextPageToken is None:\n",
    "            break\n",
    "    break\n",
    "print(total_data)\n",
    "# videoFavorite.insert_many(totalData)\n"
   ]
  },
  {
   "cell_type": "code",
   "execution_count": null,
   "metadata": {},
   "outputs": [],
   "source": [
    "init_data = get_populer_video()\n",
    "total_results = init_data[\"pageInfo\"][\"totalResults\"]\n",
    "print(total_results)\n",
    "# nextPageToken = init_data.get(\"nextPageToken\")\n",
    "# populer_video_data = [init_data]\n",
    "# for i in range(5):\n",
    "#     print(nextPageToken)\n",
    "#     data = get_populer_video(nextPageToken)\n",
    "#     populer_video_data.append(data)\n",
    "#     nextPageToken = data.get(\"nextPageToken\")\n",
    "#     if nextPageToken is None:\n",
    "#         break\n",
    "# pprint(populer_video_data)\n"
   ]
  },
  {
   "cell_type": "code",
   "execution_count": null,
   "metadata": {},
   "outputs": [],
   "source": [
    "get_youtube_api_json(\n",
    "    \"commentThreads\",\n",
    "    {**global_query,\n",
    "        \"part\": \"id, replies, snippet\",\n",
    "        \"textFormat\": \"plainText\",\n",
    "        \"videoId\": \"zWhqy34zvVI\",\n",
    "        \"order\": \"relevance\",\n",
    "        # \"searchTerms\":\"차준환\"\n",
    "    },\n",
    ")\n"
   ]
  }
 ],
 "metadata": {
  "interpreter": {
   "hash": "d9a2a7e76be0666fe27d557e389290381784232b36828a7affb84ce52a0a0717"
  },
  "kernelspec": {
   "display_name": "Python 3.9.10 ('pybook')",
   "language": "python",
   "name": "python3"
  },
  "language_info": {
   "codemirror_mode": {
    "name": "ipython",
    "version": 3
   },
   "file_extension": ".py",
   "mimetype": "text/x-python",
   "name": "python",
   "nbconvert_exporter": "python",
   "pygments_lexer": "ipython3",
   "version": "3.9.10"
  },
  "orig_nbformat": 4
 },
 "nbformat": 4,
 "nbformat_minor": 2
}
