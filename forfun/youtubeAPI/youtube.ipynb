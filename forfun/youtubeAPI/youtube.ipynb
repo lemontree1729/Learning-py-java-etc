{
 "cells": [
  {
   "cell_type": "code",
   "execution_count": null,
   "metadata": {},
   "outputs": [],
   "source": [
    "from googleAPI import *\n",
    "from pymongo import MongoClient\n",
    "from crawling import ProgressBar\n",
    "from pprint import pprint"
   ]
  },
  {
   "cell_type": "code",
   "execution_count": null,
   "metadata": {},
   "outputs": [],
   "source": [
    "client = MongoClient(\n",
    "    \"mongodb+srv://cluster0.c6ccx.mongodb.net\",\n",
    "    authsource=\"$external\",\n",
    "    authmechanism=\"MONGODB-X509\",\n",
    "    tls=True,\n",
    "    tlsCertificateKeyFile=\"../../../mongodb.pem\",\n",
    ")\n",
    "db = client[\"youtube\"]\n"
   ]
  },
  {
   "cell_type": "code",
   "execution_count": null,
   "metadata": {},
   "outputs": [],
   "source": [
    "with open(\"../../../apikey.txt\", encoding=\"utf8\") as f:\n",
    "    apikey = f.readline().strip()\n"
   ]
  },
  {
   "cell_type": "code",
   "execution_count": null,
   "metadata": {},
   "outputs": [],
   "source": [
    "import datetime\n",
    "\n",
    "# 1970-01-01T00:00:00Z\n",
    "def datetime_to_string(datetime: datetime.datetime):\n",
    "    return datetime.strftime(\"%Y-%m-%dT%H:%M:%SZ\")\n",
    "\n",
    "\n",
    "def string_to_datetime(str):\n",
    "    return datetime.datetime().strptime(str, \"%Y-%m-%dT%H:%M:%SZ\")\n",
    "\n",
    "\n",
    "# search with keyword(costs to much(100 times much than other))\n",
    "def get_searched_video(query):\n",
    "    init_query = {\n",
    "        \"key\": apikey,\n",
    "        \"maxResults\": 50,\n",
    "        \"part\": \"id, snippet\",\n",
    "        \"type\": \"video\",\n",
    "        \"regionCode\": \"KR\",\n",
    "        \"safeSearch\": \"strict\"\n",
    "    }\n",
    "    for key in query:\n",
    "        init_query[key] = query[key]\n",
    "    return get_youtube_api_json(\"search\", init_query)\n"
   ]
  },
  {
   "cell_type": "code",
   "execution_count": null,
   "metadata": {},
   "outputs": [],
   "source": [
    "# get top view count video of korea from search\n",
    "videoSearch = db[\"videoSearch\"]\n",
    "start_date = datetime_to_string(datetime.datetime(2022, 2, 25))\n",
    "end_date = datetime_to_string(datetime.datetime(2022, 2, 26))\n",
    "init_query = {\"order\": \"viewCount\", \"publishedAfter\": start_date, \"publishedBefore\": end_date}\n",
    "total_search_data = []\n",
    "nextPageToken = \"\"\n",
    "for i in range(20):\n",
    "    init_query[\"pageToken\"] = nextPageToken\n",
    "    search_data = get_searched_video(init_query)\n",
    "    total_search_data.append(search_data)\n",
    "    nextPageToken = search_data.get(\"nextPageToken\")\n",
    "    if nextPageToken is None:\n",
    "        print(search_data)\n",
    "        break\n",
    "videoSearch.insert_many(total_search_data)"
   ]
  },
  {
   "cell_type": "code",
   "execution_count": null,
   "metadata": {},
   "outputs": [],
   "source": [
    "videoSearch.find()"
   ]
  },
  {
   "cell_type": "code",
   "execution_count": null,
   "metadata": {},
   "outputs": [],
   "source": [
    "# get category data of korea\n",
    "videoCategories = db[\"videoCategories\"]\n",
    "categoryData = get_youtube_api_json(\"videoCategories\", {\"key\": apikey, \"part\": \"snippet, id\", \"regionCode\": \"KR\"})[\n",
    "    \"items\"\n",
    "]\n",
    "videoCategories.insert_many(categoryData)"
   ]
  },
  {
   "cell_type": "code",
   "execution_count": null,
   "metadata": {},
   "outputs": [],
   "source": [
    "list(videoCategories.find())\n"
   ]
  },
  {
   "cell_type": "code",
   "execution_count": null,
   "metadata": {},
   "outputs": [],
   "source": [
    "def get_populer_video(query):\n",
    "    init_query = {\n",
    "        \"key\": apikey,\n",
    "        \"maxResults\": 50,\n",
    "        \"part\": \"snippet, contentDetails, status, statistics, player, topicDetails, recordingDetails\",\n",
    "        \"chart\": \"mostPopular\",\n",
    "        \"regionCode\": \"KR\",\n",
    "    }\n",
    "    for key in query:\n",
    "        init_query[key] = query[key]\n",
    "    return get_youtube_api_json(\"videos\", init_query)\n",
    "\n",
    "def get_video(query):\n",
    "    init_query = {\n",
    "        \"key\": apikey,\n",
    "        \"maxResults\": 50,\n",
    "        \"part\": \"snippet, contentDetails, status, statistics, player, topicDetails, recordingDetails\",\n",
    "        \"regionCode\": \"KR\",\n",
    "    }\n",
    "    for key in query:\n",
    "        init_query[key] = query[key]\n",
    "    return get_youtube_api_json(\"videos\", init_query)"
   ]
  },
  {
   "cell_type": "code",
   "execution_count": null,
   "metadata": {},
   "outputs": [],
   "source": [
    "# videoSearch = db[\"videoSearch\"]\n",
    "# rawVideoSearch = db[\"rawVideoSearch\"]\n",
    "# rawVideoSearch.insert_many(videoSearch.find())\n",
    "# videoSearch.drop()"
   ]
  },
  {
   "cell_type": "code",
   "execution_count": null,
   "metadata": {},
   "outputs": [],
   "source": [
    "import re\n",
    "\n",
    "hangul = re.compile(\"[ㄱ-ㅎ가-힣]+\")\n",
    "rawVideoSearch = db[\"rawVideoSearch\"]\n",
    "videoSearch = db[\"videoSearch\"]\n",
    "totalPreData = []\n",
    "for datas in rawVideoSearch.find():\n",
    "    for data in datas[\"items\"]:\n",
    "        try:\n",
    "            preData = get_video({\"id\":data[\"id\"][\"videoId\"]})[\"items\"][0]\n",
    "        except:\n",
    "            continue\n",
    "        if len(hangul.findall(preData[\"snippet\"][\"title\"])) > 0:\n",
    "            print(preData[\"snippet\"][\"title\"])\n",
    "            totalPreData.append(preData)\n",
    "videoSearch.insert_one({\"searchDate\":datetime.datetime.now(),\"info\":totalPreData})"
   ]
  },
  {
   "cell_type": "code",
   "execution_count": null,
   "metadata": {},
   "outputs": [],
   "source": [
    "data = list(videoSearch.find())\n",
    "pre_data = []\n",
    "for i in data:\n",
    "    for j in i[\"info\"]:\n",
    "        pre_data.append((int(j[\"statistics\"][\"viewCount\"]), j[\"snippet\"][\"title\"].strip()))\n",
    "pre_data.sort(reverse=True)\n",
    "pre_data"
   ]
  },
  {
   "cell_type": "code",
   "execution_count": null,
   "metadata": {},
   "outputs": [],
   "source": [
    "for categoryData in videoCategories.find():\n",
    "    categoryId = categoryData[\"id\"]\n",
    "    print(categoryId)"
   ]
  },
  {
   "cell_type": "code",
   "execution_count": null,
   "metadata": {},
   "outputs": [],
   "source": [
    "get_video({\"id\":\"8Syy24YLOQw\"})"
   ]
  },
  {
   "cell_type": "code",
   "execution_count": null,
   "metadata": {},
   "outputs": [],
   "source": [
    "videoFavorite = db[\"videoFavorite\"]\n",
    "totalData = []\n",
    "for categoryData in videoCategories.find():\n",
    "    categoryId = categoryData[\"id\"]\n",
    "    nextPageToken = \"\"\n",
    "    for i in range(20):\n",
    "        favoriteData = get_populer_video({\"videoCategoryId\": categoryId, \"pageToken\":nextPageToken})\n",
    "        nextPageToken = favoriteData.get(\"nextPageToken\")\n",
    "        totalData.append({\"searchDate\":datetime.datetime.now(), \"searchCategory\":categoryId,\"info\":favoriteData})\n",
    "        if nextPageToken is None:\n",
    "            break\n",
    "videoFavorite.insert_many(totalData)"
   ]
  },
  {
   "cell_type": "code",
   "execution_count": null,
   "metadata": {},
   "outputs": [],
   "source": [
    "init_data = get_populer_video()\n",
    "totalResults = init_data[\"pageInfo\"][\"totalResults\"]\n",
    "print(totalResults)\n",
    "# nextPageToken = init_data.get(\"nextPageToken\")\n",
    "# populer_video_data = [init_data]\n",
    "# for i in range(5):\n",
    "#     print(nextPageToken)\n",
    "#     data = get_populer_video(nextPageToken)\n",
    "#     populer_video_data.append(data)\n",
    "#     nextPageToken = data.get(\"nextPageToken\")\n",
    "#     if nextPageToken is None:\n",
    "#         break\n",
    "# pprint(populer_video_data)\n"
   ]
  },
  {
   "cell_type": "code",
   "execution_count": null,
   "metadata": {},
   "outputs": [],
   "source": [
    "get_youtube_api_json(\n",
    "    \"commentThreads\",\n",
    "    {\n",
    "        \"key\": apikey,\n",
    "        \"part\": \"id, replies, snippet\",\n",
    "        \"maxResults\": 100,\n",
    "        \"textFormat\": \"plainText\",\n",
    "        \"videoId\": \"zWhqy34zvVI\",\n",
    "        \"order\": \"relevance\",\n",
    "        # \"searchTerms\":\"차준환\"\n",
    "    },\n",
    ")\n"
   ]
  }
 ],
 "metadata": {
  "interpreter": {
   "hash": "d9a2a7e76be0666fe27d557e389290381784232b36828a7affb84ce52a0a0717"
  },
  "kernelspec": {
   "display_name": "Python 3.9.10 ('pybook')",
   "language": "python",
   "name": "python3"
  },
  "language_info": {
   "codemirror_mode": {
    "name": "ipython",
    "version": 3
   },
   "file_extension": ".py",
   "mimetype": "text/x-python",
   "name": "python",
   "nbconvert_exporter": "python",
   "pygments_lexer": "ipython3",
   "version": "3.9.10"
  },
  "orig_nbformat": 4
 },
 "nbformat": 4,
 "nbformat_minor": 2
}
