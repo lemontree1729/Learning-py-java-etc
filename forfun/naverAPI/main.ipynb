{
 "cells": [
  {
   "cell_type": "code",
   "execution_count": null,
   "metadata": {},
   "outputs": [],
   "source": [
    "from naverAPI import *\n",
    "from crawling import *"
   ]
  },
  {
   "cell_type": "code",
   "execution_count": null,
   "metadata": {},
   "outputs": [],
   "source": [
    "webtoon_url = \"https://comic.naver.com/webtoon/weekday\"\n",
    "title_id_match = dict(html_selector(webtoon_url, \".col_inner a:nth-child(2)\", lambda x:(x.attrs[\"title\"], get_url_query(x.attrs[\"href\"])[\"titleId\"])))\n",
    "title_id_match"
   ]
  },
  {
   "cell_type": "code",
   "execution_count": null,
   "metadata": {},
   "outputs": [],
   "source": [
    "webtoon_list_url = \"https://comic.naver.com/webtoon/list\"\n",
    "new_title_id_match = {}\n",
    "for title, id in title_id_match.items():\n",
    "    first_date = html_selector(set_url(webtoon_list_url, query={\"titleId\":id, \"page\":1000}), \"td.num\")[-1]\n",
    "    if first_date>\"2021\":\n",
    "        new_title_id_match[\"title\"] = id\n",
    "        print(title, first_date)\n",
    "new_title_id_match"
   ]
  },
  {
   "cell_type": "code",
   "execution_count": null,
   "metadata": {},
   "outputs": [],
   "source": [
    "target_id = 570503\n",
    "get_naver_comment_json(\"comic\", {\"objectId\": f\"{target_id}_{10000}\"})"
   ]
  }
 ],
 "metadata": {
  "interpreter": {
   "hash": "d9a2a7e76be0666fe27d557e389290381784232b36828a7affb84ce52a0a0717"
  },
  "kernelspec": {
   "display_name": "Python 3.9.10 ('pybook')",
   "language": "python",
   "name": "python3"
  },
  "language_info": {
   "codemirror_mode": {
    "name": "ipython",
    "version": 3
   },
   "file_extension": ".py",
   "mimetype": "text/x-python",
   "name": "python",
   "nbconvert_exporter": "python",
   "pygments_lexer": "ipython3",
   "version": "3.9.10"
  },
  "orig_nbformat": 4
 },
 "nbformat": 4,
 "nbformat_minor": 2
}
