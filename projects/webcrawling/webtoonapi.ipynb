{
 "cells": [
  {
   "cell_type": "code",
   "execution_count": null,
   "metadata": {},
   "outputs": [],
   "source": [
    "from pymongo import MongoClient\n",
    "\n",
    "client = MongoClient()\n",
    "test_collection = client[\"test\"][\"comment\"]"
   ]
  },
  {
   "cell_type": "code",
   "execution_count": null,
   "metadata": {},
   "outputs": [],
   "source": [
    "import requests\n",
    "from urllib import parse\n",
    "import re\n",
    "import json\n",
    "\n",
    "\n",
    "def getJson(url, query={}, init_api_url=\"https://apis.naver.com/commentBox/cbox/web_naver_list_jsonp.json?ticket=comic&pool=cbox3&lang=ko&objectId=183559_517&pageSize=100&page=1&sort=NEW\"):    \n",
    "    # make valid header\n",
    "    parsed_url = parse.urlparse(url)\n",
    "    parsed_url_query = dict(parse.parse_qsl(parsed_url.query))\n",
    "    for key in list(parsed_url_query.keys()): # remove weekday value\n",
    "        if key not in (\"titleId\", \"no\"):\n",
    "            parsed_url_query.pop(key)\n",
    "    comment_url = parse.urlunparse(parsed_url._replace(path=\"/comment/comment\", query=parse.urlencode(parsed_url_query)))\n",
    "    header = {\"referer\":comment_url,\n",
    "    \"user-agent\": \"Mozilla/5.0 (Windows NT 10.0; Win64; x64) AppleWebKit/537.36 (KHTML, like Gecko) Chrome/97.0.4692.99 Safari/537.36\"}\n",
    "    print(header)\n",
    "\n",
    "    # get api url using query of init api url\n",
    "    parsed_init_api_url = parse.urlparse(init_api_url)\n",
    "    parsed_init_api_url_query = dict(parse.parse_qsl(parsed_init_api_url.query))\n",
    "    new_objectId = \"_\".join(parsed_url_query.values())\n",
    "    print(new_objectId)\n",
    "    parsed_init_api_url_query[\"objectId\"] = new_objectId # change only objectId query value\n",
    "    for key, value in query.items():\n",
    "        parsed_init_api_url_query[key] = value\n",
    "    api_url = parse.urlunparse(parsed_init_api_url._replace(query=parse.urlencode(parsed_init_api_url_query)))\n",
    "    print(api_url)\n",
    "    \n",
    "    # removing useless prefix and subfix\n",
    "    removeElse = re.compile(\"^[^{]+|[^}]+$\")\n",
    "    api_json = json.loads(removeElse.sub(\"\", requests.get(api_url, headers=header).text))\n",
    "    return api_json"
   ]
  },
  {
   "cell_type": "code",
   "execution_count": null,
   "metadata": {},
   "outputs": [],
   "source": [
    "url = \"https://comic.naver.com/webtoon/detail?titleId=783054&no=62&weekday=tue\"\n",
    "init_test_api_url=\"https://apis.naver.com/commentBox/cbox/web_naver_list_jsonp.json?ticket=comic_challenge&templateId=default&pool=cbox3&_wr&_callback=jQuery1124034503790000299817_1644289480843&lang=ko&country=KR&objectId=701701_1176&categoryId=&pageSize=15&indexSize=10&groupId=&listType=OBJECT&pageType=default&page=1&refresh=true&sort=NEW&_=1644289480845\"\n",
    "url_json=getJson(url)"
   ]
  },
  {
   "cell_type": "code",
   "execution_count": null,
   "metadata": {},
   "outputs": [],
   "source": [
    "from datetime import datetime\n",
    "\n",
    "\n",
    "dateFormat = \"%Y-%m-%dT%H:%M:%S%z\"\n",
    "while True:\n",
    "    target_url = \"https://comic.naver.com/webtoon/detail?titleId=783054&no=62&weekday=tue\"\n",
    "    pagenum = getJson(target_url)[\"result\"][\"pageModel\"][\"lastPage\"]\n",
    "    comment_data = []\n",
    "    while pagenum > 0:\n",
    "        comment_json = getJson(target_url, {\"page\":pagenum})\n",
    "        comment_list = url_json[\"result\"][\"commentList\"][::-1]\n",
    "        for comment in comment_list:\n",
    "            if datetime.strptime(comment[\"regTime\"]):\n",
    "\n",
    "                pass\n",
    "                # print(i[\"userIdNo\"], i[\"regTime\"], i[\"sympathyCount\"], i[\"antipathyCount\"])\n",
    "        break\n",
    "    break\n",
    "            "
   ]
  },
  {
   "cell_type": "code",
   "execution_count": null,
   "metadata": {},
   "outputs": [],
   "source": [
    "from datetime import datetime\n",
    "\n",
    "\n",
    "datetime.strptime(\"2022-02-07T22:53:29+0900\", \"%Y-%m-%dT%H:%M:%S%z\")"
   ]
  },
  {
   "cell_type": "code",
   "execution_count": null,
   "metadata": {},
   "outputs": [],
   "source": [
    "from pprint import pprint\n",
    "\n",
    "\n",
    "pprint(url_json)\n",
    "comment_list = None\n",
    "if url_json[\"success\"]:\n",
    "    comment_list = url_json[\"result\"][\"commentList\"]\n",
    "len(comment_list)"
   ]
  },
  {
   "cell_type": "code",
   "execution_count": null,
   "metadata": {},
   "outputs": [],
   "source": []
  },
  {
   "cell_type": "code",
   "execution_count": null,
   "metadata": {},
   "outputs": [],
   "source": [
    "total_text = \"\"\n",
    "text_cleaning = re.compile(\"[^가-힣 ]\")\n",
    "\n",
    "for i in comment_list:\n",
    "    print(\"---------------------------------------\")\n",
    "    print(i[\"userIdNo\"], i[\"regTime\"], i[\"sympathyCount\"], i[\"antipathyCount\"])\n",
    "    print(i[\"contents\"])\n",
    "    total_text += \" \" + text_cleaning.sub(\" \", i[\"contents\"])\n",
    "    if i[\"modTime\"] != i[\"regTime\"]:\n",
    "        print(i)\n",
    "        break"
   ]
  },
  {
   "cell_type": "code",
   "execution_count": null,
   "metadata": {},
   "outputs": [],
   "source": []
  },
  {
   "cell_type": "code",
   "execution_count": null,
   "metadata": {},
   "outputs": [],
   "source": [
    "total_text"
   ]
  },
  {
   "cell_type": "code",
   "execution_count": null,
   "metadata": {},
   "outputs": [],
   "source": [
    "from konlpy.tag import Okt\n",
    "from collections import Counter\n",
    "\n",
    "noun_counter = Counter(Okt().nouns(total_text))"
   ]
  },
  {
   "cell_type": "code",
   "execution_count": null,
   "metadata": {},
   "outputs": [],
   "source": [
    "noun_counter"
   ]
  },
  {
   "cell_type": "code",
   "execution_count": null,
   "metadata": {},
   "outputs": [],
   "source": [
    "from wordcloud import WordCloud\n",
    "import matplotlib.pyplot as plt\n",
    "\n",
    "wordcloud = WordCloud(font_path='NanumGothic', background_color='white', colormap=\"cool\").fit_words(noun_counter)\n",
    "plt.imshow(wordcloud)\n",
    "plt.axis(\"off\")\n",
    "# wordcloud.to_image().show()\n",
    "# wordcloud.to_file('test.jpg')"
   ]
  },
  {
   "cell_type": "code",
   "execution_count": null,
   "metadata": {},
   "outputs": [],
   "source": [
    "total_text"
   ]
  }
 ],
 "metadata": {
  "interpreter": {
   "hash": "d9a2a7e76be0666fe27d557e389290381784232b36828a7affb84ce52a0a0717"
  },
  "kernelspec": {
   "display_name": "Python 3.9.7 ('pybook')",
   "language": "python",
   "name": "python3"
  },
  "language_info": {
   "codemirror_mode": {
    "name": "ipython",
    "version": 3
   },
   "file_extension": ".py",
   "mimetype": "text/x-python",
   "name": "python",
   "nbconvert_exporter": "python",
   "pygments_lexer": "ipython3",
   "version": "3.9.10"
  },
  "orig_nbformat": 4
 },
 "nbformat": 4,
 "nbformat_minor": 2
}
