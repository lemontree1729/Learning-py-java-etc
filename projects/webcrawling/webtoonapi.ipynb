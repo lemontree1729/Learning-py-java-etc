{
 "cells": [
  {
   "cell_type": "code",
   "execution_count": null,
   "metadata": {},
   "outputs": [],
   "source": [
    "import requests\n",
    "from urllib import parse\n",
    "\n",
    "url = \"https://comic.naver.com/webtoon/detail?titleId=570503&no=392&weekday=thu\"\n",
    "\n",
    "# make valid header\n",
    "parsed_url = parse.urlparse(url)\n",
    "parsed_url_query = dict(parse.parse_qsl(parsed_url.query))\n",
    "for key in list(parsed_url_query.keys()): # remove weekday value\n",
    "    if key not in (\"titleId\", \"no\"):\n",
    "        parsed_url_query.pop(key)\n",
    "comment_url = parse.urlunparse(parsed_url._replace(path=\"/comment/comment\", query=parse.urlencode(parsed_url_query)))\n",
    "header = {\"referer\":comment_url,\n",
    " \"user-agent\": \"Mozilla/5.0 (Windows NT 10.0; Win64; x64) AppleWebKit/537.36 (KHTML, like Gecko) Chrome/97.0.4692.99 Safari/537.36\"}\n",
    "\n",
    "# get api url using query of init api url\n",
    "init_api_url = \"https://apis.naver.com/commentBox/cbox/web_naver_list_jsonp.json?ticket=comic&pool=cbox3&lang=ko&objectId=183559_517&pageSize=100&page=1\"\n",
    "parsed_init_api_url = parse.urlparse(init_api_url)\n",
    "parsed_init_api_url_query = dict(parse.parse_qsl(parsed_init_api_url.query))\n",
    "new_objectId = \"_\".join(parsed_url_query.values())\n",
    "parsed_init_api_url_query[\"objectId\"] = new_objectId # change only objectId query value\n",
    "api_url = parse.urlunparse(parsed_init_api_url._replace(query=parse.urlencode(parsed_init_api_url_query)))"
   ]
  },
  {
   "cell_type": "code",
   "execution_count": null,
   "metadata": {},
   "outputs": [],
   "source": [
    "import re\n",
    "import json\n",
    "\n",
    "# removing useless prefix and subfix\n",
    "removeElse = re.compile(\"^[^{]+|[^}]+$\")\n",
    "api_json = json.loads(removeElse.sub(\"\", requests.get(api_url, headers=header).text))\n",
    "comment_list = None\n",
    "if api_json[\"success\"]:\n",
    "    comment_list = api_json[\"result\"][\"commentList\"]\n",
    "len(comment_list)"
   ]
  },
  {
   "cell_type": "code",
   "execution_count": null,
   "metadata": {},
   "outputs": [],
   "source": [
    "total_text = \"\"\n",
    "\n",
    "text_cleaning = re.compile(\"[^가-힣 ]\")\n",
    "\n",
    "for i in comment_list:\n",
    "    print(\"---------------------------------------\")\n",
    "    print(i[\"userIdNo\"], i[\"regTime\"], i[\"sympathyCount\"], i[\"antipathyCount\"])\n",
    "    print(i[\"contents\"])\n",
    "    total_text += \" \" + text_cleaning.sub(\" \", i[\"contents\"])\n",
    "    if i[\"modTime\"] != i[\"regTime\"]:\n",
    "        print(i)\n",
    "        break"
   ]
  },
  {
   "cell_type": "code",
   "execution_count": null,
   "metadata": {},
   "outputs": [],
   "source": [
    "total_text"
   ]
  },
  {
   "cell_type": "code",
   "execution_count": null,
   "metadata": {},
   "outputs": [],
   "source": [
    "from konlpy.tag import Okt\n",
    "from collections import Counter\n",
    "\n",
    "noun_counter = Counter(Okt().nouns(total_text))"
   ]
  },
  {
   "cell_type": "code",
   "execution_count": null,
   "metadata": {},
   "outputs": [],
   "source": [
    "noun_counter"
   ]
  },
  {
   "cell_type": "code",
   "execution_count": null,
   "metadata": {},
   "outputs": [],
   "source": [
    "from wordcloud import WordCloud\n",
    "import matplotlib.pyplot as plt\n",
    "\n",
    "wordcloud = WordCloud(font_path='NanumGothic', background_color='white', colormap=\"cool\").fit_words(noun_counter)\n",
    "plt.imshow(wordcloud)\n",
    "plt.axis(\"off\")\n",
    "# wordcloud.to_image().show()\n",
    "# wordcloud.to_file('test.jpg')"
   ]
  },
  {
   "cell_type": "code",
   "execution_count": null,
   "metadata": {},
   "outputs": [],
   "source": [
    "total_text"
   ]
  }
 ],
 "metadata": {
  "interpreter": {
   "hash": "d9a2a7e76be0666fe27d557e389290381784232b36828a7affb84ce52a0a0717"
  },
  "kernelspec": {
   "display_name": "Python 3.9.7 ('pybook')",
   "language": "python",
   "name": "python3"
  },
  "language_info": {
   "codemirror_mode": {
    "name": "ipython",
    "version": 3
   },
   "file_extension": ".py",
   "mimetype": "text/x-python",
   "name": "python",
   "nbconvert_exporter": "python",
   "pygments_lexer": "ipython3",
   "version": "3.9.10"
  },
  "orig_nbformat": 4
 },
 "nbformat": 4,
 "nbformat_minor": 2
}
