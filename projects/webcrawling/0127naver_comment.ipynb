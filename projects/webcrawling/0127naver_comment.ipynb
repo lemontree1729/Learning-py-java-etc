{
 "cells": [
  {
   "cell_type": "code",
   "execution_count": null,
   "id": "1b4b85d0",
   "metadata": {},
   "outputs": [],
   "source": [
    "#coding.utf-8\n",
    "%matplotlib inline\n",
    "\n",
    "import pandas as pd\n",
    "import numpy as np\n",
    "import matplotlib.pyplot as plt\n",
    "\n",
    "import warnings\n",
    "warnings.filterwarnings(\"ignore\")"
   ]
  },
  {
   "cell_type": "code",
   "execution_count": null,
   "id": "98835de9",
   "metadata": {
    "scrolled": false
   },
   "outputs": [],
   "source": [
    "import re #정규식 표현을 위한 모듈\n",
    "from crawling import *"
   ]
  },
  {
   "cell_type": "code",
   "execution_count": null,
   "id": "03a2420c",
   "metadata": {
    "scrolled": true
   },
   "outputs": [],
   "source": [
    "epi = []\n",
    "stop = False\n",
    "pageURL = \"https://comic.naver.com/webtoon/list?titleId=736277&weekday=sun&page=\"\n",
    "for i in range(1,10):\n",
    "    for j in range(10):\n",
    "        source_url = '{0}{1}'.format(pageURL,i)\n",
    "        soup = html_parser(source_url)\n",
    "        year = soup.select(\"td.num\")[j].text.split(\".\")[0]\n",
    "        if  (year == None) or (year == '2020'):\n",
    "            stop = True\n",
    "            break\n",
    "        epi.append(soup.select(\"td.title > a\")[j])\n",
    "    if stop == True:\n",
    "        break"
   ]
  },
  {
   "cell_type": "code",
   "execution_count": null,
   "id": "93b7dcfb",
   "metadata": {
    "scrolled": true
   },
   "outputs": [],
   "source": [
    "commentArray = []\n",
    "url = 'https://comic.naver.com'\n",
    "progress = ProgressBar(len(epi))\n",
    "for i in epi:\n",
    "    progress.next()\n",
    "    soup = html_parser(url+i.attrs[\"href\"])\n",
    "    commentURL = soup.select_one(\"#commentIframe\").attrs[\"src\"]\n",
    "    soup = html_parser(url+commentURL)\n",
    "    comment = soup.select(\".u_cbox_contents\")\n",
    "    commentArray.append(get_text(comment))\n",
    "    print(get_text(comment))"
   ]
  },
  {
   "cell_type": "code",
   "execution_count": null,
   "id": "6042a7da",
   "metadata": {
    "scrolled": true
   },
   "outputs": [],
   "source": [
    "def text_cleaning(text):\n",
    "    hangul = re.compile('[^ㄱ-힣 ]+')\n",
    "    result = hangul.sub('',text)\n",
    "    return result\n",
    "\n",
    "# Text = \"\".join(commentArray).replace('\\n',\" \")\n",
    "# print(text_cleaning(Text))"
   ]
  },
  {
   "cell_type": "code",
   "execution_count": null,
   "id": "3367929b",
   "metadata": {},
   "outputs": [],
   "source": [
    "import konlpy\n",
    "\n",
    "from konlpy.tag import Okt\n",
    "from collections import Counter\n",
    "\n",
    "with open(\"test.txt\", encoding=\"utf8\") as test:\n",
    "    Text = \"\".join(test.readlines())\n",
    "nouns_tagger = Okt()\n",
    "nouns = nouns_tagger.nouns(text_cleaning(Text))\n",
    "count = Counter(nouns)"
   ]
  },
  {
   "cell_type": "code",
   "execution_count": null,
   "id": "9757bc7b",
   "metadata": {},
   "outputs": [],
   "source": [
    "len(count)"
   ]
  },
  {
   "cell_type": "code",
   "execution_count": null,
   "id": "40e85550",
   "metadata": {},
   "outputs": [],
   "source": [
    "len([i for i in count if len(i)>1])"
   ]
  },
  {
   "cell_type": "code",
   "execution_count": null,
   "id": "e6faa549",
   "metadata": {
    "scrolled": true
   },
   "outputs": [],
   "source": [
    "remove_char_counter = Counter({x:count[x] for x in count if len(x) >1})\n",
    "korean_stopwords_path = 'korean_stopwords.txt'\n",
    "\n",
    "# 텍스트 파일을 오픈 \n",
    "with open(korean_stopwords_path,encoding = 'utf8') as f: \n",
    "    stopwords = f.readlines() \n",
    "stopwords = [x.strip() for x in stopwords]\n",
    "\n",
    "remove_char_counter=Counter({x:remove_char_counter[x] for x in count if x not in stopwords})\n",
    "remove_char_counter=Counter({x:remove_char_counter[x] for x in remove_char_counter if len(x)>1})\n",
    "print(remove_char_counter)"
   ]
  },
  {
   "cell_type": "code",
   "execution_count": null,
   "id": "2f1c96ad",
   "metadata": {},
   "outputs": [],
   "source": [
    "import random\n",
    "import pytagcloud\n",
    "import webbrowser\n",
    "\n",
    "ranked_tags=remove_char_counter.most_common(50)\n",
    "taglist = pytagcloud.make_tags(ranked_tags,maxsize=80)\n",
    "pytagcloud.create_tag_image(taglist,'wordcloud.jpg',size=(900,600),fontname=\"NanumGothic\",rectangular=False)\n",
    "from IPython.display import Image\n",
    "Image(filename='wordcloud.jpg')"
   ]
  },
  {
   "cell_type": "code",
   "execution_count": null,
   "id": "624cf4f9",
   "metadata": {},
   "outputs": [],
   "source": []
  }
 ],
 "metadata": {
  "kernelspec": {
   "display_name": "Python 3 (ipykernel)",
   "language": "python",
   "name": "python3"
  },
  "language_info": {
   "codemirror_mode": {
    "name": "ipython",
    "version": 3
   },
   "file_extension": ".py",
   "mimetype": "text/x-python",
   "name": "python",
   "nbconvert_exporter": "python",
   "pygments_lexer": "ipython3",
   "version": "3.9.10"
  }
 },
 "nbformat": 4,
 "nbformat_minor": 5
}
