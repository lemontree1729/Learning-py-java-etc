{
 "cells": [
  {
   "cell_type": "code",
   "execution_count": null,
   "metadata": {},
   "outputs": [],
   "source": [
    "import requests\n",
    "from crawling import *"
   ]
  },
  {
   "cell_type": "code",
   "execution_count": null,
   "metadata": {},
   "outputs": [],
   "source": [
    "client = MongoClient(\"mongodb+srv://cluster0.c6ccx.mongodb.net/test\", authsource=\"$external\", authmechanism=\"MONGODB-X509\", tls=True, tlsCertificateKeyFile=\"D:\\github\\mongodb.pem\")"
   ]
  },
  {
   "cell_type": "code",
   "execution_count": null,
   "metadata": {},
   "outputs": [],
   "source": [
    "with open(\"D:/github/opendict.txt\", encoding=\"utf8\") as f:\n",
    "    key = f.readline().strip()\n",
    "\n",
    "keyword = \"나무\"\n",
    "url = f\"https://opendict.korean.go.kr/api/search\"\n",
    "params = {\"key\":key, \"q\":keyword, \"req_type\":\"json\"}\n",
    "requests.get(url, params=params, verify=False).json()"
   ]
  },
  {
   "cell_type": "code",
   "execution_count": null,
   "metadata": {},
   "outputs": [],
   "source": [
    "import time\n",
    "import datetime\n",
    "\n",
    "class ProgressBar():\n",
    "    def __init__(self, length, division=50, style=\"=\"):\n",
    "        self.count = 0\n",
    "        self.length = length\n",
    "        self.division = division\n",
    "        self.style = style\n",
    "        self.start = time.time()\n",
    "\n",
    "    def next(self):\n",
    "        self.count += 1\n",
    "        bar = int(self.count / self.length * self.division)\n",
    "        percent = int(self.count / self.length * 100)\n",
    "        self.end = time.time()\n",
    "        average_time = (self.end - self.start) / self.count\n",
    "        eta = datetime.timedelta(seconds=int(average_time * (self.length - self.count)))\n",
    "        print(f\"process: [{self.style*bar}{' '*(self.division-bar)}] |{percent:3d}% | {self.count}/{self.length} | eta: {eta}\", end=\"\\r\")\n",
    "        if self.count == self.length:\n",
    "            print(f\"\\ntook {datetime.timedelta(seconds=self.end - self.start)}\")"
   ]
  },
  {
   "cell_type": "code",
   "execution_count": null,
   "metadata": {},
   "outputs": [],
   "source": [
    "a = ProgressBar(213)\n",
    "for i in range(213):\n",
    "    a.next()\n",
    "    time.sleep(0.01)"
   ]
  },
  {
   "cell_type": "code",
   "execution_count": null,
   "metadata": {},
   "outputs": [],
   "source": [
    "import tweepy"
   ]
  },
  {
   "cell_type": "code",
   "execution_count": null,
   "metadata": {},
   "outputs": [],
   "source": [
    "with open(\"D:/github/twitter.txt\", encoding=\"utf8\") as f:\n",
    "    client = tweepy.Client(f.readline().strip())"
   ]
  },
  {
   "cell_type": "code",
   "execution_count": null,
   "metadata": {},
   "outputs": [],
   "source": [
    "keyword = \"손흥민\"\n",
    "target = list(tweepy.Paginator(client.search_recent_tweets, keyword, tweet_fields=[\"created_at\"], max_results=10, limit=1).flatten())\n",
    "print(len(target))"
   ]
  },
  {
   "cell_type": "code",
   "execution_count": null,
   "metadata": {},
   "outputs": [],
   "source": [
    "for i in target:\n",
    "    print(type(i), i)"
   ]
  }
 ],
 "metadata": {
  "interpreter": {
   "hash": "d404e59788a42e91be32e88e4d55eb45ff4b15ab4c11426688ddfe031dbf1308"
  },
  "kernelspec": {
   "display_name": "Python 3.10.2 64-bit ('mycrowling': conda)",
   "language": "python",
   "name": "python3"
  },
  "language_info": {
   "codemirror_mode": {
    "name": "ipython",
    "version": 3
   },
   "file_extension": ".py",
   "mimetype": "text/x-python",
   "name": "python",
   "nbconvert_exporter": "python",
   "pygments_lexer": "ipython3",
   "version": "3.10.2"
  },
  "orig_nbformat": 4
 },
 "nbformat": 4,
 "nbformat_minor": 2
}
