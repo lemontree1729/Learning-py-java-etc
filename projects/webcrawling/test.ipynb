{
 "cells": [
  {
   "cell_type": "code",
   "execution_count": null,
   "metadata": {},
   "outputs": [],
   "source": [
    "from crawling import *\n",
    "import datetime\n",
    "import pandas as pd\n",
    "import numpy as np\n",
    "import matplotlib.pyplot as plt\n",
    "from pprint import pprint\n",
    "from pymongo import MongoClient\n",
    "# need dnspython, PyOpenSSL, requests and service_identity for srv and ocsp\n",
    "from urllib import parse\n",
    "from naverapi import *"
   ]
  },
  {
   "cell_type": "code",
   "execution_count": null,
   "metadata": {},
   "outputs": [],
   "source": [
    "client = MongoClient(\n",
    "    \"mongodb+srv://cluster0.c6ccx.mongodb.net\",\n",
    "    authsource=\"$external\",\n",
    "    authmechanism=\"MONGODB-X509\",\n",
    "    tls=True,\n",
    "    tlsCertificateKeyFile=\"../../../mongodb.pem\",\n",
    ")\n",
    "db = client[\"test\"]\n",
    "test = db[\"test\"]"
   ]
  },
  {
   "cell_type": "code",
   "execution_count": null,
   "metadata": {},
   "outputs": [],
   "source": [
    "test.drop()"
   ]
  },
  {
   "cell_type": "code",
   "execution_count": null,
   "metadata": {},
   "outputs": [],
   "source": [
    "dateFormat = \"%Y-%m-%dT%H:%M:%S%z\"\n",
    "test.insert_one({\"1\":datetime.datetime.strptime(\"2022-02-09T13:20:20+0900\", dateFormat)})\n",
    "test.insert_one({\"2\":datetime.datetime(2022,2,9,13,20,20)})\n",
    "test.insert_one({\"3\":datetime.datetime(2022,2,9,13,20,20,tzinfo=datetime.timezone(datetime.timedelta(seconds=32400)))})\n",
    "# datetime.datetime.strptime(\"2022-02-09T13:20:20+0900\", dateFormat)"
   ]
  },
  {
   "cell_type": "code",
   "execution_count": null,
   "metadata": {},
   "outputs": [],
   "source": [
    "datetime.datetime(2021, 1,1).replace(tzinfo=datetime.timezone(datetime.timedelta(seconds=32400)))"
   ]
  },
  {
   "cell_type": "code",
   "execution_count": null,
   "metadata": {},
   "outputs": [],
   "source": [
    "from urllib import parse\n",
    "url1 = \"https://apis.naver.com/a\"\n",
    "url2 = \"ab/commentBox/cbox/web_naver_list_jsonp.json?ticket=comic&pool=cbox3&lang=ko&objectId=183559_517&pageSize=100&page=1&sort=NEW\"\n",
    "\n",
    "print(parse.urlsplit(url1))\n",
    "print(parse.urlsplit(url2))\n",
    "parse.urlsplit(url1)._replace\n",
    "print(parse.urljoin(url2, \"/\"))\n",
    "print(parse.parse_qs(parse.urlsplit(url2).query))\n",
    "parse.urlencode(parse.parse_qs(parse.urlsplit(url2).query), doseq=True)"
   ]
  },
  {
   "cell_type": "code",
   "execution_count": null,
   "metadata": {},
   "outputs": [],
   "source": []
  },
  {
   "cell_type": "code",
   "execution_count": null,
   "metadata": {},
   "outputs": [],
   "source": [
    "client = MongoClient(\"mongodb+srv://cluster0.c6ccx.mongodb.net/test\", authsource=\"$external\", authmechanism=\"MONGODB-X509\", tls=True, tlsCertificateKeyFile=\"D:\\github\\mongodb.pem\")"
   ]
  },
  {
   "cell_type": "code",
   "execution_count": null,
   "metadata": {},
   "outputs": [],
   "source": [
    "with open(\"D:/github/opendict.txt\", encoding=\"utf8\") as f:\n",
    "    key = f.readline().strip()\n",
    "\n",
    "keyword = \"나무\"\n",
    "url = f\"https://opendict.korean.go.kr/api/search\"\n",
    "params = {\"key\":key, \"q\":keyword, \"req_type\":\"json\"}\n",
    "requests.get(url, params=params, verify=False).json()"
   ]
  },
  {
   "cell_type": "code",
   "execution_count": null,
   "metadata": {},
   "outputs": [],
   "source": [
    "import time\n",
    "import datetime\n",
    "\n",
    "class ProgressBar():\n",
    "    def __init__(self, length, division=50, style=\"=\"):\n",
    "        self.count = 0\n",
    "        self.length = length\n",
    "        self.division = division\n",
    "        self.style = style\n",
    "        self.start = time.time()\n",
    "\n",
    "    def next(self):\n",
    "        self.count += 1\n",
    "        bar = int(self.count / self.length * self.division)\n",
    "        percent = int(self.count / self.length * 100)\n",
    "        self.end = time.time()\n",
    "        average_time = (self.end - self.start) / self.count\n",
    "        eta = datetime.timedelta(seconds=int(average_time * (self.length - self.count)))\n",
    "        print(f\"process: [{self.style*bar}{' '*(self.division-bar)}] |{percent:3d}% | {self.count}/{self.length} | eta: {eta}\", end=\"\\r\")\n",
    "        if self.count == self.length:\n",
    "            print(f\"\\ntook {datetime.timedelta(seconds=self.end - self.start)}\")"
   ]
  },
  {
   "cell_type": "code",
   "execution_count": null,
   "metadata": {},
   "outputs": [],
   "source": [
    "a = ProgressBar(213)\n",
    "for i in range(213):\n",
    "    a.next()\n",
    "    time.sleep(0.01)"
   ]
  },
  {
   "cell_type": "code",
   "execution_count": null,
   "metadata": {},
   "outputs": [],
   "source": [
    "import tweepy"
   ]
  },
  {
   "cell_type": "code",
   "execution_count": null,
   "metadata": {},
   "outputs": [],
   "source": [
    "with open(\"D:/github/twitter.txt\", encoding=\"utf8\") as f:\n",
    "    client = tweepy.Client(f.readline().strip())"
   ]
  },
  {
   "cell_type": "code",
   "execution_count": null,
   "metadata": {},
   "outputs": [],
   "source": [
    "keyword = \"손흥민\"\n",
    "target = list(tweepy.Paginator(client.search_recent_tweets, keyword, tweet_fields=[\"created_at\"], max_results=10, limit=1).flatten())\n",
    "print(len(target))"
   ]
  },
  {
   "cell_type": "code",
   "execution_count": null,
   "metadata": {},
   "outputs": [],
   "source": [
    "for i in target:\n",
    "    print(type(i), i)"
   ]
  }
 ],
 "metadata": {
  "interpreter": {
   "hash": "d404e59788a42e91be32e88e4d55eb45ff4b15ab4c11426688ddfe031dbf1308"
  },
  "kernelspec": {
   "display_name": "Python 3.10.2 64-bit ('mycrowling': conda)",
   "language": "python",
   "name": "python3"
  },
  "language_info": {
   "codemirror_mode": {
    "name": "ipython",
    "version": 3
   },
   "file_extension": ".py",
   "mimetype": "text/x-python",
   "name": "python",
   "nbconvert_exporter": "python",
   "pygments_lexer": "ipython3",
   "version": "3.9.10"
  },
  "orig_nbformat": 4
 },
 "nbformat": 4,
 "nbformat_minor": 2
}
