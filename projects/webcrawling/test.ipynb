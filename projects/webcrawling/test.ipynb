{
 "cells": [
  {
   "cell_type": "code",
   "execution_count": 15,
   "metadata": {},
   "outputs": [],
   "source": [
    "def count_progress(cnt, length, division=50):\n",
    "    start = time.time()\n",
    "    eq = cnt // (length // division)\n",
    "    percent = int(cnt / length * 100)\n",
    "    print(f\"process: [{'='*eq}{' '*(division-eq)}] | {percent:3d}% | {cnt}/{length} | ETA: \", end=\"\\r\")\n",
    "    if cnt == length:\n",
    "        print(\"\")"
   ]
  },
  {
   "cell_type": "code",
   "execution_count": 20,
   "metadata": {},
   "outputs": [
    {
     "name": "stdout",
     "output_type": "stream",
     "text": [
      "14 days, 1:30:00.120000\n"
     ]
    }
   ],
   "source": [
    "import datetime\n",
    "\n",
    "print(datetime.timedelta(seconds=1215000.12))"
   ]
  },
  {
   "cell_type": "code",
   "execution_count": 34,
   "metadata": {},
   "outputs": [],
   "source": [
    "import time\n",
    "import datetime\n",
    "\n",
    "class ProgressBar():\n",
    "    def __init__(self, length, division=50, style=\"=\"):\n",
    "        self.count = 0\n",
    "        self.length = length\n",
    "        self.division = division\n",
    "        self.style = style\n",
    "        self.start = time.time()\n",
    "\n",
    "    def next(self):\n",
    "        self.count += 1\n",
    "        bar = int(self.count / self.length * self.division)\n",
    "        percent = int(self.count / self.length * 100)\n",
    "        self.end = time.time()\n",
    "        average_time = (self.end - self.start) / self.count\n",
    "        eta = datetime.timedelta(seconds=int(average_time * (self.length - self.count)))\n",
    "        print(f\"process: [{self.style*bar}{' '*(self.division-bar)}] |{percent:3d}% | {self.count}/{self.length} | eta: {eta}\", end=\"\\r\")\n",
    "        if self.count == self.length:\n",
    "            print(f\"\\ntook {datetime.timedelta(seconds=self.end - self.start)}\")"
   ]
  },
  {
   "cell_type": "code",
   "execution_count": 35,
   "metadata": {},
   "outputs": [
    {
     "name": "stdout",
     "output_type": "stream",
     "text": [
      "process: [==================================================] | 100% | 213/213 | eta: 0:00:00\n",
      "took 0:00:03.388633\n",
      "1213123131\n"
     ]
    }
   ],
   "source": [
    "a = ProgressBar(213)\n",
    "for i in range(213):\n",
    "    a.next()\n",
    "    time.sleep(0.01)"
   ]
  }
 ],
 "metadata": {
  "interpreter": {
   "hash": "d404e59788a42e91be32e88e4d55eb45ff4b15ab4c11426688ddfe031dbf1308"
  },
  "kernelspec": {
   "display_name": "Python 3.10.2 64-bit ('mycrowling': conda)",
   "language": "python",
   "name": "python3"
  },
  "language_info": {
   "codemirror_mode": {
    "name": "ipython",
    "version": 3
   },
   "file_extension": ".py",
   "mimetype": "text/x-python",
   "name": "python",
   "nbconvert_exporter": "python",
   "pygments_lexer": "ipython3",
   "version": "3.10.2"
  },
  "orig_nbformat": 4
 },
 "nbformat": 4,
 "nbformat_minor": 2
}
