{
 "cells": [
  {
   "cell_type": "code",
   "execution_count": 1,
   "metadata": {},
   "outputs": [],
   "source": [
    "import requests\n",
    "from crawling import *"
   ]
  },
  {
   "cell_type": "code",
   "execution_count": 5,
   "metadata": {},
   "outputs": [
    {
     "name": "stderr",
     "output_type": "stream",
     "text": [
      "C:\\Users\\jm021\\scoop\\apps\\miniconda3\\current\\envs\\mycrowling\\lib\\site-packages\\urllib3\\connectionpool.py:1043: InsecureRequestWarning: Unverified HTTPS request is being made to host 'opendict.korean.go.kr'. Adding certificate verification is strongly advised. See: https://urllib3.readthedocs.io/en/1.26.x/advanced-usage.html#ssl-warnings\n",
      "  warnings.warn(\n"
     ]
    },
    {
     "data": {
      "text/plain": [
       "{'channel': {'total': 2485,\n",
       "  'num': 10,\n",
       "  'title': '우리말샘 개발 지원(Open API) - 사전 어휘 검색',\n",
       "  'start': 1,\n",
       "  'description': '우리말샘 개발 지원(Open API) - 사전 어휘 검색 결과',\n",
       "  'link': 'http://opendict.korean.go.kr',\n",
       "  'item': [{'word': '나무',\n",
       "    'sense': [{'definition': '줄기나 가지가 목질로 된 여러해살이 식물.',\n",
       "      'link': 'http://opendict.korean.go.kr/dictionary/view?sense_no=368281',\n",
       "      'sense_no': '001',\n",
       "      'target_code': '368281',\n",
       "      'type': '일반어',\n",
       "      'pos': '명사'},\n",
       "     {'definition': '집을 짓거나 가구, 그릇 따위를 만들 때 재료로 사용하는 재목.',\n",
       "      'link': 'http://opendict.korean.go.kr/dictionary/view?sense_no=371323',\n",
       "      'sense_no': '002',\n",
       "      'target_code': '371323',\n",
       "      'type': '일반어',\n",
       "      'pos': '명사'},\n",
       "     {'definition': '땔감이 되는 나무붙이.',\n",
       "      'link': 'http://opendict.korean.go.kr/dictionary/view?sense_no=374374',\n",
       "      'sense_no': '003',\n",
       "      'target_code': '374374',\n",
       "      'type': '일반어',\n",
       "      'pos': '명사'}]},\n",
       "   {'word': '나무',\n",
       "    'sense': [{'definition': '소 장수들의 은어로, 팔백 냥을 이르던 말.',\n",
       "      'link': 'http://opendict.korean.go.kr/dictionary/view?sense_no=490250',\n",
       "      'sense_no': '004',\n",
       "      'target_code': '490250',\n",
       "      'type': '일반어',\n",
       "      'pos': '명사'}]},\n",
       "   {'word': '나무',\n",
       "    'sense': [{'cat': '문학',\n",
       "      'definition': '이양하가 지은 수필. 안분지족의 현인, 고독의 철인(哲人), 훌륭한 견인주의자(堅忍主義者)로 비유되는 나무의 속성을 통하여 지은이의 인생관을 표현하였다.',\n",
       "      'link': 'http://opendict.korean.go.kr/dictionary/view?sense_no=526884',\n",
       "      'sense_no': '005',\n",
       "      'target_code': '526884',\n",
       "      'type': '일반어',\n",
       "      'pos': '명사'}]},\n",
       "   {'word': '나무',\n",
       "    'sense': [{'cat': '무용',\n",
       "      'definition': '마음을 깨끗이 하고, 도를 닦는 장소를 깨끗이 한다는 뜻으로 추는 불교 의식 무용. 양손에 바라를 쥐고 배꼽을 중심으로 하여 머리 위로 들어 올리거나 좌우로 돌리고, 빠른 동작으로 전진, 후퇴, 회전하며 추는 춤으로 천수바라, 명바라, 사다라니바라, 관욕게바라, 막바라, 내림게바라가 있다.',\n",
       "      'link': 'http://opendict.korean.go.kr/dictionary/view?sense_no=416305',\n",
       "      'origin': '鑼舞',\n",
       "      'sense_no': '007',\n",
       "      'target_code': '416305',\n",
       "      'type': '일반어',\n",
       "      'pos': '명사'}]},\n",
       "   {'word': '나무',\n",
       "    'sense': [{'cat': '불교',\n",
       "      'definition': '돌아가 의지한다는 뜻으로, 믿고 받들며 순종함을 이르는 말. 부처나 보살들의 이름 앞에 붙인다.',\n",
       "      'link': 'http://opendict.korean.go.kr/dictionary/view?sense_no=112036',\n",
       "      'origin': '南無',\n",
       "      'sense_no': '006',\n",
       "      'target_code': '112036',\n",
       "      'type': '일반어',\n",
       "      'pos': '명사'}]},\n",
       "   {'word': '나무',\n",
       "    'sense': [{'definition': '‘남짓’의 방언',\n",
       "      'link': 'http://opendict.korean.go.kr/dictionary/view?sense_no=631553',\n",
       "      'sense_no': '008',\n",
       "      'target_code': '631553',\n",
       "      'type': '방언',\n",
       "      'pos': '의존 명사'}]},\n",
       "   {'word': '나무 간판',\n",
       "    'sense': [{'cat': '불교',\n",
       "      'definition': '나무로 만들어서 붙인 간판.',\n",
       "      'link': 'http://opendict.korean.go.kr/dictionary/view?sense_no=703206',\n",
       "      'origin': '나무看板',\n",
       "      'sense_no': '001',\n",
       "      'target_code': '703206',\n",
       "      'type': '일반어',\n",
       "      'pos': ''}]},\n",
       "   {'word': '나무 계단',\n",
       "    'sense': [{'cat': '불교',\n",
       "      'definition': '나무로 만든 계단.',\n",
       "      'link': 'http://opendict.korean.go.kr/dictionary/view?sense_no=772737',\n",
       "      'origin': '나무階段',\n",
       "      'sense_no': '001',\n",
       "      'target_code': '772737',\n",
       "      'type': '일반어',\n",
       "      'pos': ''}]},\n",
       "   {'word': '나무 공이',\n",
       "    'sense': [{'definition': '나무로 만든 공이. 양 끝은 둥글게, 허리 부분은 잘록하게 깎아 만든다.',\n",
       "      'link': 'http://opendict.korean.go.kr/dictionary/view?sense_no=634603',\n",
       "      'sense_no': '001',\n",
       "      'target_code': '634603',\n",
       "      'type': '일반어',\n",
       "      'pos': ''}]},\n",
       "   {'word': '나무 괭이',\n",
       "    'sense': [{'definition': '나무로 만든 괭이.',\n",
       "      'link': 'http://opendict.korean.go.kr/dictionary/view?sense_no=634612',\n",
       "      'sense_no': '001',\n",
       "      'target_code': '634612',\n",
       "      'type': '일반어',\n",
       "      'pos': ''}]}],\n",
       "  'lastbuilddate': '20220203214357'}}"
      ]
     },
     "execution_count": 5,
     "metadata": {},
     "output_type": "execute_result"
    }
   ],
   "source": [
    "keyword = \"나무\"\n",
    "url = f\"https://opendict.korean.go.kr/api/search\"\n",
    "params = {\"key\":key, \"q\":keyword, \"req_type\":\"json\"}\n",
    "requests.get(url, params=params, verify=False).json()"
   ]
  },
  {
   "cell_type": "markdown",
   "metadata": {},
   "source": []
  },
  {
   "cell_type": "code",
   "execution_count": 34,
   "metadata": {},
   "outputs": [],
   "source": [
    "import time\n",
    "import datetime\n",
    "\n",
    "class ProgressBar():\n",
    "    def __init__(self, length, division=50, style=\"=\"):\n",
    "        self.count = 0\n",
    "        self.length = length\n",
    "        self.division = division\n",
    "        self.style = style\n",
    "        self.start = time.time()\n",
    "\n",
    "    def next(self):\n",
    "        self.count += 1\n",
    "        bar = int(self.count / self.length * self.division)\n",
    "        percent = int(self.count / self.length * 100)\n",
    "        self.end = time.time()\n",
    "        average_time = (self.end - self.start) / self.count\n",
    "        eta = datetime.timedelta(seconds=int(average_time * (self.length - self.count)))\n",
    "        print(f\"process: [{self.style*bar}{' '*(self.division-bar)}] |{percent:3d}% | {self.count}/{self.length} | eta: {eta}\", end=\"\\r\")\n",
    "        if self.count == self.length:\n",
    "            print(f\"\\ntook {datetime.timedelta(seconds=self.end - self.start)}\")"
   ]
  },
  {
   "cell_type": "code",
   "execution_count": 35,
   "metadata": {},
   "outputs": [
    {
     "name": "stdout",
     "output_type": "stream",
     "text": [
      "process: [==================================================] | 100% | 213/213 | eta: 0:00:00\n",
      "took 0:00:03.388633\n",
      "1213123131\n"
     ]
    }
   ],
   "source": [
    "a = ProgressBar(213)\n",
    "for i in range(213):\n",
    "    a.next()\n",
    "    time.sleep(0.01)"
   ]
  }
 ],
 "metadata": {
  "interpreter": {
   "hash": "d404e59788a42e91be32e88e4d55eb45ff4b15ab4c11426688ddfe031dbf1308"
  },
  "kernelspec": {
   "display_name": "Python 3.10.2 64-bit ('mycrowling': conda)",
   "language": "python",
   "name": "python3"
  },
  "language_info": {
   "codemirror_mode": {
    "name": "ipython",
    "version": 3
   },
   "file_extension": ".py",
   "mimetype": "text/x-python",
   "name": "python",
   "nbconvert_exporter": "python",
   "pygments_lexer": "ipython3",
   "version": "3.10.2"
  },
  "orig_nbformat": 4
 },
 "nbformat": 4,
 "nbformat_minor": 2
}
