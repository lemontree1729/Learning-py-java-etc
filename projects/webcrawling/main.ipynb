{
 "cells": [
  {
   "cell_type": "code",
   "execution_count": null,
   "metadata": {},
   "outputs": [],
   "source": [
    "from crawling import *\n",
    "import datetime\n",
    "import pandas as pd\n",
    "import numpy as np\n",
    "import matplotlib.pyplot as plt\n",
    "from pprint import pprint\n",
    "from pymongo import MongoClient\n",
    "# need dnspython, PyOpenSSL, requests and service_identity for srv and ocsp\n",
    "from urllib import parse\n",
    "from naverapi import *"
   ]
  },
  {
   "cell_type": "code",
   "execution_count": null,
   "metadata": {},
   "outputs": [],
   "source": [
    "client = MongoClient(\n",
    "    \"mongodb+srv://cluster0.c6ccx.mongodb.net\",\n",
    "    authsource=\"$external\",\n",
    "    authmechanism=\"MONGODB-X509\",\n",
    "    tls=True,\n",
    "    tlsCertificateKeyFile=\"../../../mongodb.pem\",\n",
    ")\n",
    "db = client[\"webtoon\"]\n",
    "collection = db[\"data\"]\n",
    "collection_backup = db[\"backup\"]\n",
    "collection_backup2 = db[\"backup2\"]"
   ]
  },
  {
   "cell_type": "code",
   "execution_count": null,
   "metadata": {},
   "outputs": [],
   "source": [
    "# # reset collection with backup\n",
    "# collection.drop()\n",
    "# collection.insert_many(collection_backup.find())"
   ]
  },
  {
   "cell_type": "code",
   "execution_count": null,
   "metadata": {},
   "outputs": [],
   "source": [
    "# first process\n",
    "root_url = \"https://comic.naver.com/webtoon/weekday\"\n",
    "bar = ProgressBar(len(html_parser(root_url, dynamic=False).select(\".thumb>a\")))\n",
    "for tag in html_parser(root_url, dynamic=False).select(\".thumb>a\"):\n",
    "    bar.next()\n",
    "    title = tag.select_one(\"img\").attrs[\"title\"]\n",
    "    url = \"https://comic.naver.com\" + tag.attrs[\"href\"]\n",
    "    url_query = get_url_query(url)\n",
    "    weekday = url_query[\"weekday\"]\n",
    "    titleId = url_query[\"titleId\"]\n",
    "    if collection.find_one({\"title\": title}):\n",
    "        collection.update_one({\"title\": title}, {\"$addToSet\": {\"weekday\": weekday}})\n",
    "    else:\n",
    "        collection.insert_one({\"title\": title, \"url\": url, \"weekday\": [weekday], \"titleId\": titleId})\n",
    "len(list(collection.find())) # different from expacted value because of duplicate"
   ]
  },
  {
   "cell_type": "code",
   "execution_count": null,
   "metadata": {},
   "outputs": [],
   "source": [
    "# # add backup\n",
    "# pprint(list(collection.find()))\n",
    "# collection_backup2.drop()\n",
    "# collection_backup2.insert_many(collection_backup.find())\n",
    "# collection_backup.drop()\n",
    "# collection_backup.insert_many(collection.find())"
   ]
  },
  {
   "cell_type": "code",
   "execution_count": null,
   "metadata": {},
   "outputs": [],
   "source": [
    "import sys\n",
    "\n",
    "# datetime has smaller size than string!\n",
    "print(sys.getsizeof(datetime.datetime(2021, 8, 21)), sys.getsizeof(\"2021.08.21\"))"
   ]
  },
  {
   "cell_type": "code",
   "execution_count": null,
   "metadata": {},
   "outputs": [],
   "source": [
    "# second process with progressbar\n",
    "first_data = list(collection.find())\n",
    "bar = ProgressBar(len(first_data))\n",
    "for document in first_data:\n",
    "    bar.next()\n",
    "    html = html_parser(document[\"url\"], dynamic=False)\n",
    "    collection.update_one(\n",
    "        {\"title\": document[\"title\"]},\n",
    "        {\n",
    "            \"$set\": {\n",
    "                \"writer\": get_text(html.select_one(\".wrt_nm\")).split(\"/\"),\n",
    "                \"genre\": get_text(html.select_one(\".genre\")).split(\",\"),\n",
    "                \"age\": get_text(html.select_one(\".age\"))\n",
    "            }\n",
    "        },\n",
    "    )\n",
    "    target_url = document[\"url\"]\n",
    "    while True:\n",
    "        target_html = html_parser(target_url, dynamic=False)\n",
    "        target_trs = target_html.select(\"table.viewList>tr\")\n",
    "        for target_tr in target_trs:\n",
    "            if target_tr.get(\"class\") is None:\n",
    "                # mongodb can't save timezone data!!!!! It defaults timezone to UTP+00:00\n",
    "                date = datetime.datetime.strptime(get_text(target_tr.select_one(\".num\")), \"%Y.%m.%d\").replace(tzinfo=datetime.timezone(datetime.timedelta(seconds=32400)))\n",
    "                if date.year == 2020:\n",
    "                    break\n",
    "                if date.year == 2022:\n",
    "                    continue\n",
    "                title = target_tr.select_one(\"td.title>a\")\n",
    "                collection.update_one(\n",
    "                    {\"title\": document[\"title\"]},\n",
    "                    {\n",
    "                        \"$addToSet\": {\n",
    "                            \"episode\": {\n",
    "                                \"no\": int(get_url_query(title.attrs[\"href\"])[\"no\"]),\n",
    "                                \"subno\": get_text(title),\n",
    "                                \"rating\": float(get_text(target_tr.select_one(\".rating_type>strong\"))),\n",
    "                                \"date\": date,\n",
    "                                \"url\":title.attrs[\"href\"]\n",
    "                            }\n",
    "                        }\n",
    "                    },\n",
    "                )\n",
    "        else:\n",
    "            next = target_html.select_one(\".next\")\n",
    "            if next is not None:\n",
    "                target_url = \"https://comic.naver.com\" + next.attrs[\"href\"]\n",
    "                continue\n",
    "        break"
   ]
  },
  {
   "cell_type": "code",
   "execution_count": null,
   "metadata": {},
   "outputs": [],
   "source": [
    "# fix this!!!!!!!!!!!!!!!!!\n",
    "root_episode_url =\"https://comic.naver.com/webtoon/detail\"\n",
    "\n",
    "bar = ProgressBar(len(list(collection.find())))\n",
    "for document in collection.find():    \n",
    "    bar.next()\n",
    "    for episode in document.get(\"episode\", []):\n",
    "        collection.update_one(\n",
    "            {\"title\": document[\"title\"], \"episode.no\":episode[\"no\"]},\n",
    "            {\n",
    "                \"$set\":{\n",
    "                    \"episode.$.url\":set_url_query(root_episode_url, {\"titleId\":document[\"titleId\"], \"no\":episode[\"no\"]}),\n",
    "                    \"episode.$.date\":episode[\"date\"].replace(tzinfo=datetime.timezone(datetime.timedelta(seconds=32400)))\n",
    "                }\n",
    "            }\n",
    "        )"
   ]
  },
  {
   "cell_type": "code",
   "execution_count": null,
   "metadata": {},
   "outputs": [],
   "source": [
    "pprint(list(collection.find()))"
   ]
  },
  {
   "cell_type": "code",
   "execution_count": null,
   "metadata": {},
   "outputs": [],
   "source": [
    "preprocess_expr = {\"$expr\": {\"$gte\": [{\"$divide\": [{\"$size\": \"$episode\"}, {\"$size\": \"$weekday\"}]}, 40]}}\n",
    "preprocess_query = {\"$match\":preprocess_expr}"
   ]
  },
  {
   "cell_type": "code",
   "execution_count": null,
   "metadata": {},
   "outputs": [],
   "source": [
    "pprint(list(collection.find()))"
   ]
  },
  {
   "cell_type": "code",
   "execution_count": null,
   "metadata": {},
   "outputs": [],
   "source": [
    "dateFormat = \"%Y-%m-%dT%H:%M:%S%z\"\n",
    "data = list(collection.find())[:10]\n",
    "bar = ProgressBar(sum(len(i[\"episode\"]) for i in data))\n",
    "for document in data:\n",
    "    for i, episode in enumerate(document[\"episode\"]):\n",
    "        bar.next()\n",
    "        target_url = episode[\"url\"]\n",
    "        pagenum = getJson(target_url)[\"result\"][\"pageModel\"][\"lastPage\"]\n",
    "        if i == len(document[\"episode\"])-1:\n",
    "            end_date = datetime.datetime(2022,1,1).replace(tzinfo=datetime.timezone(datetime.timedelta(seconds=32400)))\n",
    "        else:\n",
    "            end_date = document[\"episode\"][i+1][\"date\"]\n",
    "        wanted_key = [\"idNo\", \"idProvider\", \"contents\", \"country\", \"regTime\", \"sympathyCount\", \"antipathyCount\", \"hiddenByCleanbot\"]\n",
    "        # add best comment\n",
    "        best_comment_json = getJson(target_url, {\"sort\":\"BEST\"})[\"result\"][\"commentList\"]\n",
    "        best_comment_data = []\n",
    "        for best_comment in best_comment_json:\n",
    "            best_comment_data.append(dict_filter(comment_json, wanted_key))\n",
    "        collection.update_one(\n",
    "            {\"title\": document[\"title\"], \"episode.no\":episode[\"no\"]},\n",
    "            {\n",
    "                \"$set\":{\n",
    "                    \"episode.$.comment.best\":comment_data\n",
    "                }\n",
    "            }\n",
    "        )\n",
    "        # add new comment\n",
    "        break_seq = False\n",
    "        comment_data = []\n",
    "        while pagenum > 0 and not break_seq:\n",
    "            comment_json = getJson(target_url, {\"page\":pagenum})\n",
    "            comment_list = comment_json[\"result\"][\"commentList\"][::-1]\n",
    "            for comment in comment_list:\n",
    "                if datetime.datetime.strptime(comment[\"regTime\"], dateFormat) >= end_date:\n",
    "                    break_seq = True\n",
    "                    break\n",
    "                comment_data.append(dict_filter(comment_json, wanted_key))\n",
    "            pagenum -= 1\n",
    "        collection.update_one(\n",
    "            {\"title\": document[\"title\"], \"episode.no\":episode[\"no\"]},\n",
    "            {\n",
    "                \"$set\":{\n",
    "                    \"episode.$.comment.new\":comment_data\n",
    "                }\n",
    "            }\n",
    "        )"
   ]
  },
  {
   "cell_type": "code",
   "execution_count": null,
   "metadata": {},
   "outputs": [],
   "source": [
    "dateFormat = \"%Y-%m-%dT%H:%M:%S%z\"\n",
    "data = list(collection.find())[:1]\n",
    "bar = ProgressBar(sum(len(i[\"episode\"]) for i in data))\n",
    "for document in data:\n",
    "    for i, episode in enumerate(document[\"episode\"]):\n",
    "        bar.next()\n",
    "        target_url = episode[\"url\"]\n",
    "        pagenum = getJson(target_url)[\"result\"][\"pageModel\"][\"lastPage\"]\n",
    "        end_date = datetime.datetime(2022,1,1,tzinfo=datetime.timezone(datetime.timedelta(seconds=32400)))\n",
    "        wanted_key = [\"idNo\", \"idProvider\", \"userName\", \"maskedUserId\" \"contents\", \"country\", \"regTime\", \"sympathyCount\", \"antipathyCount\", \"hiddenByCleanbot\"]\n",
    "        # add comment\n",
    "        comment_data = []\n",
    "        while pagenum > 0:\n",
    "            comment_json = getJson(target_url, {\"page\":pagenum})\n",
    "            comment_list = comment_json[\"result\"][\"commentList\"]\n",
    "            for comment in comment_list:\n",
    "                if datetime.datetime.strptime(comment[\"regTime\"], dateFormat) >= end_date:\n",
    "                    break_seq = True\n",
    "                    break\n",
    "                ####### make regTime to Date\n",
    "                comment_data.append(dict_filter(comment, *wanted_key))\n",
    "            pagenum -= 1\n",
    "        collection.update_one(\n",
    "            {\"title\": document[\"title\"], \"episode.no\":episode[\"no\"]},\n",
    "            {\n",
    "                \"$set\":{\n",
    "                    \"episode.$.comment\":comment_data\n",
    "                }\n",
    "            }\n",
    "        )\n",
    "        break"
   ]
  },
  {
   "cell_type": "code",
   "execution_count": null,
   "metadata": {},
   "outputs": [],
   "source": [
    "# preprocess\n",
    "preprocess_expr = {\"$expr\": {\"$gte\": [{\"$divide\": [{\"$size\": \"$episode\"}, {\"$size\": \"$weekday\"}]}, 40]}}\n",
    "preprocess_query = {\"$match\":preprocess_expr}\n",
    "pre_data = collection.find(\n",
    "    {\"$expr\": {\"$gte\": [{\"$divide\": [{\"$size\": \"$episode\"}, {\"$size\": \"$weekday\"}]}, 40]}}\n",
    ")"
   ]
  },
  {
   "cell_type": "code",
   "execution_count": null,
   "metadata": {},
   "outputs": [],
   "source": [
    "pprint(pre_data)"
   ]
  },
  {
   "cell_type": "code",
   "execution_count": null,
   "metadata": {},
   "outputs": [],
   "source": [
    "avg_rating_query = {\"$project\": {\"_id\": 0, \"title\": 1, \"url\": 1, \"avg_rating\": {\"$avg\": \"$rating_info.rating\"}}}\n",
    "max_rating_webtoon = list(\n",
    "    collection.aggregate([avg_rating_query, {\"$sort\": {\"avg_rating\": -1}}, {\"$limit\": 10}])\n",
    ")\n",
    "min_rating_webtoon = list(collection.aggregate([avg_rating_query, {\"$sort\": {\"avg_rating\": 1}}, {\"$limit\": 10}]))"
   ]
  },
  {
   "cell_type": "code",
   "execution_count": null,
   "metadata": {},
   "outputs": [],
   "source": [
    "pprint(max_rating_webtoon)\n",
    "pprint(min_rating_webtoon)"
   ]
  },
  {
   "cell_type": "code",
   "execution_count": null,
   "metadata": {},
   "outputs": [],
   "source": [
    "import warnings\n",
    "from matplotlib import font_manager, rc\n",
    "\n",
    "warnings.filterwarnings(action=\"ignore\")\n",
    "font_path = \"C:/Windows/Fonts/NGULIM.TTF\"\n",
    "font = font_manager.FontProperties(fname=font_path).get_name()\n",
    "rc(\"font\", family=font)"
   ]
  },
  {
   "cell_type": "code",
   "execution_count": null,
   "metadata": {},
   "outputs": [],
   "source": [
    "plt.bar([data[\"title\"] for data in max_rating_webtoon], [data[\"avg_rating\"] for data in max_rating_webtoon])\n",
    "plt.xticks(rotation=90)\n",
    "ax = plt.gca()\n",
    "ax.set_ylim([9.9, 10])\n",
    "plt.show()\n",
    "plt.bar([data[\"title\"] for data in min_rating_webtoon], [data[\"avg_rating\"] for data in min_rating_webtoon])\n",
    "plt.xticks(rotation=90)\n",
    "ax = plt.gca()\n",
    "ax.set_ylim([0, 10])\n",
    "plt.show()\n"
   ]
  },
  {
   "cell_type": "code",
   "execution_count": null,
   "metadata": {},
   "outputs": [],
   "source": [
    "std_rating_query = {\"$project\": {\"_id\": 0, \"title\": 1, \"url\": 1, \"std_rating\": {\"$stdDevPop\": \"$rating_info.rating\"}}}\n",
    "max_std_rating_webtoon = list(\n",
    "    collection.aggregate([std_rating_query, {\"$sort\": {\"std_rating\": -1}}, {\"$limit\": 10}])\n",
    ")"
   ]
  },
  {
   "cell_type": "code",
   "execution_count": null,
   "metadata": {},
   "outputs": [],
   "source": [
    "pprint(max_std_rating_webtoon)"
   ]
  },
  {
   "cell_type": "code",
   "execution_count": null,
   "metadata": {},
   "outputs": [],
   "source": [
    "for webtoon in max_std_rating_webtoon[:5]:\n",
    "    data = collection.find_one({\"title\": webtoon[\"title\"]})\n",
    "    rating_info = data[\"rating_info\"]\n",
    "    plt.plot(rating_info[\"date\"], rating_info[\"rating\"])\n",
    "    plt.xticks(rotation=90)\n",
    "    plt.title(data[\"title\"])\n",
    "    plt.show()\n"
   ]
  },
  {
   "cell_type": "code",
   "execution_count": null,
   "metadata": {},
   "outputs": [],
   "source": [
    "from scipy import stats\n",
    "\n",
    "for data in collection.find():\n",
    "    time_data = list(map(lambda x: x.timestamp() / 3600 / 24, data[\"rating_info\"][\"date\"]))\n",
    "    rating_data = data[\"rating_info\"][\"rating\"]\n",
    "    result = stats.linregress(time_data, rating_data)\n",
    "    slope, r_squared = result.slope, result.rvalue ** 2\n",
    "    collection.update_one(\n",
    "        {\"title\": data[\"title\"]}, {\"$set\": {\"rating_info.slope\": slope, \"rating_info.r_squared\": r_squared}}\n",
    "    )\n",
    "\n"
   ]
  },
  {
   "cell_type": "code",
   "execution_count": null,
   "metadata": {},
   "outputs": [],
   "source": [
    "def get_total_sum_of_square(x, y):\n",
    "    stats.linregress(time_data)\n",
    "    pass\n"
   ]
  },
  {
   "cell_type": "code",
   "execution_count": null,
   "metadata": {},
   "outputs": [],
   "source": [
    "lin_rating_query = {\"$project\": {\"_id\": 0, \"title\": 1, \"url\": 1, \"slope\": \"$rating_info.slope\"}}\n",
    "inc_rating_webtoon = list(collection.aggregate([lin_rating_query, {\"$sort\": {\"slope\": -1}}, {\"$limit\": 10}]))\n",
    "dec_rating_webtoon = list(collection.aggregate([lin_rating_query, {\"$sort\": {\"slope\": 1}}, {\"$limit\": 10}]))\n",
    "\n"
   ]
  },
  {
   "cell_type": "code",
   "execution_count": null,
   "metadata": {},
   "outputs": [],
   "source": [
    "pprint(dec_rating_webtoon)"
   ]
  },
  {
   "cell_type": "code",
   "execution_count": null,
   "metadata": {},
   "outputs": [],
   "source": [
    "for webtoon in dec_rating_webtoon[:5]:\n",
    "    data = collection.find_one({\"title\": webtoon[\"title\"]})\n",
    "    rating_info = data[\"rating_info\"]\n",
    "    plt.plot(rating_info[\"date\"], rating_info[\"rating\"])\n",
    "    plt.xticks(rotation=90)\n",
    "    plt.title(data[\"title\"])\n",
    "    plt.show()\n"
   ]
  },
  {
   "cell_type": "code",
   "execution_count": null,
   "metadata": {},
   "outputs": [],
   "source": [
    "r_squared_rating_query = {\"$project\": {\"_id\": 0, \"title\": 1, \"url\": 1, \"r_squared\": \"$rating_info.r_squared\"}}\n",
    "min_r_squared_rating_webtoon = list(\n",
    "    collection.aggregate([r_squared_rating_query, {\"$sort\": {\"r_squared\": 1}}, {\"$limit\": 10}])\n",
    ")\n",
    "\n"
   ]
  },
  {
   "cell_type": "code",
   "execution_count": null,
   "metadata": {},
   "outputs": [],
   "source": [
    "list(collection.aggregate([r_squared_rating_query, {\"$sort\": {\"r_squared\": 1}}]))\n",
    "\n"
   ]
  },
  {
   "cell_type": "code",
   "execution_count": null,
   "metadata": {},
   "outputs": [],
   "source": [
    "min_r_squared_rating_webtoon\n"
   ]
  },
  {
   "cell_type": "code",
   "execution_count": null,
   "metadata": {},
   "outputs": [],
   "source": [
    "for webtoon in min_r_squared_rating_webtoon[:5]:\n",
    "    data = collection.find_one({\"title\": webtoon[\"title\"]})\n",
    "    rating_info = data[\"rating_info\"]\n",
    "    plt.plot(rating_info[\"date\"], rating_info[\"rating\"])\n",
    "    plt.xticks(rotation=90)\n",
    "    plt.title(data[\"title\"])\n",
    "    plt.show()\n"
   ]
  }
 ],
 "metadata": {
  "interpreter": {
   "hash": "d9a2a7e76be0666fe27d557e389290381784232b36828a7affb84ce52a0a0717"
  },
  "kernelspec": {
   "display_name": "Python 3.9.7 64-bit ('pybook': conda)",
   "language": "python",
   "name": "python3"
  },
  "language_info": {
   "codemirror_mode": {
    "name": "ipython",
    "version": 3
   },
   "file_extension": ".py",
   "mimetype": "text/x-python",
   "name": "python",
   "nbconvert_exporter": "python",
   "pygments_lexer": "ipython3",
   "version": "3.9.10"
  },
  "orig_nbformat": 4
 },
 "nbformat": 4,
 "nbformat_minor": 2
}
