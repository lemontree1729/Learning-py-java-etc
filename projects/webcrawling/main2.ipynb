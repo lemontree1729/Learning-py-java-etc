{
 "cells": [
  {
   "cell_type": "code",
   "execution_count": 1,
   "metadata": {},
   "outputs": [],
   "source": [
    "from crawling import *\n",
    "import datetime\n",
    "import pandas as pd\n",
    "import numpy as np\n",
    "import matplotlib.pyplot as plt\n",
    "from pprint import pprint\n",
    "from pymongo import MongoClient\n",
    "# need dnspython, PyOpenSSL, requests and service_identity for srv and ocsp\n",
    "from urllib import parse\n",
    "from naverapi import *"
   ]
  },
  {
   "cell_type": "code",
   "execution_count": 2,
   "metadata": {},
   "outputs": [],
   "source": [
    "client = MongoClient(\n",
    "    \"mongodb+srv://cluster0.c6ccx.mongodb.net\",\n",
    "    authsource=\"$external\",\n",
    "    authmechanism=\"MONGODB-X509\",\n",
    "    tls=True,\n",
    "    tlsCertificateKeyFile=\"../../../mongodb.pem\",\n",
    ")\n",
    "db = client[\"webtoon\"]\n",
    "collection = db[\"data\"]\n",
    "collection_backup = db[\"backup\"]\n",
    "collection_backup2 = db[\"backup2\"]"
   ]
  },
  {
   "cell_type": "code",
   "execution_count": null,
   "metadata": {},
   "outputs": [],
   "source": [
    "dateFormat = \"%Y-%m-%dT%H:%M:%S%z\"\n",
    "data = list(collection.find())[:10]\n",
    "bar = ProgressBar(sum(len(i[\"episode\"]) for i in data))\n",
    "for document in data:\n",
    "    for i, episode in enumerate(document[\"episode\"]):\n",
    "        bar.next()\n",
    "        target_url = episode[\"url\"]\n",
    "        pagenum = getJson(target_url)[\"result\"][\"pageModel\"][\"lastPage\"]\n",
    "        if i == len(document[\"episode\"])-1:\n",
    "            end_date = datetime.datetime(2022,1,1).replace(tzinfo=datetime.timezone(datetime.timedelta(seconds=32400)))\n",
    "        else:\n",
    "            end_date = document[\"episode\"][i+1][\"date\"]\n",
    "        wanted_key = [\"idNo\", \"idProvider\", \"contents\", \"country\", \"regTime\", \"sympathyCount\", \"antipathyCount\", \"hiddenByCleanbot\"]\n",
    "        # add best comment\n",
    "        best_comment_json = getJson(target_url, {\"sort\":\"BEST\"})[\"result\"][\"commentList\"]\n",
    "        best_comment_data = []\n",
    "        for best_comment in best_comment_json:\n",
    "            best_comment_data.append(dict_filter(comment_json, wanted_key))\n",
    "        collection.update_one(\n",
    "            {\"title\": document[\"title\"], \"episode.no\":episode[\"no\"]},\n",
    "            {\n",
    "                \"$set\":{\n",
    "                    \"episode.$.comment.best\":comment_data\n",
    "                }\n",
    "            }\n",
    "        )\n",
    "        # add new comment\n",
    "        break_seq = False\n",
    "        comment_data = []\n",
    "        while pagenum > 0 and not break_seq:\n",
    "            comment_json = getJson(target_url, {\"page\":pagenum})\n",
    "            comment_list = comment_json[\"result\"][\"commentList\"][::-1]\n",
    "            for comment in comment_list:\n",
    "                if datetime.datetime.strptime(comment[\"regTime\"], dateFormat) >= end_date:\n",
    "                    break_seq = True\n",
    "                    break\n",
    "                comment_data.append(dict_filter(comment_json, wanted_key))\n",
    "            pagenum -= 1\n",
    "        collection.update_one(\n",
    "            {\"title\": document[\"title\"], \"episode.no\":episode[\"no\"]},\n",
    "            {\n",
    "                \"$set\":{\n",
    "                    \"episode.$.comment.new\":comment_data\n",
    "                }\n",
    "            }\n",
    "        )"
   ]
  }
 ],
 "metadata": {
  "interpreter": {
   "hash": "d9a2a7e76be0666fe27d557e389290381784232b36828a7affb84ce52a0a0717"
  },
  "kernelspec": {
   "display_name": "Python 3.9.10 ('pybook')",
   "language": "python",
   "name": "python3"
  },
  "language_info": {
   "codemirror_mode": {
    "name": "ipython",
    "version": 3
   },
   "file_extension": ".py",
   "mimetype": "text/x-python",
   "name": "python",
   "nbconvert_exporter": "python",
   "pygments_lexer": "ipython3",
   "version": "3.9.10"
  },
  "orig_nbformat": 4
 },
 "nbformat": 4,
 "nbformat_minor": 2
}
