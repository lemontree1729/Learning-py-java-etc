{
 "cells": [
  {
   "cell_type": "code",
   "execution_count": null,
   "metadata": {},
   "outputs": [],
   "source": [
    "from crawling import *\n",
    "import datetime\n",
    "import matplotlib.pyplot as plt\n",
    "from pprint import pprint\n",
    "from pymongo import MongoClient\n",
    "# need dnspython for srv"
   ]
  },
  {
   "cell_type": "code",
   "execution_count": null,
   "metadata": {},
   "outputs": [],
   "source": [
    "client = MongoClient(\n",
    "    \"mongodb+srv://cluster0.c6ccx.mongodb.net\",\n",
    "    authsource=\"$external\",\n",
    "    authmechanism=\"MONGODB-X509\",\n",
    "    tls=True,\n",
    "    tlsCertificateKeyFile=\"../../../mongodb.pem\",\n",
    ")\n",
    "db = client[\"project\"]\n",
    "collection = db[\"webtoon\"]\n",
    "wordcloud = db[\"wordcloud\"]\n",
    "collection_backup = db[\"backup\"]\n",
    "collection_backup2 = db[\"backup2\"]"
   ]
  },
  {
   "cell_type": "code",
   "execution_count": null,
   "metadata": {},
   "outputs": [],
   "source": [
    "# first process\n",
    "root_url = \"https://comic.naver.com/webtoon/weekday\"\n",
    "# 개인용 프로그레스바 생성\n",
    "bar = ProgressBar(len(html_parser(root_url, dynamic=False).select(\".thumb>a\")))\n",
    "# css 선택자를 통해서 타이틀, 연재요일 등등을 가져옴\n",
    "for tag in html_parser(root_url, dynamic=False).select(\".thumb>a\"):\n",
    "    bar.next()\n",
    "    title = tag.select_one(\"img\").attrs[\"title\"]\n",
    "    url = \"https://comic.naver.com\" + tag.attrs[\"href\"]\n",
    "    url_query = get_url_query(url)\n",
    "    weekday = url_query[\"weekday\"]\n",
    "    titleId = url_query[\"titleId\"]\n",
    "    # 데이터 베이스 입력\n",
    "    if collection.find_one({\"title\": title}):\n",
    "        collection.update_one({\"title\": title}, {\"$addToSet\": {\"weekday\": weekday}})\n",
    "    else:\n",
    "        collection.insert_one({\"title\": title, \"url\": url, \"weekday\": [weekday], \"titleId\": titleId})\n",
    "len(list(collection.find())) # different from expacted value because of duplicate"
   ]
  },
  {
   "cell_type": "code",
   "execution_count": null,
   "metadata": {},
   "outputs": [],
   "source": [
    "import sys\n",
    "\n",
    "# datetime has smaller size than string!\n",
    "print(sys.getsizeof(datetime.datetime(2021, 8, 21)), sys.getsizeof(\"2021.08.21\"))"
   ]
  },
  {
   "cell_type": "code",
   "execution_count": null,
   "metadata": {},
   "outputs": [],
   "source": [
    "# second process with progressbar\n",
    "first_data = list(collection.find())\n",
    "bar = ProgressBar(len(first_data))\n",
    "for document in first_data:\n",
    "    bar.next()\n",
    "    # 웹툰 하나마다 작가, 장르, 연령을 가져옴\n",
    "    html = html_parser(document[\"url\"], dynamic=False)\n",
    "    collection.update_one(\n",
    "        {\"title\": document[\"title\"]},\n",
    "        {\n",
    "            \"$set\": {\n",
    "                \"writer\": get_text(html.select_one(\".wrt_nm\")).split(\"/\"),\n",
    "                \"genre\": get_text(html.select_one(\".genre\")).split(\",\"),\n",
    "                \"age\": get_text(html.select_one(\".age\"))\n",
    "            }\n",
    "        },\n",
    "    )\n",
    "\n",
    "    target_url = document[\"url\"]\n",
    "    # 웹툰 한 화를 각각 들어감\n",
    "    while True:\n",
    "        target_html = html_parser(target_url, dynamic=False)\n",
    "        target_trs = target_html.select(\"table.viewList>tr\")\n",
    "        for target_tr in target_trs:\n",
    "            if target_tr.get(\"class\") is None:\n",
    "                # mongodb can't save timezone data!!!!! It defaults timezone to UTP+00:00\n",
    "                # 웹툰이 올라온 날짜\n",
    "                date = datetime.datetime.strptime(get_text(target_tr.select_one(\".num\")), \"%Y.%m.%d\").replace(tzinfo=datetime.timezone(datetime.timedelta(seconds=32400)))\n",
    "                # 2021년의 웹툰만 필터링\n",
    "                if date.year == 2020:\n",
    "                    break\n",
    "                if date.year == 2022:\n",
    "                    continue\n",
    "                title = target_tr.select_one(\"td.title>a\")\n",
    "                # 웹툰 한 화의 고유번호, 화 이름, 별점, 올린 날짜, 링크를 데이터베이스에 저장\n",
    "                collection.update_one(\n",
    "                    {\"title\": document[\"title\"]},\n",
    "                    {\n",
    "                        \"$addToSet\": {\n",
    "                            \"episode\": {\n",
    "                                \"no\": int(get_url_query(title.attrs[\"href\"])[\"no\"]),\n",
    "                                \"subno\": get_text(title),\n",
    "                                \"rating\": float(get_text(target_tr.select_one(\".rating_type>strong\"))),\n",
    "                                \"date\": date,\n",
    "                                \"url\":\"https://comic.naver.com\"+title.attrs[\"href\"]\n",
    "                            }\n",
    "                        }\n",
    "                    },\n",
    "                )\n",
    "        else:\n",
    "            # 다음페이지로 넘어감\n",
    "            next = target_html.select_one(\".next\")\n",
    "            if next is not None:\n",
    "                target_url = \"https://comic.naver.com\" + next.attrs[\"href\"]\n",
    "                continue\n",
    "        break"
   ]
  },
  {
   "cell_type": "code",
   "execution_count": null,
   "metadata": {},
   "outputs": [],
   "source": [
    "pprint(list(collection.find())[:10])"
   ]
  },
  {
   "cell_type": "code",
   "execution_count": null,
   "metadata": {},
   "outputs": [],
   "source": [
    "# 연재주가 최소 40주 이상인 웹툰을 가져오는 쿼리\n",
    "preprocess_expr = {\"$expr\": {\"$gte\": [{\"$divide\": [{\"$size\": {\"$ifNull\":[\"$episode\",[]]}}, {\"$size\": \"$weekday\"}]}, 40]}}\n",
    "preprocess_query = {\"$match\":preprocess_expr}\n",
    "len(list(collection.find(preprocess_expr)))"
   ]
  },
  {
   "cell_type": "code",
   "execution_count": null,
   "metadata": {},
   "outputs": [],
   "source": [
    "avg_rating_query = [{\"$unwind\":\"$episode\"}, {\"$group\": {\"_id\": \"$title\", \"title\": {\"$first\":\"$title\"}, \"url\": {\"$first\":\"$url\"}, \"avg_rating\": {\"$avg\": \"$episode.rating\"}}}]\n",
    "max_rating_webtoon = list(collection.aggregate([preprocess_query, *avg_rating_query, {\"$sort\": {\"avg_rating\": -1}}]))\n",
    "min_rating_webtoon = list(collection.aggregate([preprocess_query, *avg_rating_query, {\"$sort\": {\"avg_rating\": 1}}]))"
   ]
  },
  {
   "cell_type": "code",
   "execution_count": null,
   "metadata": {},
   "outputs": [],
   "source": [
    "pprint(max_rating_webtoon[:10])\n",
    "pprint(min_rating_webtoon[:10])"
   ]
  },
  {
   "cell_type": "code",
   "execution_count": null,
   "metadata": {},
   "outputs": [],
   "source": [
    "import warnings\n",
    "from matplotlib import font_manager, rc\n",
    "\n",
    "# ignore warning\n",
    "warnings.filterwarnings(action=\"ignore\")\n",
    "# add hangul font\n",
    "font_path = \"C:/Windows/Fonts/NGULIM.TTF\"\n",
    "font = font_manager.FontProperties(fname=font_path).get_name()\n",
    "rc(\"font\", family=font)"
   ]
  },
  {
   "cell_type": "code",
   "execution_count": null,
   "metadata": {},
   "outputs": [],
   "source": [
    "plt.bar([data[\"title\"] for data in max_rating_webtoon[:10]], [data[\"avg_rating\"] for data in max_rating_webtoon[:10]])\n",
    "plt.xticks(rotation=90)\n",
    "ax = plt.gca()\n",
    "ax.set_ylim([9.9, 10])\n",
    "plt.show()\n",
    "plt.bar([data[\"title\"] for data in min_rating_webtoon[:10]], [data[\"avg_rating\"] for data in min_rating_webtoon[:10]])\n",
    "plt.xticks(rotation=90)\n",
    "ax = plt.gca()\n",
    "ax.set_ylim([0, 10])\n",
    "plt.show()"
   ]
  },
  {
   "cell_type": "code",
   "execution_count": null,
   "metadata": {},
   "outputs": [],
   "source": [
    "std_rating_query = [{\"$unwind\":\"$episode\"}, {\"$group\": {\"_id\": \"$title\", \"title\": {\"$first\":\"$title\"}, \"url\": {\"$first\":\"$url\"}, \"std_rating\": {\"$stdDevPop\": \"$episode.rating\"}}}]\n",
    "max_std_rating_webtoon = list(collection.aggregate([preprocess_query, *std_rating_query, {\"$sort\": {\"std_rating\": -1}}]))\n",
    "min_std_rating_webtoon = list(collection.aggregate([preprocess_query, *std_rating_query, {\"$sort\": {\"std_rating\": 1}}]))"
   ]
  },
  {
   "cell_type": "code",
   "execution_count": null,
   "metadata": {},
   "outputs": [],
   "source": [
    "pprint(max_std_rating_webtoon[:10])\n",
    "pprint(min_std_rating_webtoon[:10])"
   ]
  },
  {
   "cell_type": "code",
   "execution_count": null,
   "metadata": {},
   "outputs": [],
   "source": [
    "for webtoon in max_std_rating_webtoon[:5]:\n",
    "    data = collection.find_one({\"title\": webtoon[\"title\"]})\n",
    "    date_data = [episode[\"date\"] for episode in data[\"episode\"]]\n",
    "    rating_data = [episode[\"rating\"] for episode in data[\"episode\"]]\n",
    "    plt.plot(date_data, rating_data)\n",
    "    plt.xticks(rotation=90)\n",
    "    plt.title(data[\"title\"])\n",
    "    plt.show()\n",
    "for webtoon in min_std_rating_webtoon[:5]:\n",
    "    data = collection.find_one({\"title\": webtoon[\"title\"]})\n",
    "    date_data = [episode[\"date\"] for episode in data[\"episode\"]]\n",
    "    rating_data = [episode[\"rating\"] for episode in data[\"episode\"]]\n",
    "    plt.plot(date_data, rating_data)\n",
    "    plt.xticks(rotation=90)\n",
    "    plt.title(data[\"title\"])\n",
    "    plt.show()"
   ]
  },
  {
   "cell_type": "code",
   "execution_count": null,
   "metadata": {},
   "outputs": [],
   "source": [
    "from scipy import stats\n",
    "\n",
    "for data in collection.find():\n",
    "    if data.get(\"episode\") is not None:\n",
    "        date = [episode[\"date\"] for episode in data[\"episode\"]]\n",
    "        rating_data = [episode[\"rating\"] for episode in data[\"episode\"]]\n",
    "        second_data = list(map(lambda x: x.timestamp() / 3600 / 24, date))\n",
    "        result = stats.linregress(second_data, rating_data)._asdict()\n",
    "        collection.update_one(\n",
    "            {\"title\": data[\"title\"]}, {\"$set\": {\"analysis\":result}}\n",
    "        )"
   ]
  },
  {
   "cell_type": "code",
   "execution_count": null,
   "metadata": {},
   "outputs": [],
   "source": [
    "pprint(list(collection.find())[:10])"
   ]
  },
  {
   "cell_type": "code",
   "execution_count": null,
   "metadata": {},
   "outputs": [],
   "source": [
    "lin_rating_query = {\"$project\": {\"_id\": 0, \"title\": 1, \"url\": 1, \"slope\": \"$analysis.slope\"}}\n",
    "inc_rating_webtoon = list(collection.aggregate([preprocess_query, lin_rating_query, {\"$sort\": {\"slope\": -1}}]))\n",
    "dec_rating_webtoon = list(collection.aggregate([preprocess_query, lin_rating_query, {\"$sort\": {\"slope\": 1}}]))"
   ]
  },
  {
   "cell_type": "code",
   "execution_count": null,
   "metadata": {},
   "outputs": [],
   "source": [
    "pprint(inc_rating_webtoon[:10])\n",
    "pprint(dec_rating_webtoon[:10])"
   ]
  },
  {
   "cell_type": "code",
   "execution_count": null,
   "metadata": {},
   "outputs": [],
   "source": [
    "for webtoon in inc_rating_webtoon[:5]:\n",
    "    data = collection.find_one({\"title\": webtoon[\"title\"]})\n",
    "    date_data = [episode[\"date\"] for episode in data[\"episode\"]]\n",
    "    rating_data = [episode[\"rating\"] for episode in data[\"episode\"]]\n",
    "    plt.plot(date_data, rating_data)\n",
    "    plt.xticks(rotation=90)\n",
    "    plt.title(data[\"title\"])\n",
    "    plt.show()\n",
    "for webtoon in dec_rating_webtoon[:5]:\n",
    "    data = collection.find_one({\"title\": webtoon[\"title\"]})\n",
    "    date_data = [episode[\"date\"] for episode in data[\"episode\"]]\n",
    "    rating_data = [episode[\"rating\"] for episode in data[\"episode\"]]\n",
    "    plt.plot(date_data, rating_data)\n",
    "    plt.xticks(rotation=90)\n",
    "    plt.title(data[\"title\"])\n",
    "    plt.show()"
   ]
  },
  {
   "cell_type": "code",
   "execution_count": null,
   "metadata": {},
   "outputs": [],
   "source": [
    "r_squared_rating_query = {\"$project\": {\"_id\": 0, \"title\": 1, \"url\": 1, \"r_squared\": {\"$pow\":[\"$analysis.rvalue\", 2]}}}\n",
    "min_r_squared_rating_webtoon = list(\n",
    "    collection.aggregate([preprocess_query, r_squared_rating_query, {\"$sort\": {\"r_squared\": 1}}, {\"$limit\": 10}])\n",
    ")"
   ]
  },
  {
   "cell_type": "code",
   "execution_count": null,
   "metadata": {},
   "outputs": [],
   "source": [
    "pprint(min_r_squared_rating_webtoon[:10])"
   ]
  },
  {
   "cell_type": "code",
   "execution_count": null,
   "metadata": {},
   "outputs": [],
   "source": [
    "for webtoon in min_r_squared_rating_webtoon[:5]:\n",
    "    data = collection.find_one({\"title\": webtoon[\"title\"]})\n",
    "    date_data = [episode[\"date\"] for episode in data[\"episode\"]]\n",
    "    rating_data = [episode[\"rating\"] for episode in data[\"episode\"]]\n",
    "    plt.plot(date_data, rating_data)\n",
    "    plt.xticks(rotation=90)\n",
    "    plt.title(data[\"title\"])\n",
    "    plt.show()"
   ]
  },
  {
   "cell_type": "code",
   "execution_count": null,
   "metadata": {},
   "outputs": [],
   "source": [
    "# all data to word cloud\n",
    "wordcloud.insert_one({\n",
    "    \"max_mean_rating\":max_rating_webtoon[:5],\n",
    "    \"min_mean_rating\":min_rating_webtoon[:5],\n",
    "    \"max_std_rating\":max_std_rating_webtoon[:5],\n",
    "    \"min_std_rating\":min_std_rating_webtoon[:5],\n",
    "    \"inc_rating\":inc_rating_webtoon[:5],\n",
    "    \"dec_rating\":dec_rating_webtoon[:5],\n",
    "    \"min_r_squared_rating\":min_r_squared_rating_webtoon[:5]\n",
    "    }\n",
    ")"
   ]
  },
  {
   "cell_type": "code",
   "execution_count": null,
   "metadata": {},
   "outputs": [],
   "source": [
    "wordcloud.update_one({},{\n",
    "    \"$set\":{\n",
    "    \"max_mean_rating\":max_rating_webtoon[:5],\n",
    "    \"min_mean_rating\":min_rating_webtoon[:5],\n",
    "    \"max_std_rating\":max_std_rating_webtoon[:5],\n",
    "    \"min_std_rating\":min_std_rating_webtoon[:5],\n",
    "    \"inc_rating\":inc_rating_webtoon[:5],\n",
    "    \"dec_rating\":dec_rating_webtoon[:5],\n",
    "    \"min_r_squared_rating\":min_r_squared_rating_webtoon[:5]\n",
    "    }\n",
    "})"
   ]
  },
  {
   "cell_type": "code",
   "execution_count": null,
   "metadata": {},
   "outputs": [],
   "source": [
    "pprint(list(wordcloud.find()))"
   ]
  }
 ],
 "metadata": {
  "interpreter": {
   "hash": "d9a2a7e76be0666fe27d557e389290381784232b36828a7affb84ce52a0a0717"
  },
  "kernelspec": {
   "display_name": "Python 3.9.10 ('pybook')",
   "language": "python",
   "name": "python3"
  },
  "language_info": {
   "codemirror_mode": {
    "name": "ipython",
    "version": 3
   },
   "file_extension": ".py",
   "mimetype": "text/x-python",
   "name": "python",
   "nbconvert_exporter": "python",
   "pygments_lexer": "ipython3",
   "version": "3.9.10"
  },
  "orig_nbformat": 4
 },
 "nbformat": 4,
 "nbformat_minor": 2
}
